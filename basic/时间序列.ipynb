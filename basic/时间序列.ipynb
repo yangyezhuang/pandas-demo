{
 "cells": [
  {
   "cell_type": "markdown",
   "metadata": {},
   "source": [
    "# datetime构造"
   ]
  },
  {
   "cell_type": "code",
   "execution_count": 1,
   "metadata": {},
   "outputs": [
    {
     "data": {
      "text/plain": [
       "datetime.date(2021, 10, 23)"
      ]
     },
     "execution_count": 1,
     "metadata": {},
     "output_type": "execute_result"
    }
   ],
   "source": [
    "import datetime\n",
    "\n",
    "date = datetime.date(2021,10,23)\n",
    "date"
   ]
  },
  {
   "cell_type": "code",
   "execution_count": 2,
   "metadata": {},
   "outputs": [
    {
     "data": {
      "text/plain": [
       "2021"
      ]
     },
     "execution_count": 2,
     "metadata": {},
     "output_type": "execute_result"
    }
   ],
   "source": [
    "date.year"
   ]
  },
  {
   "cell_type": "code",
   "execution_count": 3,
   "metadata": {},
   "outputs": [
    {
     "data": {
      "text/plain": [
       "23"
      ]
     },
     "execution_count": 3,
     "metadata": {},
     "output_type": "execute_result"
    }
   ],
   "source": [
    "date.day"
   ]
  },
  {
   "cell_type": "code",
   "execution_count": 4,
   "metadata": {},
   "outputs": [
    {
     "data": {
      "text/plain": [
       "datetime.time(9, 10, 34)"
      ]
     },
     "execution_count": 4,
     "metadata": {},
     "output_type": "execute_result"
    }
   ],
   "source": [
    "time = datetime.time(9,10,34)\n",
    "time"
   ]
  },
  {
   "cell_type": "code",
   "execution_count": 5,
   "metadata": {},
   "outputs": [
    {
     "data": {
      "text/plain": [
       "9"
      ]
     },
     "execution_count": 5,
     "metadata": {},
     "output_type": "execute_result"
    }
   ],
   "source": [
    "time.hour"
   ]
  },
  {
   "cell_type": "code",
   "execution_count": 6,
   "metadata": {},
   "outputs": [
    {
     "data": {
      "text/plain": [
       "34"
      ]
     },
     "execution_count": 6,
     "metadata": {},
     "output_type": "execute_result"
    }
   ],
   "source": [
    "time.second"
   ]
  },
  {
   "cell_type": "code",
   "execution_count": 9,
   "metadata": {},
   "outputs": [
    {
     "data": {
      "text/plain": [
       "datetime.datetime(2021, 10, 23, 21, 33, 10, 132797)"
      ]
     },
     "execution_count": 9,
     "metadata": {},
     "output_type": "execute_result"
    }
   ],
   "source": [
    "now_date = datetime.datetime.now()\n",
    "now_date"
   ]
  },
  {
   "cell_type": "code",
   "execution_count": 11,
   "metadata": {},
   "outputs": [
    {
     "data": {
      "text/plain": [
       "datetime.timedelta(days=232, seconds=44470, microseconds=132797)"
      ]
     },
     "execution_count": 11,
     "metadata": {},
     "output_type": "execute_result"
    }
   ],
   "source": [
    "delta = now_date-datetime.datetime(2021,3,5,9,12)\n",
    "delta"
   ]
  },
  {
   "cell_type": "markdown",
   "metadata": {},
   "source": [
    "# 数据转换"
   ]
  },
  {
   "cell_type": "code",
   "execution_count": 12,
   "metadata": {},
   "outputs": [
    {
     "data": {
      "text/plain": [
       "datetime.datetime(2021, 10, 23, 0, 0)"
      ]
     },
     "execution_count": 12,
     "metadata": {},
     "output_type": "execute_result"
    }
   ],
   "source": [
    "# 通过 str方法可以将 datetime转换为字符串\n",
    "\n",
    "from datetime import datetime\n",
    "\n",
    "stamp = datetime(2021,10,23)\n",
    "stamp"
   ]
  },
  {
   "cell_type": "code",
   "execution_count": 13,
   "metadata": {},
   "outputs": [
    {
     "data": {
      "text/plain": [
       "'2021-10-23 00:00:00'"
      ]
     },
     "execution_count": 13,
     "metadata": {},
     "output_type": "execute_result"
    }
   ],
   "source": [
    "str(stamp)"
   ]
  },
  {
   "cell_type": "code",
   "execution_count": 14,
   "metadata": {},
   "outputs": [
    {
     "data": {
      "text/plain": [
       "'2021/10/23'"
      ]
     },
     "execution_count": 14,
     "metadata": {},
     "output_type": "execute_result"
    }
   ],
   "source": [
    "stamp.strftime('%Y/%m/%d')"
   ]
  },
  {
   "cell_type": "code",
   "execution_count": 15,
   "metadata": {},
   "outputs": [
    {
     "data": {
      "text/plain": [
       "'2021-10-23'"
      ]
     },
     "execution_count": 15,
     "metadata": {},
     "output_type": "execute_result"
    }
   ],
   "source": [
    "stamp.strftime('%Y-%m-%d')"
   ]
  },
  {
   "cell_type": "code",
   "execution_count": 16,
   "metadata": {},
   "outputs": [
    {
     "data": {
      "text/plain": [
       "'42'"
      ]
     },
     "execution_count": 16,
     "metadata": {},
     "output_type": "execute_result"
    }
   ],
   "source": [
    "stamp.strftime('%W') # 每年的第几周，星期一作为每周第一天"
   ]
  },
  {
   "cell_type": "code",
   "execution_count": 18,
   "metadata": {},
   "outputs": [
    {
     "data": {
      "text/plain": [
       "datetime.datetime(2018, 4, 12, 0, 0)"
      ]
     },
     "execution_count": 18,
     "metadata": {},
     "output_type": "execute_result"
    }
   ],
   "source": [
    "# 通过 datetime.strptime 方法可以将字符串格式转换为 datetime数据类型\n",
    "\n",
    "value = '2018-4-12'\n",
    "\n",
    "datetime.strptime(value,'%Y-%m-%d')"
   ]
  },
  {
   "cell_type": "markdown",
   "metadata": {},
   "source": [
    "# 在pandas中，通过to_datetime 方法将字符串格式转换为时间数据类型"
   ]
  },
  {
   "cell_type": "code",
   "execution_count": 9,
   "metadata": {},
   "outputs": [
    {
     "data": {
      "text/html": [
       "<div>\n",
       "<style scoped>\n",
       "    .dataframe tbody tr th:only-of-type {\n",
       "        vertical-align: middle;\n",
       "    }\n",
       "\n",
       "    .dataframe tbody tr th {\n",
       "        vertical-align: top;\n",
       "    }\n",
       "\n",
       "    .dataframe thead th {\n",
       "        text-align: right;\n",
       "    }\n",
       "</style>\n",
       "<table border=\"1\" class=\"dataframe\">\n",
       "  <thead>\n",
       "    <tr style=\"text-align: right;\">\n",
       "      <th></th>\n",
       "      <th>city</th>\n",
       "      <th>local</th>\n",
       "      <th>total_price</th>\n",
       "      <th>unit_price</th>\n",
       "      <th>layout</th>\n",
       "      <th>area</th>\n",
       "      <th>floor</th>\n",
       "      <th>time</th>\n",
       "      <th>title</th>\n",
       "    </tr>\n",
       "  </thead>\n",
       "  <tbody>\n",
       "    <tr>\n",
       "      <th>0</th>\n",
       "      <td>苏州</td>\n",
       "      <td>昆山</td>\n",
       "      <td>173.0</td>\n",
       "      <td>10035</td>\n",
       "      <td>3室1厅</td>\n",
       "      <td>172.40</td>\n",
       "      <td>48.0</td>\n",
       "      <td>2021-03-18</td>\n",
       "      <td>世茂蝶湖湾 3室1厅 南 北</td>\n",
       "    </tr>\n",
       "    <tr>\n",
       "      <th>1</th>\n",
       "      <td>北京</td>\n",
       "      <td>朝阳</td>\n",
       "      <td>645.0</td>\n",
       "      <td>75731</td>\n",
       "      <td>2室1厅</td>\n",
       "      <td>85.17</td>\n",
       "      <td>6.0</td>\n",
       "      <td>2020-09-20</td>\n",
       "      <td>首开常青藤四期 精装两居 南北通透 电梯洋房</td>\n",
       "    </tr>\n",
       "    <tr>\n",
       "      <th>2</th>\n",
       "      <td>苏州</td>\n",
       "      <td>工业园区</td>\n",
       "      <td>120.0</td>\n",
       "      <td>28170</td>\n",
       "      <td>1室1厅</td>\n",
       "      <td>42.60</td>\n",
       "      <td>4.0</td>\n",
       "      <td>2021-03-21</td>\n",
       "      <td>淞泽家园九区 通透一房 业主诚心出售 视野好 位置好</td>\n",
       "    </tr>\n",
       "    <tr>\n",
       "      <th>3</th>\n",
       "      <td>苏州</td>\n",
       "      <td>相城</td>\n",
       "      <td>172.0</td>\n",
       "      <td>21492</td>\n",
       "      <td>2室1厅</td>\n",
       "      <td>80.03</td>\n",
       "      <td>30.0</td>\n",
       "      <td>2021-03-24</td>\n",
       "      <td>庆元家园，地铁2号线，交通方便，元和板块</td>\n",
       "    </tr>\n",
       "    <tr>\n",
       "      <th>4</th>\n",
       "      <td>苏州</td>\n",
       "      <td>昆山</td>\n",
       "      <td>180.0</td>\n",
       "      <td>20738</td>\n",
       "      <td>3室1厅</td>\n",
       "      <td>86.80</td>\n",
       "      <td>30.0</td>\n",
       "      <td>2021-03-28</td>\n",
       "      <td>花桥裕花园 3室1厅 南</td>\n",
       "    </tr>\n",
       "  </tbody>\n",
       "</table>\n",
       "</div>"
      ],
      "text/plain": [
       "  city local  total_price  unit_price layout    area  floor        time  \\\n",
       "0   苏州    昆山        173.0       10035   3室1厅  172.40   48.0  2021-03-18   \n",
       "1   北京    朝阳        645.0       75731   2室1厅   85.17    6.0  2020-09-20   \n",
       "2   苏州  工业园区        120.0       28170   1室1厅   42.60    4.0  2021-03-21   \n",
       "3   苏州    相城        172.0       21492   2室1厅   80.03   30.0  2021-03-24   \n",
       "4   苏州    昆山        180.0       20738   3室1厅   86.80   30.0  2021-03-28   \n",
       "\n",
       "                        title  \n",
       "0              世茂蝶湖湾 3室1厅 南 北  \n",
       "1      首开常青藤四期 精装两居 南北通透 电梯洋房  \n",
       "2  淞泽家园九区 通透一房 业主诚心出售 视野好 位置好  \n",
       "3        庆元家园，地铁2号线，交通方便，元和板块  \n",
       "4                花桥裕花园 3室1厅 南  "
      ]
     },
     "execution_count": 9,
     "metadata": {},
     "output_type": "execute_result"
    }
   ],
   "source": [
    "import pandas as pd\n",
    "from datetime import datetime\n",
    "\n",
    "df = pd.read_csv('../data/hotCityHouses.csv')\n",
    "df.head()"
   ]
  },
  {
   "cell_type": "code",
   "execution_count": 16,
   "metadata": {},
   "outputs": [
    {
     "data": {
      "text/plain": [
       "'2021'"
      ]
     },
     "execution_count": 16,
     "metadata": {},
     "output_type": "execute_result"
    }
   ],
   "source": [
    "x ='2021-03-18'\n",
    "date = datetime.strptime(x,'%Y-%m-%d')\n",
    "date.strftime('%Y')"
   ]
  },
  {
   "cell_type": "code",
   "execution_count": 17,
   "metadata": {},
   "outputs": [
    {
     "data": {
      "text/html": [
       "<div>\n",
       "<style scoped>\n",
       "    .dataframe tbody tr th:only-of-type {\n",
       "        vertical-align: middle;\n",
       "    }\n",
       "\n",
       "    .dataframe tbody tr th {\n",
       "        vertical-align: top;\n",
       "    }\n",
       "\n",
       "    .dataframe thead th {\n",
       "        text-align: right;\n",
       "    }\n",
       "</style>\n",
       "<table border=\"1\" class=\"dataframe\">\n",
       "  <thead>\n",
       "    <tr style=\"text-align: right;\">\n",
       "      <th></th>\n",
       "      <th>city</th>\n",
       "      <th>local</th>\n",
       "      <th>total_price</th>\n",
       "      <th>unit_price</th>\n",
       "      <th>layout</th>\n",
       "      <th>area</th>\n",
       "      <th>floor</th>\n",
       "      <th>time</th>\n",
       "      <th>title</th>\n",
       "    </tr>\n",
       "  </thead>\n",
       "  <tbody>\n",
       "    <tr>\n",
       "      <th>0</th>\n",
       "      <td>苏州</td>\n",
       "      <td>昆山</td>\n",
       "      <td>173.0</td>\n",
       "      <td>10035</td>\n",
       "      <td>3室1厅</td>\n",
       "      <td>172.40</td>\n",
       "      <td>48.0</td>\n",
       "      <td>2021</td>\n",
       "      <td>世茂蝶湖湾 3室1厅 南 北</td>\n",
       "    </tr>\n",
       "    <tr>\n",
       "      <th>1</th>\n",
       "      <td>北京</td>\n",
       "      <td>朝阳</td>\n",
       "      <td>645.0</td>\n",
       "      <td>75731</td>\n",
       "      <td>2室1厅</td>\n",
       "      <td>85.17</td>\n",
       "      <td>6.0</td>\n",
       "      <td>2020</td>\n",
       "      <td>首开常青藤四期 精装两居 南北通透 电梯洋房</td>\n",
       "    </tr>\n",
       "    <tr>\n",
       "      <th>2</th>\n",
       "      <td>苏州</td>\n",
       "      <td>工业园区</td>\n",
       "      <td>120.0</td>\n",
       "      <td>28170</td>\n",
       "      <td>1室1厅</td>\n",
       "      <td>42.60</td>\n",
       "      <td>4.0</td>\n",
       "      <td>2021</td>\n",
       "      <td>淞泽家园九区 通透一房 业主诚心出售 视野好 位置好</td>\n",
       "    </tr>\n",
       "    <tr>\n",
       "      <th>3</th>\n",
       "      <td>苏州</td>\n",
       "      <td>相城</td>\n",
       "      <td>172.0</td>\n",
       "      <td>21492</td>\n",
       "      <td>2室1厅</td>\n",
       "      <td>80.03</td>\n",
       "      <td>30.0</td>\n",
       "      <td>2021</td>\n",
       "      <td>庆元家园，地铁2号线，交通方便，元和板块</td>\n",
       "    </tr>\n",
       "    <tr>\n",
       "      <th>4</th>\n",
       "      <td>苏州</td>\n",
       "      <td>昆山</td>\n",
       "      <td>180.0</td>\n",
       "      <td>20738</td>\n",
       "      <td>3室1厅</td>\n",
       "      <td>86.80</td>\n",
       "      <td>30.0</td>\n",
       "      <td>2021</td>\n",
       "      <td>花桥裕花园 3室1厅 南</td>\n",
       "    </tr>\n",
       "  </tbody>\n",
       "</table>\n",
       "</div>"
      ],
      "text/plain": [
       "  city local  total_price  unit_price layout    area  floor  time  \\\n",
       "0   苏州    昆山        173.0       10035   3室1厅  172.40   48.0  2021   \n",
       "1   北京    朝阳        645.0       75731   2室1厅   85.17    6.0  2020   \n",
       "2   苏州  工业园区        120.0       28170   1室1厅   42.60    4.0  2021   \n",
       "3   苏州    相城        172.0       21492   2室1厅   80.03   30.0  2021   \n",
       "4   苏州    昆山        180.0       20738   3室1厅   86.80   30.0  2021   \n",
       "\n",
       "                        title  \n",
       "0              世茂蝶湖湾 3室1厅 南 北  \n",
       "1      首开常青藤四期 精装两居 南北通透 电梯洋房  \n",
       "2  淞泽家园九区 通透一房 业主诚心出售 视野好 位置好  \n",
       "3        庆元家园，地铁2号线，交通方便，元和板块  \n",
       "4                花桥裕花园 3室1厅 南  "
      ]
     },
     "execution_count": 17,
     "metadata": {},
     "output_type": "execute_result"
    }
   ],
   "source": [
    "# 将日期转换为年份\n",
    "\n",
    "def format_date(x):\n",
    "    date = datetime.strptime(x,'%Y-%m-%d')\n",
    "    month = date.strftime('%Y')\n",
    "    return month\n",
    "\n",
    "df['time'] = df['time'].map(format_date)\n",
    "df.head()"
   ]
  },
  {
   "cell_type": "code",
   "execution_count": null,
   "metadata": {},
   "outputs": [],
   "source": []
  }
 ],
 "metadata": {
  "interpreter": {
   "hash": "95ab7303ed2746327945aa376054eddca8c4eca362915ff95db932dbe7e7ee41"
  },
  "kernelspec": {
   "display_name": "Python 3.8.8 64-bit",
   "name": "python3"
  },
  "language_info": {
   "codemirror_mode": {
    "name": "ipython",
    "version": 3
   },
   "file_extension": ".py",
   "mimetype": "text/x-python",
   "name": "python",
   "nbconvert_exporter": "python",
   "pygments_lexer": "ipython3",
   "version": "3.8.8"
  },
  "orig_nbformat": 4
 },
 "nbformat": 4,
 "nbformat_minor": 2
}
