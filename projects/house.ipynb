{
 "cells": [
  {
   "cell_type": "code",
   "execution_count": 1,
   "metadata": {},
   "outputs": [
    {
     "data": {
      "text/plain": [
       "Index(['city', 'local', 'total_price', 'unit_price', 'layout', 'area', 'floor',\n",
       "       'time', 'title'],\n",
       "      dtype='object')"
      ]
     },
     "execution_count": 1,
     "metadata": {},
     "output_type": "execute_result"
    }
   ],
   "source": [
    "import pandas as pd\n",
    "import numpy as np\n",
    "import matplotlib.pyplot as plt\n",
    "from sklearn import linear_model\n",
    "from sklearn.model_selection import train_test_split\n",
    "\n",
    "\n",
    "data = pd.read_csv('..\\data\\houses.csv')\n",
    "data.columns # 查看列名"
   ]
  },
  {
   "cell_type": "code",
   "execution_count": 2,
   "metadata": {},
   "outputs": [
    {
     "data": {
      "text/html": [
       "<div>\n",
       "<style scoped>\n",
       "    .dataframe tbody tr th:only-of-type {\n",
       "        vertical-align: middle;\n",
       "    }\n",
       "\n",
       "    .dataframe tbody tr th {\n",
       "        vertical-align: top;\n",
       "    }\n",
       "\n",
       "    .dataframe thead th {\n",
       "        text-align: right;\n",
       "    }\n",
       "</style>\n",
       "<table border=\"1\" class=\"dataframe\">\n",
       "  <thead>\n",
       "    <tr style=\"text-align: right;\">\n",
       "      <th></th>\n",
       "      <th>city</th>\n",
       "      <th>total_price</th>\n",
       "      <th>unit_price</th>\n",
       "      <th>area</th>\n",
       "    </tr>\n",
       "  </thead>\n",
       "  <tbody>\n",
       "    <tr>\n",
       "      <th>0</th>\n",
       "      <td>苏州</td>\n",
       "      <td>173.0</td>\n",
       "      <td>10035</td>\n",
       "      <td>172.40</td>\n",
       "    </tr>\n",
       "    <tr>\n",
       "      <th>1</th>\n",
       "      <td>北京</td>\n",
       "      <td>645.0</td>\n",
       "      <td>75731</td>\n",
       "      <td>85.17</td>\n",
       "    </tr>\n",
       "    <tr>\n",
       "      <th>2</th>\n",
       "      <td>苏州</td>\n",
       "      <td>120.0</td>\n",
       "      <td>28170</td>\n",
       "      <td>42.60</td>\n",
       "    </tr>\n",
       "    <tr>\n",
       "      <th>3</th>\n",
       "      <td>苏州</td>\n",
       "      <td>172.0</td>\n",
       "      <td>21492</td>\n",
       "      <td>80.03</td>\n",
       "    </tr>\n",
       "    <tr>\n",
       "      <th>4</th>\n",
       "      <td>苏州</td>\n",
       "      <td>180.0</td>\n",
       "      <td>20738</td>\n",
       "      <td>86.80</td>\n",
       "    </tr>\n",
       "    <tr>\n",
       "      <th>...</th>\n",
       "      <td>...</td>\n",
       "      <td>...</td>\n",
       "      <td>...</td>\n",
       "      <td>...</td>\n",
       "    </tr>\n",
       "    <tr>\n",
       "      <th>14891</th>\n",
       "      <td>成都</td>\n",
       "      <td>165.0</td>\n",
       "      <td>18511</td>\n",
       "      <td>89.14</td>\n",
       "    </tr>\n",
       "    <tr>\n",
       "      <th>14892</th>\n",
       "      <td>上海</td>\n",
       "      <td>508.0</td>\n",
       "      <td>33028</td>\n",
       "      <td>153.81</td>\n",
       "    </tr>\n",
       "    <tr>\n",
       "      <th>14893</th>\n",
       "      <td>苏州</td>\n",
       "      <td>150.0</td>\n",
       "      <td>22880</td>\n",
       "      <td>65.56</td>\n",
       "    </tr>\n",
       "    <tr>\n",
       "      <th>14894</th>\n",
       "      <td>苏州</td>\n",
       "      <td>135.0</td>\n",
       "      <td>24726</td>\n",
       "      <td>54.60</td>\n",
       "    </tr>\n",
       "    <tr>\n",
       "      <th>14895</th>\n",
       "      <td>苏州</td>\n",
       "      <td>270.0</td>\n",
       "      <td>30145</td>\n",
       "      <td>89.57</td>\n",
       "    </tr>\n",
       "  </tbody>\n",
       "</table>\n",
       "<p>14896 rows × 4 columns</p>\n",
       "</div>"
      ],
      "text/plain": [
       "      city  total_price  unit_price    area\n",
       "0       苏州        173.0       10035  172.40\n",
       "1       北京        645.0       75731   85.17\n",
       "2       苏州        120.0       28170   42.60\n",
       "3       苏州        172.0       21492   80.03\n",
       "4       苏州        180.0       20738   86.80\n",
       "...    ...          ...         ...     ...\n",
       "14891   成都        165.0       18511   89.14\n",
       "14892   上海        508.0       33028  153.81\n",
       "14893   苏州        150.0       22880   65.56\n",
       "14894   苏州        135.0       24726   54.60\n",
       "14895   苏州        270.0       30145   89.57\n",
       "\n",
       "[14896 rows x 4 columns]"
      ]
     },
     "execution_count": 2,
     "metadata": {},
     "output_type": "execute_result"
    }
   ],
   "source": [
    "data1 = data.drop([ 'local', 'layout',  'floor','time', 'title'],axis=1)\n",
    "data1"
   ]
  },
  {
   "cell_type": "code",
   "execution_count": 3,
   "metadata": {},
   "outputs": [
    {
     "data": {
      "text/html": [
       "<div>\n",
       "<style scoped>\n",
       "    .dataframe tbody tr th:only-of-type {\n",
       "        vertical-align: middle;\n",
       "    }\n",
       "\n",
       "    .dataframe tbody tr th {\n",
       "        vertical-align: top;\n",
       "    }\n",
       "\n",
       "    .dataframe thead th {\n",
       "        text-align: right;\n",
       "    }\n",
       "</style>\n",
       "<table border=\"1\" class=\"dataframe\">\n",
       "  <thead>\n",
       "    <tr style=\"text-align: right;\">\n",
       "      <th></th>\n",
       "      <th>city</th>\n",
       "      <th>total_price</th>\n",
       "      <th>unit_price</th>\n",
       "      <th>area</th>\n",
       "    </tr>\n",
       "  </thead>\n",
       "  <tbody>\n",
       "    <tr>\n",
       "      <th>0</th>\n",
       "      <td>苏州</td>\n",
       "      <td>173.0</td>\n",
       "      <td>10035</td>\n",
       "      <td>172.40</td>\n",
       "    </tr>\n",
       "    <tr>\n",
       "      <th>2</th>\n",
       "      <td>苏州</td>\n",
       "      <td>120.0</td>\n",
       "      <td>28170</td>\n",
       "      <td>42.60</td>\n",
       "    </tr>\n",
       "    <tr>\n",
       "      <th>3</th>\n",
       "      <td>苏州</td>\n",
       "      <td>172.0</td>\n",
       "      <td>21492</td>\n",
       "      <td>80.03</td>\n",
       "    </tr>\n",
       "    <tr>\n",
       "      <th>4</th>\n",
       "      <td>苏州</td>\n",
       "      <td>180.0</td>\n",
       "      <td>20738</td>\n",
       "      <td>86.80</td>\n",
       "    </tr>\n",
       "    <tr>\n",
       "      <th>6</th>\n",
       "      <td>苏州</td>\n",
       "      <td>400.0</td>\n",
       "      <td>21425</td>\n",
       "      <td>186.70</td>\n",
       "    </tr>\n",
       "    <tr>\n",
       "      <th>...</th>\n",
       "      <td>...</td>\n",
       "      <td>...</td>\n",
       "      <td>...</td>\n",
       "      <td>...</td>\n",
       "    </tr>\n",
       "    <tr>\n",
       "      <th>14880</th>\n",
       "      <td>苏州</td>\n",
       "      <td>429.0</td>\n",
       "      <td>43571</td>\n",
       "      <td>98.46</td>\n",
       "    </tr>\n",
       "    <tr>\n",
       "      <th>14889</th>\n",
       "      <td>苏州</td>\n",
       "      <td>188.0</td>\n",
       "      <td>29842</td>\n",
       "      <td>63.00</td>\n",
       "    </tr>\n",
       "    <tr>\n",
       "      <th>14893</th>\n",
       "      <td>苏州</td>\n",
       "      <td>150.0</td>\n",
       "      <td>22880</td>\n",
       "      <td>65.56</td>\n",
       "    </tr>\n",
       "    <tr>\n",
       "      <th>14894</th>\n",
       "      <td>苏州</td>\n",
       "      <td>135.0</td>\n",
       "      <td>24726</td>\n",
       "      <td>54.60</td>\n",
       "    </tr>\n",
       "    <tr>\n",
       "      <th>14895</th>\n",
       "      <td>苏州</td>\n",
       "      <td>270.0</td>\n",
       "      <td>30145</td>\n",
       "      <td>89.57</td>\n",
       "    </tr>\n",
       "  </tbody>\n",
       "</table>\n",
       "<p>3000 rows × 4 columns</p>\n",
       "</div>"
      ],
      "text/plain": [
       "      city  total_price  unit_price    area\n",
       "0       苏州        173.0       10035  172.40\n",
       "2       苏州        120.0       28170   42.60\n",
       "3       苏州        172.0       21492   80.03\n",
       "4       苏州        180.0       20738   86.80\n",
       "6       苏州        400.0       21425  186.70\n",
       "...    ...          ...         ...     ...\n",
       "14880   苏州        429.0       43571   98.46\n",
       "14889   苏州        188.0       29842   63.00\n",
       "14893   苏州        150.0       22880   65.56\n",
       "14894   苏州        135.0       24726   54.60\n",
       "14895   苏州        270.0       30145   89.57\n",
       "\n",
       "[3000 rows x 4 columns]"
      ]
     },
     "execution_count": 3,
     "metadata": {},
     "output_type": "execute_result"
    }
   ],
   "source": [
    "data2 = data1.loc[data1['city']=='苏州']\n",
    "data2"
   ]
  },
  {
   "cell_type": "code",
   "execution_count": 4,
   "metadata": {},
   "outputs": [
    {
     "data": {
      "text/html": [
       "<div>\n",
       "<style scoped>\n",
       "    .dataframe tbody tr th:only-of-type {\n",
       "        vertical-align: middle;\n",
       "    }\n",
       "\n",
       "    .dataframe tbody tr th {\n",
       "        vertical-align: top;\n",
       "    }\n",
       "\n",
       "    .dataframe thead th {\n",
       "        text-align: right;\n",
       "    }\n",
       "</style>\n",
       "<table border=\"1\" class=\"dataframe\">\n",
       "  <thead>\n",
       "    <tr style=\"text-align: right;\">\n",
       "      <th></th>\n",
       "      <th>total_price</th>\n",
       "      <th>unit_price</th>\n",
       "      <th>area</th>\n",
       "    </tr>\n",
       "  </thead>\n",
       "  <tbody>\n",
       "    <tr>\n",
       "      <th>0</th>\n",
       "      <td>173.0</td>\n",
       "      <td>10035</td>\n",
       "      <td>172.40</td>\n",
       "    </tr>\n",
       "    <tr>\n",
       "      <th>2</th>\n",
       "      <td>120.0</td>\n",
       "      <td>28170</td>\n",
       "      <td>42.60</td>\n",
       "    </tr>\n",
       "    <tr>\n",
       "      <th>3</th>\n",
       "      <td>172.0</td>\n",
       "      <td>21492</td>\n",
       "      <td>80.03</td>\n",
       "    </tr>\n",
       "    <tr>\n",
       "      <th>4</th>\n",
       "      <td>180.0</td>\n",
       "      <td>20738</td>\n",
       "      <td>86.80</td>\n",
       "    </tr>\n",
       "    <tr>\n",
       "      <th>6</th>\n",
       "      <td>400.0</td>\n",
       "      <td>21425</td>\n",
       "      <td>186.70</td>\n",
       "    </tr>\n",
       "    <tr>\n",
       "      <th>...</th>\n",
       "      <td>...</td>\n",
       "      <td>...</td>\n",
       "      <td>...</td>\n",
       "    </tr>\n",
       "    <tr>\n",
       "      <th>14880</th>\n",
       "      <td>429.0</td>\n",
       "      <td>43571</td>\n",
       "      <td>98.46</td>\n",
       "    </tr>\n",
       "    <tr>\n",
       "      <th>14889</th>\n",
       "      <td>188.0</td>\n",
       "      <td>29842</td>\n",
       "      <td>63.00</td>\n",
       "    </tr>\n",
       "    <tr>\n",
       "      <th>14893</th>\n",
       "      <td>150.0</td>\n",
       "      <td>22880</td>\n",
       "      <td>65.56</td>\n",
       "    </tr>\n",
       "    <tr>\n",
       "      <th>14894</th>\n",
       "      <td>135.0</td>\n",
       "      <td>24726</td>\n",
       "      <td>54.60</td>\n",
       "    </tr>\n",
       "    <tr>\n",
       "      <th>14895</th>\n",
       "      <td>270.0</td>\n",
       "      <td>30145</td>\n",
       "      <td>89.57</td>\n",
       "    </tr>\n",
       "  </tbody>\n",
       "</table>\n",
       "<p>3000 rows × 3 columns</p>\n",
       "</div>"
      ],
      "text/plain": [
       "       total_price  unit_price    area\n",
       "0            173.0       10035  172.40\n",
       "2            120.0       28170   42.60\n",
       "3            172.0       21492   80.03\n",
       "4            180.0       20738   86.80\n",
       "6            400.0       21425  186.70\n",
       "...            ...         ...     ...\n",
       "14880        429.0       43571   98.46\n",
       "14889        188.0       29842   63.00\n",
       "14893        150.0       22880   65.56\n",
       "14894        135.0       24726   54.60\n",
       "14895        270.0       30145   89.57\n",
       "\n",
       "[3000 rows x 3 columns]"
      ]
     },
     "execution_count": 4,
     "metadata": {},
     "output_type": "execute_result"
    }
   ],
   "source": [
    "data3 = data2.drop('city',axis=1)\n",
    "data3"
   ]
  },
  {
   "cell_type": "code",
   "execution_count": 5,
   "metadata": {},
   "outputs": [
    {
     "data": {
      "text/plain": [
       "(3000, 3)"
      ]
     },
     "execution_count": 5,
     "metadata": {},
     "output_type": "execute_result"
    }
   ],
   "source": [
    "data3.shape"
   ]
  },
  {
   "cell_type": "code",
   "execution_count": 6,
   "metadata": {},
   "outputs": [
    {
     "data": {
      "text/plain": [
       "0        173.0\n",
       "2        120.0\n",
       "3        172.0\n",
       "4        180.0\n",
       "6        400.0\n",
       "         ...  \n",
       "14880    429.0\n",
       "14889    188.0\n",
       "14893    150.0\n",
       "14894    135.0\n",
       "14895    270.0\n",
       "Name: total_price, Length: 3000, dtype: float64"
      ]
     },
     "execution_count": 6,
     "metadata": {},
     "output_type": "execute_result"
    }
   ],
   "source": [
    "total = data3['total_price']\n",
    "type(total)\n",
    "total"
   ]
  },
  {
   "cell_type": "code",
   "execution_count": 7,
   "metadata": {},
   "outputs": [
    {
     "data": {
      "text/plain": [
       "array([173., 120., 172., ..., 150., 135., 270.])"
      ]
     },
     "execution_count": 7,
     "metadata": {},
     "output_type": "execute_result"
    }
   ],
   "source": [
    "total = np.ravel(total)\n",
    "type(total)\n",
    "total"
   ]
  },
  {
   "cell_type": "code",
   "execution_count": 8,
   "metadata": {},
   "outputs": [
    {
     "name": "stdout",
     "output_type": "stream",
     "text": [
      "(2250, 1)\n",
      "(750, 1)\n",
      "(2250, 1)\n",
      "(750, 1)\n"
     ]
    }
   ],
   "source": [
    "# 划分数据集\n",
    "price = data3['total_price']\n",
    "\n",
    "area = data3['area']\n",
    "\n",
    "Price_train,Price_test,Area_train,Area_test = train_test_split(price,area,random_state=1)\n",
    "Price_train = Price_train.values.reshape(-1,1)\n",
    "Area_train = Area_train.values.reshape(-1,1)\n",
    "Price_test = Price_test.values.reshape(-1,1)\n",
    "Area_test = Area_test.values.reshape(-1,1)\n",
    "\n",
    "\n",
    "print(Price_train.shape)\n",
    "print(Price_test.shape)\n",
    "print(Area_train.shape)\n",
    "print(Area_test.shape)\n"
   ]
  },
  {
   "cell_type": "code",
   "execution_count": 9,
   "metadata": {},
   "outputs": [
    {
     "name": "stdout",
     "output_type": "stream",
     "text": [
      "[61.65917722]\n",
      "[[0.13844137]]\n"
     ]
    }
   ],
   "source": [
    "linreg = linear_model.LinearRegression()\n",
    "\n",
    "linreg.fit(Price_train,Area_train)# 拟合\n",
    "\n",
    "print(linreg.intercept_) # 截距\n",
    "print(linreg.coef_) # 系数"
   ]
  },
  {
   "cell_type": "code",
   "execution_count": 10,
   "metadata": {},
   "outputs": [
    {
     "data": {
      "text/plain": [
       "array([[105.68353377],\n",
       "       [ 81.20709906],\n",
       "       [108.45236123],\n",
       "       [ 88.37836217],\n",
       "       [ 89.07056904]])"
      ]
     },
     "execution_count": 10,
     "metadata": {},
     "output_type": "execute_result"
    }
   ],
   "source": [
    "pre = linreg.predict(Price_test)\n",
    "pre[:5]"
   ]
  },
  {
   "cell_type": "code",
   "execution_count": 11,
   "metadata": {},
   "outputs": [
    {
     "data": {
      "text/plain": [
       "array([[318. ],\n",
       "       [141.2],\n",
       "       [338. ],\n",
       "       [193. ],\n",
       "       [198. ]])"
      ]
     },
     "execution_count": 11,
     "metadata": {},
     "output_type": "execute_result"
    }
   ],
   "source": [
    "Price_test[:5]"
   ]
  },
  {
   "cell_type": "code",
   "execution_count": 12,
   "metadata": {},
   "outputs": [
    {
     "data": {
      "image/png": "[encoded data removed]",
      "image/svg+xml": "<?xml version=\"1.0\" encoding=\"utf-8\" standalone=\"no\"?>\r\n<!DOCTYPE svg PUBLIC \"-//W3C//DTD SVG 1.1//EN\"\r\n  \"http://www.w3.org/Graphics/SVG/1.1/DTD/svg11.dtd\">\r\n<!-- Created with matplotlib (https://matplotlib.org/) -->\r\n<svg height=\"248.518125pt\" version=\"1.1\" viewBox=\"0 0 375.415775 248.518125\" width=\"375.415775pt\" xmlns=\"http://www.w3.org/2000/svg\" xmlns:xlink=\"http://www.w3.org/1999/xlink\">\r\n <metadata>\r\n  <rdf:RDF xmlns:cc=\"http://creativecommons.org/ns#\" xmlns:dc=\"http://purl.org/dc/elements/1.1/\" xmlns:rdf=\"http://www.w3.org/1999/02/22-rdf-syntax-ns#\">\r\n   <cc:Work>\r\n    <dc:type rdf:resource=\"http://purl.org/dc/dcmitype/StillImage\"/>\r\n    <dc:date>2021-04-17T10:44:10.595868</dc:date>\r\n    <dc:format>image/svg+xml</dc:format>\r\n    <dc:creator>\r\n     <cc:Agent>\r\n      <dc:title>Matplotlib v3.3.4, https://matplotlib.org/</dc:title>\r\n     </cc:Agent>\r\n    </dc:creator>\r\n   </cc:Work>\r\n  </rdf:RDF>\r\n </metadata>\r\n <defs>\r\n  <style type=\"text/css\">*{stroke-linecap:butt;stroke-linejoin:round;}</style>\r\n </defs>\r\n <g id=\"figure_1\">\r\n  <g id=\"patch_1\">\r\n   <path d=\"M 0 248.518125 \r\nL 375.415775 248.518125 \r\nL 375.415775 0 \r\nL 0 0 \r\nz\r\n\" style=\"fill:none;\"/>\r\n  </g>\r\n  <g id=\"axes_1\">\r\n   <g id=\"patch_2\">\r\n    <path d=\"M 33.2875 224.64 \r\nL 368.0875 224.64 \r\nL 368.0875 7.2 \r\nL 33.2875 7.2 \r\nz\r\n\" style=\"fill:#ffffff;\"/>\r\n   </g>\r\n   <g id=\"PathCollection_1\">\r\n    <defs>\r\n     <path d=\"M 0 0.866025 \r\nC 0.229673 0.866025 0.449969 0.774776 0.612372 0.612372 \r\nC 0.774776 0.449969 0.866025 0.229673 0.866025 0 \r\nC 0.866025 -0.229673 0.774776 -0.449969 0.612372 -0.612372 \r\nC 0.449969 -0.774776 0.229673 -0.866025 0 -0.866025 \r\nC -0.229673 -0.866025 -0.449969 -0.774776 -0.612372 -0.612372 \r\nC -0.774776 -0.449969 -0.866025 -0.229673 -0.866025 0 \r\nC -0.866025 0.229673 -0.774776 0.449969 -0.612372 0.612372 \r\nC -0.449969 0.774776 -0.229673 0.866025 0 0.866025 \r\nz\r\n\" id=\"m4757e54ffd\" style=\"stroke:#ff0000;\"/>\r\n    </defs>\r\n    <g clip-path=\"url(#p17a7b69d5c)\">\r\n     <use style=\"fill:#ff0000;stroke:#ff0000;\" x=\"83.108914\" xlink:href=\"#m4757e54ffd\" y=\"189.279855\"/>\r\n     <use style=\"fill:#ff0000;stroke:#ff0000;\" x=\"61.038743\" xlink:href=\"#m4757e54ffd\" y=\"198.491361\"/>\r\n     <use style=\"fill:#ff0000;stroke:#ff0000;\" x=\"85.605539\" xlink:href=\"#m4757e54ffd\" y=\"185.967909\"/>\r\n     <use style=\"fill:#ff0000;stroke:#ff0000;\" x=\"67.505003\" xlink:href=\"#m4757e54ffd\" y=\"198.111712\"/>\r\n     <use style=\"fill:#ff0000;stroke:#ff0000;\" x=\"68.12916\" xlink:href=\"#m4757e54ffd\" y=\"183.994729\"/>\r\n     <use style=\"fill:#ff0000;stroke:#ff0000;\" x=\"75.619037\" xlink:href=\"#m4757e54ffd\" y=\"178.220054\"/>\r\n     <use style=\"fill:#ff0000;stroke:#ff0000;\" x=\"78.115662\" xlink:href=\"#m4757e54ffd\" y=\"159.632193\"/>\r\n     <use style=\"fill:#ff0000;stroke:#ff0000;\" x=\"71.624436\" xlink:href=\"#m4757e54ffd\" y=\"184.569199\"/>\r\n     <use style=\"fill:#ff0000;stroke:#ff0000;\" x=\"63.385571\" xlink:href=\"#m4757e54ffd\" y=\"185.78308\"/>\r\n     <use style=\"fill:#ff0000;stroke:#ff0000;\" x=\"75.868699\" xlink:href=\"#m4757e54ffd\" y=\"198.106716\"/>\r\n     <use style=\"fill:#ff0000;stroke:#ff0000;\" x=\"95.841705\" xlink:href=\"#m4757e54ffd\" y=\"177.875371\"/>\r\n     <use style=\"fill:#ff0000;stroke:#ff0000;\" x=\"125.801213\" xlink:href=\"#m4757e54ffd\" y=\"99.217901\"/>\r\n     <use style=\"fill:#ff0000;stroke:#ff0000;\" x=\"74.620386\" xlink:href=\"#m4757e54ffd\" y=\"165.906408\"/>\r\n     <use style=\"fill:#ff0000;stroke:#ff0000;\" x=\"78.365325\" xlink:href=\"#m4757e54ffd\" y=\"162.304729\"/>\r\n     <use style=\"fill:#ff0000;stroke:#ff0000;\" x=\"63.884896\" xlink:href=\"#m4757e54ffd\" y=\"171.296438\"/>\r\n     <use style=\"fill:#ff0000;stroke:#ff0000;\" x=\"65.25804\" xlink:href=\"#m4757e54ffd\" y=\"180.433013\"/>\r\n     <use style=\"fill:#ff0000;stroke:#ff0000;\" x=\"84.482058\" xlink:href=\"#m4757e54ffd\" y=\"184.803983\"/>\r\n     <use style=\"fill:#ff0000;stroke:#ff0000;\" x=\"61.450686\" xlink:href=\"#m4757e54ffd\" y=\"184.284462\"/>\r\n     <use style=\"fill:#ff0000;stroke:#ff0000;\" x=\"92.720923\" xlink:href=\"#m4757e54ffd\" y=\"187.031928\"/>\r\n     <use style=\"fill:#ff0000;stroke:#ff0000;\" x=\"69.377472\" xlink:href=\"#m4757e54ffd\" y=\"207.777799\"/>\r\n     <use style=\"fill:#ff0000;stroke:#ff0000;\" x=\"66.880847\" xlink:href=\"#m4757e54ffd\" y=\"198.271564\"/>\r\n     <use style=\"fill:#ff0000;stroke:#ff0000;\" x=\"63.26074\" xlink:href=\"#m4757e54ffd\" y=\"197.00773\"/>\r\n     <use style=\"fill:#ff0000;stroke:#ff0000;\" x=\"65.133209\" xlink:href=\"#m4757e54ffd\" y=\"189.514639\"/>\r\n     <use style=\"fill:#ff0000;stroke:#ff0000;\" x=\"70.251291\" xlink:href=\"#m4757e54ffd\" y=\"172.84501\"/>\r\n     <use style=\"fill:#ff0000;stroke:#ff0000;\" x=\"72.123761\" xlink:href=\"#m4757e54ffd\" y=\"185.063743\"/>\r\n     <use style=\"fill:#ff0000;stroke:#ff0000;\" x=\"67.754666\" xlink:href=\"#m4757e54ffd\" y=\"187.281698\"/>\r\n     <use style=\"fill:#ff0000;stroke:#ff0000;\" x=\"81.610938\" xlink:href=\"#m4757e54ffd\" y=\"166.301044\"/>\r\n     <use style=\"fill:#ff0000;stroke:#ff0000;\" x=\"94.593392\" xlink:href=\"#m4757e54ffd\" y=\"187.826196\"/>\r\n     <use style=\"fill:#ff0000;stroke:#ff0000;\" x=\"75.868699\" xlink:href=\"#m4757e54ffd\" y=\"160.706203\"/>\r\n     <use style=\"fill:#ff0000;stroke:#ff0000;\" x=\"105.828207\" xlink:href=\"#m4757e54ffd\" y=\"150.815323\"/>\r\n     <use style=\"fill:#ff0000;stroke:#ff0000;\" x=\"70.251291\" xlink:href=\"#m4757e54ffd\" y=\"186.09779\"/>\r\n     <use style=\"fill:#ff0000;stroke:#ff0000;\" x=\"68.353856\" xlink:href=\"#m4757e54ffd\" y=\"186.602324\"/>\r\n     <use style=\"fill:#ff0000;stroke:#ff0000;\" x=\"72.123761\" xlink:href=\"#m4757e54ffd\" y=\"156.310256\"/>\r\n     <use style=\"fill:#ff0000;stroke:#ff0000;\" x=\"57.643332\" xlink:href=\"#m4757e54ffd\" y=\"194.784779\"/>\r\n     <use style=\"fill:#ff0000;stroke:#ff0000;\" x=\"67.754666\" xlink:href=\"#m4757e54ffd\" y=\"181.631907\"/>\r\n     <use style=\"fill:#ff0000;stroke:#ff0000;\" x=\"78.365325\" xlink:href=\"#m4757e54ffd\" y=\"190.049146\"/>\r\n     <use style=\"fill:#ff0000;stroke:#ff0000;\" x=\"69.002979\" xlink:href=\"#m4757e54ffd\" y=\"196.273407\"/>\r\n     <use style=\"fill:#ff0000;stroke:#ff0000;\" x=\"67.754666\" xlink:href=\"#m4757e54ffd\" y=\"185.168646\"/>\r\n     <use style=\"fill:#ff0000;stroke:#ff0000;\" x=\"72.747917\" xlink:href=\"#m4757e54ffd\" y=\"181.287225\"/>\r\n     <use style=\"fill:#ff0000;stroke:#ff0000;\" x=\"80.737119\" xlink:href=\"#m4757e54ffd\" y=\"185.643209\"/>\r\n     <use style=\"fill:#ff0000;stroke:#ff0000;\" x=\"51.65143\" xlink:href=\"#m4757e54ffd\" y=\"178.509786\"/>\r\n     <use style=\"fill:#ff0000;stroke:#ff0000;\" x=\"69.002979\" xlink:href=\"#m4757e54ffd\" y=\"167.080325\"/>\r\n     <use style=\"fill:#ff0000;stroke:#ff0000;\" x=\"67.604868\" xlink:href=\"#m4757e54ffd\" y=\"192.646751\"/>\r\n     <use style=\"fill:#ff0000;stroke:#ff0000;\" x=\"66.880847\" xlink:href=\"#m4757e54ffd\" y=\"183.934784\"/>\r\n     <use style=\"fill:#ff0000;stroke:#ff0000;\" x=\"69.002979\" xlink:href=\"#m4757e54ffd\" y=\"199.520413\"/>\r\n     <use style=\"fill:#ff0000;stroke:#ff0000;\" x=\"67.604868\" xlink:href=\"#m4757e54ffd\" y=\"181.796755\"/>\r\n     <use style=\"fill:#ff0000;stroke:#ff0000;\" x=\"83.358576\" xlink:href=\"#m4757e54ffd\" y=\"177.29091\"/>\r\n     <use style=\"fill:#ff0000;stroke:#ff0000;\" x=\"97.090018\" xlink:href=\"#m4757e54ffd\" y=\"175.292753\"/>\r\n     <use style=\"fill:#ff0000;stroke:#ff0000;\" x=\"60.639283\" xlink:href=\"#m4757e54ffd\" y=\"192.791617\"/>\r\n     <use style=\"fill:#ff0000;stroke:#ff0000;\" x=\"73.372074\" xlink:href=\"#m4757e54ffd\" y=\"158.658091\"/>\r\n     <use style=\"fill:#ff0000;stroke:#ff0000;\" x=\"94.343729\" xlink:href=\"#m4757e54ffd\" y=\"185.59825\"/>\r\n     <use style=\"fill:#ff0000;stroke:#ff0000;\" x=\"65.008378\" xlink:href=\"#m4757e54ffd\" y=\"204.580747\"/>\r\n     <use style=\"fill:#ff0000;stroke:#ff0000;\" x=\"75.619037\" xlink:href=\"#m4757e54ffd\" y=\"183.070581\"/>\r\n     <use style=\"fill:#ff0000;stroke:#ff0000;\" x=\"88.975984\" xlink:href=\"#m4757e54ffd\" y=\"181.786765\"/>\r\n     <use style=\"fill:#ff0000;stroke:#ff0000;\" x=\"94.094067\" xlink:href=\"#m4757e54ffd\" y=\"130.429121\"/>\r\n     <use style=\"fill:#ff0000;stroke:#ff0000;\" x=\"76.742518\" xlink:href=\"#m4757e54ffd\" y=\"162.664397\"/>\r\n     <use style=\"fill:#ff0000;stroke:#ff0000;\" x=\"70.875448\" xlink:href=\"#m4757e54ffd\" y=\"174.108844\"/>\r\n     <use style=\"fill:#ff0000;stroke:#ff0000;\" x=\"72.747917\" xlink:href=\"#m4757e54ffd\" y=\"179.289068\"/>\r\n     <use style=\"fill:#ff0000;stroke:#ff0000;\" x=\"71.749267\" xlink:href=\"#m4757e54ffd\" y=\"186.567357\"/>\r\n     <use style=\"fill:#ff0000;stroke:#ff0000;\" x=\"60.377137\" xlink:href=\"#m4757e54ffd\" y=\"188.600482\"/>\r\n     <use style=\"fill:#ff0000;stroke:#ff0000;\" x=\"62.511752\" xlink:href=\"#m4757e54ffd\" y=\"197.272485\"/>\r\n     <use style=\"fill:#ff0000;stroke:#ff0000;\" x=\"76.992181\" xlink:href=\"#m4757e54ffd\" y=\"194.35018\"/>\r\n     <use style=\"fill:#ff0000;stroke:#ff0000;\" x=\"78.365325\" xlink:href=\"#m4757e54ffd\" y=\"116.96154\"/>\r\n     <use style=\"fill:#ff0000;stroke:#ff0000;\" x=\"70.875448\" xlink:href=\"#m4757e54ffd\" y=\"186.282619\"/>\r\n     <use style=\"fill:#ff0000;stroke:#ff0000;\" x=\"60.264789\" xlink:href=\"#m4757e54ffd\" y=\"179.783612\"/>\r\n     <use style=\"fill:#ff0000;stroke:#ff0000;\" x=\"103.955738\" xlink:href=\"#m4757e54ffd\" y=\"154.117279\"/>\r\n     <use style=\"fill:#ff0000;stroke:#ff0000;\" x=\"68.378822\" xlink:href=\"#m4757e54ffd\" y=\"166.301044\"/>\r\n     <use style=\"fill:#ff0000;stroke:#ff0000;\" x=\"85.605539\" xlink:href=\"#m4757e54ffd\" y=\"136.103889\"/>\r\n     <use style=\"fill:#ff0000;stroke:#ff0000;\" x=\"59.141307\" xlink:href=\"#m4757e54ffd\" y=\"197.367398\"/>\r\n     <use style=\"fill:#ff0000;stroke:#ff0000;\" x=\"71.499604\" xlink:href=\"#m4757e54ffd\" y=\"186.632297\"/>\r\n     <use style=\"fill:#ff0000;stroke:#ff0000;\" x=\"61.513102\" xlink:href=\"#m4757e54ffd\" y=\"188.920187\"/>\r\n     <use style=\"fill:#ff0000;stroke:#ff0000;\" x=\"123.179756\" xlink:href=\"#m4757e54ffd\" y=\"167.879588\"/>\r\n     <use style=\"fill:#ff0000;stroke:#ff0000;\" x=\"71.749267\" xlink:href=\"#m4757e54ffd\" y=\"176.706449\"/>\r\n     <use style=\"fill:#ff0000;stroke:#ff0000;\" x=\"65.819781\" xlink:href=\"#m4757e54ffd\" y=\"199.890072\"/>\r\n     <use style=\"fill:#ff0000;stroke:#ff0000;\" x=\"63.884896\" xlink:href=\"#m4757e54ffd\" y=\"185.28354\"/>\r\n     <use style=\"fill:#ff0000;stroke:#ff0000;\" x=\"65.882197\" xlink:href=\"#m4757e54ffd\" y=\"186.382527\"/>\r\n     <use style=\"fill:#ff0000;stroke:#ff0000;\" x=\"58.766813\" xlink:href=\"#m4757e54ffd\" y=\"203.946331\"/>\r\n     <use style=\"fill:#ff0000;stroke:#ff0000;\" x=\"63.635233\" xlink:href=\"#m4757e54ffd\" y=\"172.545286\"/>\r\n     <use style=\"fill:#ff0000;stroke:#ff0000;\" x=\"81.860601\" xlink:href=\"#m4757e54ffd\" y=\"172.90995\"/>\r\n     <use style=\"fill:#ff0000;stroke:#ff0000;\" x=\"124.5529\" xlink:href=\"#m4757e54ffd\" y=\"155.446053\"/>\r\n     <use style=\"fill:#ff0000;stroke:#ff0000;\" x=\"64.883546\" xlink:href=\"#m4757e54ffd\" y=\"190.139063\"/>\r\n     <use style=\"fill:#ff0000;stroke:#ff0000;\" x=\"71.874098\" xlink:href=\"#m4757e54ffd\" y=\"183.63506\"/>\r\n     <use style=\"fill:#ff0000;stroke:#ff0000;\" x=\"66.506353\" xlink:href=\"#m4757e54ffd\" y=\"191.462842\"/>\r\n     <use style=\"fill:#ff0000;stroke:#ff0000;\" x=\"52.25062\" xlink:href=\"#m4757e54ffd\" y=\"208.152453\"/>\r\n     <use style=\"fill:#ff0000;stroke:#ff0000;\" x=\"67.005678\" xlink:href=\"#m4757e54ffd\" y=\"183.969752\"/>\r\n     <use style=\"fill:#ff0000;stroke:#ff0000;\" x=\"57.268838\" xlink:href=\"#m4757e54ffd\" y=\"208.826831\"/>\r\n     <use style=\"fill:#ff0000;stroke:#ff0000;\" x=\"75.868699\" xlink:href=\"#m4757e54ffd\" y=\"182.635982\"/>\r\n     <use style=\"fill:#ff0000;stroke:#ff0000;\" x=\"97.090018\" xlink:href=\"#m4757e54ffd\" y=\"162.654407\"/>\r\n     <use style=\"fill:#ff0000;stroke:#ff0000;\" x=\"55.883211\" xlink:href=\"#m4757e54ffd\" y=\"203.047161\"/>\r\n     <use style=\"fill:#ff0000;stroke:#ff0000;\" x=\"66.880847\" xlink:href=\"#m4757e54ffd\" y=\"181.59694\"/>\r\n     <use style=\"fill:#ff0000;stroke:#ff0000;\" x=\"58.99151\" xlink:href=\"#m4757e54ffd\" y=\"203.386847\"/>\r\n     <use style=\"fill:#ff0000;stroke:#ff0000;\" x=\"127.673682\" xlink:href=\"#m4757e54ffd\" y=\"151.514678\"/>\r\n     <use style=\"fill:#ff0000;stroke:#ff0000;\" x=\"57.518501\" xlink:href=\"#m4757e54ffd\" y=\"207.513043\"/>\r\n     <use style=\"fill:#ff0000;stroke:#ff0000;\" x=\"72.747917\" xlink:href=\"#m4757e54ffd\" y=\"172.545286\"/>\r\n     <use style=\"fill:#ff0000;stroke:#ff0000;\" x=\"100.585293\" xlink:href=\"#m4757e54ffd\" y=\"152.313941\"/>\r\n     <use style=\"fill:#ff0000;stroke:#ff0000;\" x=\"78.739819\" xlink:href=\"#m4757e54ffd\" y=\"171.795977\"/>\r\n     <use style=\"fill:#ff0000;stroke:#ff0000;\" x=\"84.956417\" xlink:href=\"#m4757e54ffd\" y=\"186.282619\"/>\r\n     <use style=\"fill:#ff0000;stroke:#ff0000;\" x=\"104.455063\" xlink:href=\"#m4757e54ffd\" y=\"172.205599\"/>\r\n     <use style=\"fill:#ff0000;stroke:#ff0000;\" x=\"68.378822\" xlink:href=\"#m4757e54ffd\" y=\"184.419337\"/>\r\n     <use style=\"fill:#ff0000;stroke:#ff0000;\" x=\"62.124775\" xlink:href=\"#m4757e54ffd\" y=\"208.387237\"/>\r\n     <use style=\"fill:#ff0000;stroke:#ff0000;\" x=\"59.640632\" xlink:href=\"#m4757e54ffd\" y=\"185.28354\"/>\r\n     <use style=\"fill:#ff0000;stroke:#ff0000;\" x=\"89.849803\" xlink:href=\"#m4757e54ffd\" y=\"169.79782\"/>\r\n     <use style=\"fill:#ff0000;stroke:#ff0000;\" x=\"65.008378\" xlink:href=\"#m4757e54ffd\" y=\"190.079118\"/>\r\n     <use style=\"fill:#ff0000;stroke:#ff0000;\" x=\"142.528605\" xlink:href=\"#m4757e54ffd\" y=\"173.349545\"/>\r\n     <use style=\"fill:#ff0000;stroke:#ff0000;\" x=\"61.513102\" xlink:href=\"#m4757e54ffd\" y=\"206.538941\"/>\r\n     <use style=\"fill:#ff0000;stroke:#ff0000;\" x=\"66.631184\" xlink:href=\"#m4757e54ffd\" y=\"190.523708\"/>\r\n     <use style=\"fill:#ff0000;stroke:#ff0000;\" x=\"112.444265\" xlink:href=\"#m4757e54ffd\" y=\"171.995793\"/>\r\n     <use style=\"fill:#ff0000;stroke:#ff0000;\" x=\"61.513102\" xlink:href=\"#m4757e54ffd\" y=\"176.471666\"/>\r\n     <use style=\"fill:#ff0000;stroke:#ff0000;\" x=\"163.874754\" xlink:href=\"#m4757e54ffd\" y=\"142.398085\"/>\r\n     <use style=\"fill:#ff0000;stroke:#ff0000;\" x=\"62.761414\" xlink:href=\"#m4757e54ffd\" y=\"184.749033\"/>\r\n     <use style=\"fill:#ff0000;stroke:#ff0000;\" x=\"53.399068\" xlink:href=\"#m4757e54ffd\" y=\"210.859956\"/>\r\n     <use style=\"fill:#ff0000;stroke:#ff0000;\" x=\"76.992181\" xlink:href=\"#m4757e54ffd\" y=\"182.261327\"/>\r\n     <use style=\"fill:#ff0000;stroke:#ff0000;\" x=\"63.385571\" xlink:href=\"#m4757e54ffd\" y=\"174.793213\"/>\r\n     <use style=\"fill:#ff0000;stroke:#ff0000;\" x=\"64.633884\" xlink:href=\"#m4757e54ffd\" y=\"186.382527\"/>\r\n     <use style=\"fill:#ff0000;stroke:#ff0000;\" x=\"108.324833\" xlink:href=\"#m4757e54ffd\" y=\"134.34551\"/>\r\n     <use style=\"fill:#ff0000;stroke:#ff0000;\" x=\"79.239144\" xlink:href=\"#m4757e54ffd\" y=\"169.053506\"/>\r\n     <use style=\"fill:#ff0000;stroke:#ff0000;\" x=\"63.135908\" xlink:href=\"#m4757e54ffd\" y=\"184.649125\"/>\r\n     <use style=\"fill:#ff0000;stroke:#ff0000;\" x=\"64.983411\" xlink:href=\"#m4757e54ffd\" y=\"177.79045\"/>\r\n     <use style=\"fill:#ff0000;stroke:#ff0000;\" x=\"155.63589\" xlink:href=\"#m4757e54ffd\" y=\"154.556873\"/>\r\n     <use style=\"fill:#ff0000;stroke:#ff0000;\" x=\"55.995559\" xlink:href=\"#m4757e54ffd\" y=\"196.598107\"/>\r\n     <use style=\"fill:#ff0000;stroke:#ff0000;\" x=\"65.882197\" xlink:href=\"#m4757e54ffd\" y=\"180.288147\"/>\r\n     <use style=\"fill:#ff0000;stroke:#ff0000;\" x=\"93.345079\" xlink:href=\"#m4757e54ffd\" y=\"136.478543\"/>\r\n     <use style=\"fill:#ff0000;stroke:#ff0000;\" x=\"70.750617\" xlink:href=\"#m4757e54ffd\" y=\"187.466527\"/>\r\n     <use style=\"fill:#ff0000;stroke:#ff0000;\" x=\"86.479358\" xlink:href=\"#m4757e54ffd\" y=\"145.819929\"/>\r\n     <use style=\"fill:#ff0000;stroke:#ff0000;\" x=\"80.861951\" xlink:href=\"#m4757e54ffd\" y=\"209.00167\"/>\r\n     <use style=\"fill:#ff0000;stroke:#ff0000;\" x=\"76.118362\" xlink:href=\"#m4757e54ffd\" y=\"183.135521\"/>\r\n     <use style=\"fill:#ff0000;stroke:#ff0000;\" x=\"68.628485\" xlink:href=\"#m4757e54ffd\" y=\"183.545143\"/>\r\n     <use style=\"fill:#ff0000;stroke:#ff0000;\" x=\"98.33833\" xlink:href=\"#m4757e54ffd\" y=\"178.854469\"/>\r\n     <use style=\"fill:#ff0000;stroke:#ff0000;\" x=\"56.644682\" xlink:href=\"#m4757e54ffd\" y=\"206.414056\"/>\r\n     <use style=\"fill:#ff0000;stroke:#ff0000;\" x=\"137.285691\" xlink:href=\"#m4757e54ffd\" y=\"159.502313\"/>\r\n     <use style=\"fill:#ff0000;stroke:#ff0000;\" x=\"102.083269\" xlink:href=\"#m4757e54ffd\" y=\"170.796898\"/>\r\n     <use style=\"fill:#ff0000;stroke:#ff0000;\" x=\"62.748931\" xlink:href=\"#m4757e54ffd\" y=\"190.598639\"/>\r\n     <use style=\"fill:#ff0000;stroke:#ff0000;\" x=\"101.459112\" xlink:href=\"#m4757e54ffd\" y=\"180.577879\"/>\r\n     <use style=\"fill:#ff0000;stroke:#ff0000;\" x=\"109.573146\" xlink:href=\"#m4757e54ffd\" y=\"170.796898\"/>\r\n     <use style=\"fill:#ff0000;stroke:#ff0000;\" x=\"81.860601\" xlink:href=\"#m4757e54ffd\" y=\"161.585392\"/>\r\n     <use style=\"fill:#ff0000;stroke:#ff0000;\" x=\"63.884896\" xlink:href=\"#m4757e54ffd\" y=\"206.439033\"/>\r\n     <use style=\"fill:#ff0000;stroke:#ff0000;\" x=\"73.035029\" xlink:href=\"#m4757e54ffd\" y=\"184.938858\"/>\r\n     <use style=\"fill:#ff0000;stroke:#ff0000;\" x=\"66.506353\" xlink:href=\"#m4757e54ffd\" y=\"184.384369\"/>\r\n     <use style=\"fill:#ff0000;stroke:#ff0000;\" x=\"70.251291\" xlink:href=\"#m4757e54ffd\" y=\"190.758492\"/>\r\n     <use style=\"fill:#ff0000;stroke:#ff0000;\" x=\"64.384221\" xlink:href=\"#m4757e54ffd\" y=\"179.803593\"/>\r\n     <use style=\"fill:#ff0000;stroke:#ff0000;\" x=\"66.356555\" xlink:href=\"#m4757e54ffd\" y=\"168.424086\"/>\r\n     <use style=\"fill:#ff0000;stroke:#ff0000;\" x=\"67.754666\" xlink:href=\"#m4757e54ffd\" y=\"194.944632\"/>\r\n     <use style=\"fill:#ff0000;stroke:#ff0000;\" x=\"59.578217\" xlink:href=\"#m4757e54ffd\" y=\"203.831437\"/>\r\n     <use style=\"fill:#ff0000;stroke:#ff0000;\" x=\"76.492856\" xlink:href=\"#m4757e54ffd\" y=\"160.356525\"/>\r\n     <use style=\"fill:#ff0000;stroke:#ff0000;\" x=\"66.481387\" xlink:href=\"#m4757e54ffd\" y=\"190.333883\"/>\r\n     <use style=\"fill:#ff0000;stroke:#ff0000;\" x=\"352.869318\" xlink:href=\"#m4757e54ffd\" y=\"119.748969\"/>\r\n     <use style=\"fill:#ff0000;stroke:#ff0000;\" x=\"63.135908\" xlink:href=\"#m4757e54ffd\" y=\"188.240813\"/>\r\n     <use style=\"fill:#ff0000;stroke:#ff0000;\" x=\"76.492856\" xlink:href=\"#m4757e54ffd\" y=\"181.696848\"/>\r\n     <use style=\"fill:#ff0000;stroke:#ff0000;\" x=\"69.876798\" xlink:href=\"#m4757e54ffd\" y=\"185.168646\"/>\r\n     <use style=\"fill:#ff0000;stroke:#ff0000;\" x=\"106.07787\" xlink:href=\"#m4757e54ffd\" y=\"185.833034\"/>\r\n     <use style=\"fill:#ff0000;stroke:#ff0000;\" x=\"75.369374\" xlink:href=\"#m4757e54ffd\" y=\"160.206664\"/>\r\n     <use style=\"fill:#ff0000;stroke:#ff0000;\" x=\"87.952368\" xlink:href=\"#m4757e54ffd\" y=\"161.480489\"/>\r\n     <use style=\"fill:#ff0000;stroke:#ff0000;\" x=\"77.117012\" xlink:href=\"#m4757e54ffd\" y=\"184.998803\"/>\r\n     <use style=\"fill:#ff0000;stroke:#ff0000;\" x=\"94.593392\" xlink:href=\"#m4757e54ffd\" y=\"161.30565\"/>\r\n     <use style=\"fill:#ff0000;stroke:#ff0000;\" x=\"62.012427\" xlink:href=\"#m4757e54ffd\" y=\"198.146679\"/>\r\n     <use style=\"fill:#ff0000;stroke:#ff0000;\" x=\"65.632534\" xlink:href=\"#m4757e54ffd\" y=\"191.377921\"/>\r\n     <use style=\"fill:#ff0000;stroke:#ff0000;\" x=\"94.343729\" xlink:href=\"#m4757e54ffd\" y=\"185.063743\"/>\r\n     <use style=\"fill:#ff0000;stroke:#ff0000;\" x=\"99.586643\" xlink:href=\"#m4757e54ffd\" y=\"180.972516\"/>\r\n     <use style=\"fill:#ff0000;stroke:#ff0000;\" x=\"80.861951\" xlink:href=\"#m4757e54ffd\" y=\"186.257642\"/>\r\n     <use style=\"fill:#ff0000;stroke:#ff0000;\" x=\"58.386078\" xlink:href=\"#m4757e54ffd\" y=\"201.383694\"/>\r\n     <use style=\"fill:#ff0000;stroke:#ff0000;\" x=\"119.934142\" xlink:href=\"#m4757e54ffd\" y=\"161.30565\"/>\r\n     <use style=\"fill:#ff0000;stroke:#ff0000;\" x=\"75.244543\" xlink:href=\"#m4757e54ffd\" y=\"170.806889\"/>\r\n     <use style=\"fill:#ff0000;stroke:#ff0000;\" x=\"80.612288\" xlink:href=\"#m4757e54ffd\" y=\"158.822939\"/>\r\n     <use style=\"fill:#ff0000;stroke:#ff0000;\" x=\"50.527949\" xlink:href=\"#m4757e54ffd\" y=\"206.963549\"/>\r\n     <use style=\"fill:#ff0000;stroke:#ff0000;\" x=\"62.886246\" xlink:href=\"#m4757e54ffd\" y=\"194.275249\"/>\r\n     <use style=\"fill:#ff0000;stroke:#ff0000;\" x=\"68.378822\" xlink:href=\"#m4757e54ffd\" y=\"187.316666\"/>\r\n     <use style=\"fill:#ff0000;stroke:#ff0000;\" x=\"57.892994\" xlink:href=\"#m4757e54ffd\" y=\"201.773335\"/>\r\n     <use style=\"fill:#ff0000;stroke:#ff0000;\" x=\"66.506353\" xlink:href=\"#m4757e54ffd\" y=\"188.780316\"/>\r\n     <use style=\"fill:#ff0000;stroke:#ff0000;\" x=\"63.011077\" xlink:href=\"#m4757e54ffd\" y=\"190.064132\"/>\r\n     <use style=\"fill:#ff0000;stroke:#ff0000;\" x=\"60.015126\" xlink:href=\"#m4757e54ffd\" y=\"202.697483\"/>\r\n     <use style=\"fill:#ff0000;stroke:#ff0000;\" x=\"76.368024\" xlink:href=\"#m4757e54ffd\" y=\"184.639135\"/>\r\n     <use style=\"fill:#ff0000;stroke:#ff0000;\" x=\"90.473959\" xlink:href=\"#m4757e54ffd\" y=\"191.927414\"/>\r\n     <use style=\"fill:#ff0000;stroke:#ff0000;\" x=\"65.819781\" xlink:href=\"#m4757e54ffd\" y=\"185.733126\"/>\r\n     <use style=\"fill:#ff0000;stroke:#ff0000;\" x=\"62.137258\" xlink:href=\"#m4757e54ffd\" y=\"186.782158\"/>\r\n     <use style=\"fill:#ff0000;stroke:#ff0000;\" x=\"72.373423\" xlink:href=\"#m4757e54ffd\" y=\"180.70776\"/>\r\n     <use style=\"fill:#ff0000;stroke:#ff0000;\" x=\"62.262089\" xlink:href=\"#m4757e54ffd\" y=\"199.025869\"/>\r\n     <use style=\"fill:#ff0000;stroke:#ff0000;\" x=\"107.950339\" xlink:href=\"#m4757e54ffd\" y=\"177.245952\"/>\r\n     <use style=\"fill:#ff0000;stroke:#ff0000;\" x=\"66.880847\" xlink:href=\"#m4757e54ffd\" y=\"172.295517\"/>\r\n     <use style=\"fill:#ff0000;stroke:#ff0000;\" x=\"73.696635\" xlink:href=\"#m4757e54ffd\" y=\"168.299201\"/>\r\n     <use style=\"fill:#ff0000;stroke:#ff0000;\" x=\"80.861951\" xlink:href=\"#m4757e54ffd\" y=\"171.281452\"/>\r\n     <use style=\"fill:#ff0000;stroke:#ff0000;\" x=\"68.253991\" xlink:href=\"#m4757e54ffd\" y=\"185.498342\"/>\r\n     <use style=\"fill:#ff0000;stroke:#ff0000;\" x=\"71.998929\" xlink:href=\"#m4757e54ffd\" y=\"184.144591\"/>\r\n     <use style=\"fill:#ff0000;stroke:#ff0000;\" x=\"123.054925\" xlink:href=\"#m4757e54ffd\" y=\"70.889023\"/>\r\n     <use style=\"fill:#ff0000;stroke:#ff0000;\" x=\"89.974634\" xlink:href=\"#m4757e54ffd\" y=\"169.997635\"/>\r\n     <use style=\"fill:#ff0000;stroke:#ff0000;\" x=\"62.137258\" xlink:href=\"#m4757e54ffd\" y=\"184.584185\"/>\r\n     <use style=\"fill:#ff0000;stroke:#ff0000;\" x=\"68.253991\" xlink:href=\"#m4757e54ffd\" y=\"183.814895\"/>\r\n     <use style=\"fill:#ff0000;stroke:#ff0000;\" x=\"68.004328\" xlink:href=\"#m4757e54ffd\" y=\"184.848941\"/>\r\n     <use style=\"fill:#ff0000;stroke:#ff0000;\" x=\"61.762764\" xlink:href=\"#m4757e54ffd\" y=\"170.007626\"/>\r\n     <use style=\"fill:#ff0000;stroke:#ff0000;\" x=\"62.886246\" xlink:href=\"#m4757e54ffd\" y=\"195.86878\"/>\r\n     <use style=\"fill:#ff0000;stroke:#ff0000;\" x=\"60.888945\" xlink:href=\"#m4757e54ffd\" y=\"199.770182\"/>\r\n     <use style=\"fill:#ff0000;stroke:#ff0000;\" x=\"60.639283\" xlink:href=\"#m4757e54ffd\" y=\"198.021794\"/>\r\n     <use style=\"fill:#ff0000;stroke:#ff0000;\" x=\"73.247242\" xlink:href=\"#m4757e54ffd\" y=\"186.382527\"/>\r\n     <use style=\"fill:#ff0000;stroke:#ff0000;\" x=\"95.716873\" xlink:href=\"#m4757e54ffd\" y=\"164.302886\"/>\r\n     <use style=\"fill:#ff0000;stroke:#ff0000;\" x=\"67.005678\" xlink:href=\"#m4757e54ffd\" y=\"190.653589\"/>\r\n     <use style=\"fill:#ff0000;stroke:#ff0000;\" x=\"107.07652\" xlink:href=\"#m4757e54ffd\" y=\"165.736564\"/>\r\n     <use style=\"fill:#ff0000;stroke:#ff0000;\" x=\"67.505003\" xlink:href=\"#m4757e54ffd\" y=\"124.839276\"/>\r\n     <use style=\"fill:#ff0000;stroke:#ff0000;\" x=\"121.057624\" xlink:href=\"#m4757e54ffd\" y=\"82.618207\"/>\r\n     <use style=\"fill:#ff0000;stroke:#ff0000;\" x=\"50.003657\" xlink:href=\"#m4757e54ffd\" y=\"207.408139\"/>\r\n     <use style=\"fill:#ff0000;stroke:#ff0000;\" x=\"57.768163\" xlink:href=\"#m4757e54ffd\" y=\"195.948706\"/>\r\n     <use style=\"fill:#ff0000;stroke:#ff0000;\" x=\"75.244543\" xlink:href=\"#m4757e54ffd\" y=\"188.155892\"/>\r\n     <use style=\"fill:#ff0000;stroke:#ff0000;\" x=\"73.247242\" xlink:href=\"#m4757e54ffd\" y=\"181.457069\"/>\r\n     <use style=\"fill:#ff0000;stroke:#ff0000;\" x=\"123.054925\" xlink:href=\"#m4757e54ffd\" y=\"148.43252\"/>\r\n     <use style=\"fill:#ff0000;stroke:#ff0000;\" x=\"74.870049\" xlink:href=\"#m4757e54ffd\" y=\"176.291832\"/>\r\n     <use style=\"fill:#ff0000;stroke:#ff0000;\" x=\"48.505682\" xlink:href=\"#m4757e54ffd\" y=\"207.263273\"/>\r\n     <use style=\"fill:#ff0000;stroke:#ff0000;\" x=\"84.606889\" xlink:href=\"#m4757e54ffd\" y=\"180.288147\"/>\r\n     <use style=\"fill:#ff0000;stroke:#ff0000;\" x=\"62.124775\" xlink:href=\"#m4757e54ffd\" y=\"197.222531\"/>\r\n     <use style=\"fill:#ff0000;stroke:#ff0000;\" x=\"52.899743\" xlink:href=\"#m4757e54ffd\" y=\"192.656742\"/>\r\n     <use style=\"fill:#ff0000;stroke:#ff0000;\" x=\"65.008378\" xlink:href=\"#m4757e54ffd\" y=\"181.157345\"/>\r\n     <use style=\"fill:#ff0000;stroke:#ff0000;\" x=\"105.953039\" xlink:href=\"#m4757e54ffd\" y=\"170.597083\"/>\r\n     <use style=\"fill:#ff0000;stroke:#ff0000;\" x=\"113.942241\" xlink:href=\"#m4757e54ffd\" y=\"158.807953\"/>\r\n     <use style=\"fill:#ff0000;stroke:#ff0000;\" x=\"70.875448\" xlink:href=\"#m4757e54ffd\" y=\"183.495189\"/>\r\n     <use style=\"fill:#ff0000;stroke:#ff0000;\" x=\"60.139957\" xlink:href=\"#m4757e54ffd\" y=\"187.281698\"/>\r\n     <use style=\"fill:#ff0000;stroke:#ff0000;\" x=\"97.090018\" xlink:href=\"#m4757e54ffd\" y=\"178.854469\"/>\r\n     <use style=\"fill:#ff0000;stroke:#ff0000;\" x=\"68.253991\" xlink:href=\"#m4757e54ffd\" y=\"175.062965\"/>\r\n     <use style=\"fill:#ff0000;stroke:#ff0000;\" x=\"87.60284\" xlink:href=\"#m4757e54ffd\" y=\"163.14895\"/>\r\n     <use style=\"fill:#ff0000;stroke:#ff0000;\" x=\"89.849803\" xlink:href=\"#m4757e54ffd\" y=\"169.79782\"/>\r\n     <use style=\"fill:#ff0000;stroke:#ff0000;\" x=\"56.51985\" xlink:href=\"#m4757e54ffd\" y=\"194.200318\"/>\r\n     <use style=\"fill:#ff0000;stroke:#ff0000;\" x=\"72.061345\" xlink:href=\"#m4757e54ffd\" y=\"120.343421\"/>\r\n     <use style=\"fill:#ff0000;stroke:#ff0000;\" x=\"81.111613\" xlink:href=\"#m4757e54ffd\" y=\"169.79782\"/>\r\n     <use style=\"fill:#ff0000;stroke:#ff0000;\" x=\"61.513102\" xlink:href=\"#m4757e54ffd\" y=\"188.920187\"/>\r\n     <use style=\"fill:#ff0000;stroke:#ff0000;\" x=\"92.096766\" xlink:href=\"#m4757e54ffd\" y=\"184.784001\"/>\r\n     <use style=\"fill:#ff0000;stroke:#ff0000;\" x=\"77.491506\" xlink:href=\"#m4757e54ffd\" y=\"194.674881\"/>\r\n     <use style=\"fill:#ff0000;stroke:#ff0000;\" x=\"57.892994\" xlink:href=\"#m4757e54ffd\" y=\"195.009572\"/>\r\n     <use style=\"fill:#ff0000;stroke:#ff0000;\" x=\"66.631184\" xlink:href=\"#m4757e54ffd\" y=\"177.665565\"/>\r\n     <use style=\"fill:#ff0000;stroke:#ff0000;\" x=\"64.25939\" xlink:href=\"#m4757e54ffd\" y=\"181.247262\"/>\r\n     <use style=\"fill:#ff0000;stroke:#ff0000;\" x=\"59.39097\" xlink:href=\"#m4757e54ffd\" y=\"185.962914\"/>\r\n     <use style=\"fill:#ff0000;stroke:#ff0000;\" x=\"104.205401\" xlink:href=\"#m4757e54ffd\" y=\"173.044826\"/>\r\n     <use style=\"fill:#ff0000;stroke:#ff0000;\" x=\"128.921995\" xlink:href=\"#m4757e54ffd\" y=\"161.80519\"/>\r\n     <use style=\"fill:#ff0000;stroke:#ff0000;\" x=\"94.468561\" xlink:href=\"#m4757e54ffd\" y=\"177.925325\"/>\r\n     <use style=\"fill:#ff0000;stroke:#ff0000;\" x=\"67.005678\" xlink:href=\"#m4757e54ffd\" y=\"128.835591\"/>\r\n     <use style=\"fill:#ff0000;stroke:#ff0000;\" x=\"176.982039\" xlink:href=\"#m4757e54ffd\" y=\"108.104706\"/>\r\n     <use style=\"fill:#ff0000;stroke:#ff0000;\" x=\"113.942241\" xlink:href=\"#m4757e54ffd\" y=\"171.761009\"/>\r\n     <use style=\"fill:#ff0000;stroke:#ff0000;\" x=\"58.879162\" xlink:href=\"#m4757e54ffd\" y=\"202.767419\"/>\r\n     <use style=\"fill:#ff0000;stroke:#ff0000;\" x=\"91.847104\" xlink:href=\"#m4757e54ffd\" y=\"184.344406\"/>\r\n     <use style=\"fill:#ff0000;stroke:#ff0000;\" x=\"93.345079\" xlink:href=\"#m4757e54ffd\" y=\"147.833073\"/>\r\n     <use style=\"fill:#ff0000;stroke:#ff0000;\" x=\"64.708782\" xlink:href=\"#m4757e54ffd\" y=\"191.777552\"/>\r\n     <use style=\"fill:#ff0000;stroke:#ff0000;\" x=\"94.593392\" xlink:href=\"#m4757e54ffd\" y=\"181.781769\"/>\r\n     <use style=\"fill:#ff0000;stroke:#ff0000;\" x=\"85.855202\" xlink:href=\"#m4757e54ffd\" y=\"184.933863\"/>\r\n     <use style=\"fill:#ff0000;stroke:#ff0000;\" x=\"70.376123\" xlink:href=\"#m4757e54ffd\" y=\"185.583264\"/>\r\n     <use style=\"fill:#ff0000;stroke:#ff0000;\" x=\"64.321805\" xlink:href=\"#m4757e54ffd\" y=\"179.43893\"/>\r\n     <use style=\"fill:#ff0000;stroke:#ff0000;\" x=\"80.861951\" xlink:href=\"#m4757e54ffd\" y=\"171.571184\"/>\r\n     <use style=\"fill:#ff0000;stroke:#ff0000;\" x=\"57.892994\" xlink:href=\"#m4757e54ffd\" y=\"196.148522\"/>\r\n     <use style=\"fill:#ff0000;stroke:#ff0000;\" x=\"65.25804\" xlink:href=\"#m4757e54ffd\" y=\"181.052442\"/>\r\n     <use style=\"fill:#ff0000;stroke:#ff0000;\" x=\"84.981383\" xlink:href=\"#m4757e54ffd\" y=\"193.126309\"/>\r\n     <use style=\"fill:#ff0000;stroke:#ff0000;\" x=\"100.672675\" xlink:href=\"#m4757e54ffd\" y=\"150.815323\"/>\r\n     <use style=\"fill:#ff0000;stroke:#ff0000;\" x=\"71.749267\" xlink:href=\"#m4757e54ffd\" y=\"165.102149\"/>\r\n     <use style=\"fill:#ff0000;stroke:#ff0000;\" x=\"64.25939\" xlink:href=\"#m4757e54ffd\" y=\"189.779395\"/>\r\n     <use style=\"fill:#ff0000;stroke:#ff0000;\" x=\"76.492856\" xlink:href=\"#m4757e54ffd\" y=\"168.798741\"/>\r\n     <use style=\"fill:#ff0000;stroke:#ff0000;\" x=\"58.766813\" xlink:href=\"#m4757e54ffd\" y=\"172.999867\"/>\r\n     <use style=\"fill:#ff0000;stroke:#ff0000;\" x=\"65.944612\" xlink:href=\"#m4757e54ffd\" y=\"191.442861\"/>\r\n     <use style=\"fill:#ff0000;stroke:#ff0000;\" x=\"76.492856\" xlink:href=\"#m4757e54ffd\" y=\"173.294595\"/>\r\n     <use style=\"fill:#ff0000;stroke:#ff0000;\" x=\"64.633884\" xlink:href=\"#m4757e54ffd\" y=\"171.296438\"/>\r\n     <use style=\"fill:#ff0000;stroke:#ff0000;\" x=\"133.29109\" xlink:href=\"#m4757e54ffd\" y=\"150.64548\"/>\r\n     <use style=\"fill:#ff0000;stroke:#ff0000;\" x=\"72.872748\" xlink:href=\"#m4757e54ffd\" y=\"174.958061\"/>\r\n     <use style=\"fill:#ff0000;stroke:#ff0000;\" x=\"97.714174\" xlink:href=\"#m4757e54ffd\" y=\"165.896417\"/>\r\n     <use style=\"fill:#ff0000;stroke:#ff0000;\" x=\"65.25804\" xlink:href=\"#m4757e54ffd\" y=\"189.609551\"/>\r\n     <use style=\"fill:#ff0000;stroke:#ff0000;\" x=\"159.505659\" xlink:href=\"#m4757e54ffd\" y=\"161.035899\"/>\r\n     <use style=\"fill:#ff0000;stroke:#ff0000;\" x=\"100.2108\" xlink:href=\"#m4757e54ffd\" y=\"142.213255\"/>\r\n     <use style=\"fill:#ff0000;stroke:#ff0000;\" x=\"84.482058\" xlink:href=\"#m4757e54ffd\" y=\"184.803983\"/>\r\n     <use style=\"fill:#ff0000;stroke:#ff0000;\" x=\"88.726321\" xlink:href=\"#m4757e54ffd\" y=\"190.938326\"/>\r\n     <use style=\"fill:#ff0000;stroke:#ff0000;\" x=\"58.39232\" xlink:href=\"#m4757e54ffd\" y=\"208.651992\"/>\r\n     <use style=\"fill:#ff0000;stroke:#ff0000;\" x=\"77.741169\" xlink:href=\"#m4757e54ffd\" y=\"187.391597\"/>\r\n     <use style=\"fill:#ff0000;stroke:#ff0000;\" x=\"62.137258\" xlink:href=\"#m4757e54ffd\" y=\"200.419583\"/>\r\n     <use style=\"fill:#ff0000;stroke:#ff0000;\" x=\"67.879497\" xlink:href=\"#m4757e54ffd\" y=\"189.40474\"/>\r\n     <use style=\"fill:#ff0000;stroke:#ff0000;\" x=\"84.606889\" xlink:href=\"#m4757e54ffd\" y=\"168.588934\"/>\r\n     <use style=\"fill:#ff0000;stroke:#ff0000;\" x=\"69.876798\" xlink:href=\"#m4757e54ffd\" y=\"184.70907\"/>\r\n     <use style=\"fill:#ff0000;stroke:#ff0000;\" x=\"74.058646\" xlink:href=\"#m4757e54ffd\" y=\"182.785843\"/>\r\n     <use style=\"fill:#ff0000;stroke:#ff0000;\" x=\"52.525249\" xlink:href=\"#m4757e54ffd\" y=\"197.717075\"/>\r\n     <use style=\"fill:#ff0000;stroke:#ff0000;\" x=\"50.278286\" xlink:href=\"#m4757e54ffd\" y=\"206.264194\"/>\r\n     <use style=\"fill:#ff0000;stroke:#ff0000;\" x=\"82.73442\" xlink:href=\"#m4757e54ffd\" y=\"146.194584\"/>\r\n     <use style=\"fill:#ff0000;stroke:#ff0000;\" x=\"82.609589\" xlink:href=\"#m4757e54ffd\" y=\"162.369669\"/>\r\n     <use style=\"fill:#ff0000;stroke:#ff0000;\" x=\"52.899743\" xlink:href=\"#m4757e54ffd\" y=\"185.28354\"/>\r\n     <use style=\"fill:#ff0000;stroke:#ff0000;\" x=\"61.013776\" xlink:href=\"#m4757e54ffd\" y=\"200.769261\"/>\r\n     <use style=\"fill:#ff0000;stroke:#ff0000;\" x=\"75.244543\" xlink:href=\"#m4757e54ffd\" y=\"185.228591\"/>\r\n     <use style=\"fill:#ff0000;stroke:#ff0000;\" x=\"69.002979\" xlink:href=\"#m4757e54ffd\" y=\"184.059669\"/>\r\n     <use style=\"fill:#ff0000;stroke:#ff0000;\" x=\"62.012427\" xlink:href=\"#m4757e54ffd\" y=\"195.024558\"/>\r\n     <use style=\"fill:#ff0000;stroke:#ff0000;\" x=\"59.640632\" xlink:href=\"#m4757e54ffd\" y=\"200.1848\"/>\r\n     <use style=\"fill:#ff0000;stroke:#ff0000;\" x=\"52.400418\" xlink:href=\"#m4757e54ffd\" y=\"200.169814\"/>\r\n     <use style=\"fill:#ff0000;stroke:#ff0000;\" x=\"119.934142\" xlink:href=\"#m4757e54ffd\" y=\"174.553434\"/>\r\n     <use style=\"fill:#ff0000;stroke:#ff0000;\" x=\"59.640632\" xlink:href=\"#m4757e54ffd\" y=\"186.762177\"/>\r\n     <use style=\"fill:#ff0000;stroke:#ff0000;\" x=\"73.99623\" xlink:href=\"#m4757e54ffd\" y=\"167.944529\"/>\r\n     <use style=\"fill:#ff0000;stroke:#ff0000;\" x=\"67.754666\" xlink:href=\"#m4757e54ffd\" y=\"183.265401\"/>\r\n     <use style=\"fill:#ff0000;stroke:#ff0000;\" x=\"112.069772\" xlink:href=\"#m4757e54ffd\" y=\"117.386148\"/>\r\n     <use style=\"fill:#ff0000;stroke:#ff0000;\" x=\"74.620386\" xlink:href=\"#m4757e54ffd\" y=\"165.906408\"/>\r\n     <use style=\"fill:#ff0000;stroke:#ff0000;\" x=\"135.787716\" xlink:href=\"#m4757e54ffd\" y=\"129.33513\"/>\r\n     <use style=\"fill:#ff0000;stroke:#ff0000;\" x=\"90.224297\" xlink:href=\"#m4757e54ffd\" y=\"182.586028\"/>\r\n     <use style=\"fill:#ff0000;stroke:#ff0000;\" x=\"61.013776\" xlink:href=\"#m4757e54ffd\" y=\"190.378842\"/>\r\n     <use style=\"fill:#ff0000;stroke:#ff0000;\" x=\"66.007028\" xlink:href=\"#m4757e54ffd\" y=\"187.006951\"/>\r\n     <use style=\"fill:#ff0000;stroke:#ff0000;\" x=\"64.633884\" xlink:href=\"#m4757e54ffd\" y=\"207.263273\"/>\r\n     <use style=\"fill:#ff0000;stroke:#ff0000;\" x=\"102.332931\" xlink:href=\"#m4757e54ffd\" y=\"187.44155\"/>\r\n     <use style=\"fill:#ff0000;stroke:#ff0000;\" x=\"79.988132\" xlink:href=\"#m4757e54ffd\" y=\"180.363077\"/>\r\n     <use style=\"fill:#ff0000;stroke:#ff0000;\" x=\"81.486107\" xlink:href=\"#m4757e54ffd\" y=\"144.880795\"/>\r\n     <use style=\"fill:#ff0000;stroke:#ff0000;\" x=\"82.110263\" xlink:href=\"#m4757e54ffd\" y=\"198.146679\"/>\r\n     <use style=\"fill:#ff0000;stroke:#ff0000;\" x=\"149.394325\" xlink:href=\"#m4757e54ffd\" y=\"174.868144\"/>\r\n     <use style=\"fill:#ff0000;stroke:#ff0000;\" x=\"80.612288\" xlink:href=\"#m4757e54ffd\" y=\"163.58355\"/>\r\n     <use style=\"fill:#ff0000;stroke:#ff0000;\" x=\"69.627135\" xlink:href=\"#m4757e54ffd\" y=\"185.183632\"/>\r\n     <use style=\"fill:#ff0000;stroke:#ff0000;\" x=\"61.488135\" xlink:href=\"#m4757e54ffd\" y=\"188.780316\"/>\r\n     <use style=\"fill:#ff0000;stroke:#ff0000;\" x=\"96.34103\" xlink:href=\"#m4757e54ffd\" y=\"183.445235\"/>\r\n     <use style=\"fill:#ff0000;stroke:#ff0000;\" x=\"84.36971\" xlink:href=\"#m4757e54ffd\" y=\"186.047836\"/>\r\n     <use style=\"fill:#ff0000;stroke:#ff0000;\" x=\"102.083269\" xlink:href=\"#m4757e54ffd\" y=\"130.109416\"/>\r\n     <use style=\"fill:#ff0000;stroke:#ff0000;\" x=\"83.608239\" xlink:href=\"#m4757e54ffd\" y=\"172.27054\"/>\r\n     <use style=\"fill:#ff0000;stroke:#ff0000;\" x=\"60.015126\" xlink:href=\"#m4757e54ffd\" y=\"203.017188\"/>\r\n     <use style=\"fill:#ff0000;stroke:#ff0000;\" x=\"83.233745\" xlink:href=\"#m4757e54ffd\" y=\"183.864849\"/>\r\n     <use style=\"fill:#ff0000;stroke:#ff0000;\" x=\"59.016476\" xlink:href=\"#m4757e54ffd\" y=\"200.864174\"/>\r\n     <use style=\"fill:#ff0000;stroke:#ff0000;\" x=\"66.780982\" xlink:href=\"#m4757e54ffd\" y=\"160.806111\"/>\r\n     <use style=\"fill:#ff0000;stroke:#ff0000;\" x=\"72.747917\" xlink:href=\"#m4757e54ffd\" y=\"190.483745\"/>\r\n     <use style=\"fill:#ff0000;stroke:#ff0000;\" x=\"123.928744\" xlink:href=\"#m4757e54ffd\" y=\"149.456576\"/>\r\n     <use style=\"fill:#ff0000;stroke:#ff0000;\" x=\"84.606889\" xlink:href=\"#m4757e54ffd\" y=\"171.795977\"/>\r\n     <use style=\"fill:#ff0000;stroke:#ff0000;\" x=\"87.103515\" xlink:href=\"#m4757e54ffd\" y=\"166.800583\"/>\r\n     <use style=\"fill:#ff0000;stroke:#ff0000;\" x=\"64.883546\" xlink:href=\"#m4757e54ffd\" y=\"183.734968\"/>\r\n     <use style=\"fill:#ff0000;stroke:#ff0000;\" x=\"90.224297\" xlink:href=\"#m4757e54ffd\" y=\"153.31302\"/>\r\n     <use style=\"fill:#ff0000;stroke:#ff0000;\" x=\"65.882197\" xlink:href=\"#m4757e54ffd\" y=\"191.058216\"/>\r\n     <use style=\"fill:#ff0000;stroke:#ff0000;\" x=\"71.374773\" xlink:href=\"#m4757e54ffd\" y=\"172.380438\"/>\r\n     <use style=\"fill:#ff0000;stroke:#ff0000;\" x=\"62.137258\" xlink:href=\"#m4757e54ffd\" y=\"196.073591\"/>\r\n     <use style=\"fill:#ff0000;stroke:#ff0000;\" x=\"85.605539\" xlink:href=\"#m4757e54ffd\" y=\"136.103889\"/>\r\n     <use style=\"fill:#ff0000;stroke:#ff0000;\" x=\"73.35959\" xlink:href=\"#m4757e54ffd\" y=\"185.653199\"/>\r\n     <use style=\"fill:#ff0000;stroke:#ff0000;\" x=\"68.12916\" xlink:href=\"#m4757e54ffd\" y=\"184.754029\"/>\r\n     <use style=\"fill:#ff0000;stroke:#ff0000;\" x=\"107.326183\" xlink:href=\"#m4757e54ffd\" y=\"171.296438\"/>\r\n     <use style=\"fill:#ff0000;stroke:#ff0000;\" x=\"60.264789\" xlink:href=\"#m4757e54ffd\" y=\"188.780316\"/>\r\n     <use style=\"fill:#ff0000;stroke:#ff0000;\" x=\"48.530648\" xlink:href=\"#m4757e54ffd\" y=\"198.651214\"/>\r\n     <use style=\"fill:#ff0000;stroke:#ff0000;\" x=\"64.591441\" xlink:href=\"#m4757e54ffd\" y=\"169.79782\"/>\r\n     <use style=\"fill:#ff0000;stroke:#ff0000;\" x=\"69.252641\" xlink:href=\"#m4757e54ffd\" y=\"183.480203\"/>\r\n     <use style=\"fill:#ff0000;stroke:#ff0000;\" x=\"89.475309\" xlink:href=\"#m4757e54ffd\" y=\"185.603246\"/>\r\n     <use style=\"fill:#ff0000;stroke:#ff0000;\" x=\"74.121061\" xlink:href=\"#m4757e54ffd\" y=\"189.854326\"/>\r\n     <use style=\"fill:#ff0000;stroke:#ff0000;\" x=\"83.483408\" xlink:href=\"#m4757e54ffd\" y=\"166.800583\"/>\r\n     <use style=\"fill:#ff0000;stroke:#ff0000;\" x=\"130.669633\" xlink:href=\"#m4757e54ffd\" y=\"159.602221\"/>\r\n     <use style=\"fill:#ff0000;stroke:#ff0000;\" x=\"60.264789\" xlink:href=\"#m4757e54ffd\" y=\"188.280777\"/>\r\n     <use style=\"fill:#ff0000;stroke:#ff0000;\" x=\"75.369374\" xlink:href=\"#m4757e54ffd\" y=\"181.696848\"/>\r\n     <use style=\"fill:#ff0000;stroke:#ff0000;\" x=\"104.455063\" xlink:href=\"#m4757e54ffd\" y=\"179.82857\"/>\r\n     <use style=\"fill:#ff0000;stroke:#ff0000;\" x=\"95.716873\" xlink:href=\"#m4757e54ffd\" y=\"179.988423\"/>\r\n     <use style=\"fill:#ff0000;stroke:#ff0000;\" x=\"153.014433\" xlink:href=\"#m4757e54ffd\" y=\"159.062718\"/>\r\n     <use style=\"fill:#ff0000;stroke:#ff0000;\" x=\"84.357227\" xlink:href=\"#m4757e54ffd\" y=\"185.808057\"/>\r\n     <use style=\"fill:#ff0000;stroke:#ff0000;\" x=\"67.754666\" xlink:href=\"#m4757e54ffd\" y=\"185.418416\"/>\r\n     <use style=\"fill:#ff0000;stroke:#ff0000;\" x=\"119.559649\" xlink:href=\"#m4757e54ffd\" y=\"163.303808\"/>\r\n     <use style=\"fill:#ff0000;stroke:#ff0000;\" x=\"80.737119\" xlink:href=\"#m4757e54ffd\" y=\"172.405415\"/>\r\n     <use style=\"fill:#ff0000;stroke:#ff0000;\" x=\"62.137258\" xlink:href=\"#m4757e54ffd\" y=\"203.716543\"/>\r\n     <use style=\"fill:#ff0000;stroke:#ff0000;\" x=\"66.481387\" xlink:href=\"#m4757e54ffd\" y=\"190.778473\"/>\r\n     <use style=\"fill:#ff0000;stroke:#ff0000;\" x=\"73.99623\" xlink:href=\"#m4757e54ffd\" y=\"186.112776\"/>\r\n     <use style=\"fill:#ff0000;stroke:#ff0000;\" x=\"106.951689\" xlink:href=\"#m4757e54ffd\" y=\"168.798741\"/>\r\n     <use style=\"fill:#ff0000;stroke:#ff0000;\" x=\"64.509052\" xlink:href=\"#m4757e54ffd\" y=\"194.070438\"/>\r\n     <use style=\"fill:#ff0000;stroke:#ff0000;\" x=\"73.484422\" xlink:href=\"#m4757e54ffd\" y=\"183.015632\"/>\r\n     <use style=\"fill:#ff0000;stroke:#ff0000;\" x=\"58.142657\" xlink:href=\"#m4757e54ffd\" y=\"205.015346\"/>\r\n     <use style=\"fill:#ff0000;stroke:#ff0000;\" x=\"70.625785\" xlink:href=\"#m4757e54ffd\" y=\"182.391207\"/>\r\n     <use style=\"fill:#ff0000;stroke:#ff0000;\" x=\"76.368024\" xlink:href=\"#m4757e54ffd\" y=\"182.201382\"/>\r\n     <use style=\"fill:#ff0000;stroke:#ff0000;\" x=\"75.244543\" xlink:href=\"#m4757e54ffd\" y=\"184.933863\"/>\r\n     <use style=\"fill:#ff0000;stroke:#ff0000;\" x=\"71.249942\" xlink:href=\"#m4757e54ffd\" y=\"183.784922\"/>\r\n     <use style=\"fill:#ff0000;stroke:#ff0000;\" x=\"85.231046\" xlink:href=\"#m4757e54ffd\" y=\"176.396735\"/>\r\n     <use style=\"fill:#ff0000;stroke:#ff0000;\" x=\"134.539403\" xlink:href=\"#m4757e54ffd\" y=\"177.205989\"/>\r\n     <use style=\"fill:#ff0000;stroke:#ff0000;\" x=\"70.625785\" xlink:href=\"#m4757e54ffd\" y=\"182.066507\"/>\r\n     <use style=\"fill:#ff0000;stroke:#ff0000;\" x=\"81.73577\" xlink:href=\"#m4757e54ffd\" y=\"173.329563\"/>\r\n     <use style=\"fill:#ff0000;stroke:#ff0000;\" x=\"87.727671\" xlink:href=\"#m4757e54ffd\" y=\"176.291832\"/>\r\n     <use style=\"fill:#ff0000;stroke:#ff0000;\" x=\"71.998929\" xlink:href=\"#m4757e54ffd\" y=\"190.538695\"/>\r\n     <use style=\"fill:#ff0000;stroke:#ff0000;\" x=\"50.877476\" xlink:href=\"#m4757e54ffd\" y=\"207.622941\"/>\r\n     <use style=\"fill:#ff0000;stroke:#ff0000;\" x=\"49.154804\" xlink:href=\"#m4757e54ffd\" y=\"199.04585\"/>\r\n     <use style=\"fill:#ff0000;stroke:#ff0000;\" x=\"62.137258\" xlink:href=\"#m4757e54ffd\" y=\"196.992743\"/>\r\n     <use style=\"fill:#ff0000;stroke:#ff0000;\" x=\"72.498255\" xlink:href=\"#m4757e54ffd\" y=\"183.350323\"/>\r\n     <use style=\"fill:#ff0000;stroke:#ff0000;\" x=\"64.633884\" xlink:href=\"#m4757e54ffd\" y=\"184.938858\"/>\r\n     <use style=\"fill:#ff0000;stroke:#ff0000;\" x=\"79.738469\" xlink:href=\"#m4757e54ffd\" y=\"188.195855\"/>\r\n     <use style=\"fill:#ff0000;stroke:#ff0000;\" x=\"64.384221\" xlink:href=\"#m4757e54ffd\" y=\"190.363856\"/>\r\n     <use style=\"fill:#ff0000;stroke:#ff0000;\" x=\"59.39097\" xlink:href=\"#m4757e54ffd\" y=\"183.285383\"/>\r\n     <use style=\"fill:#ff0000;stroke:#ff0000;\" x=\"62.511752\" xlink:href=\"#m4757e54ffd\" y=\"195.888761\"/>\r\n     <use style=\"fill:#ff0000;stroke:#ff0000;\" x=\"102.707425\" xlink:href=\"#m4757e54ffd\" y=\"179.289068\"/>\r\n     <use style=\"fill:#ff0000;stroke:#ff0000;\" x=\"108.324833\" xlink:href=\"#m4757e54ffd\" y=\"127.336972\"/>\r\n     <use style=\"fill:#ff0000;stroke:#ff0000;\" x=\"65.25804\" xlink:href=\"#m4757e54ffd\" y=\"196.418273\"/>\r\n     <use style=\"fill:#ff0000;stroke:#ff0000;\" x=\"64.633884\" xlink:href=\"#m4757e54ffd\" y=\"183.979743\"/>\r\n     <use style=\"fill:#ff0000;stroke:#ff0000;\" x=\"64.25939\" xlink:href=\"#m4757e54ffd\" y=\"189.204924\"/>\r\n     <use style=\"fill:#ff0000;stroke:#ff0000;\" x=\"79.476323\" xlink:href=\"#m4757e54ffd\" y=\"189.864316\"/>\r\n     <use style=\"fill:#ff0000;stroke:#ff0000;\" x=\"86.479358\" xlink:href=\"#m4757e54ffd\" y=\"166.580786\"/>\r\n     <use style=\"fill:#ff0000;stroke:#ff0000;\" x=\"67.754666\" xlink:href=\"#m4757e54ffd\" y=\"165.406868\"/>\r\n     <use style=\"fill:#ff0000;stroke:#ff0000;\" x=\"58.142657\" xlink:href=\"#m4757e54ffd\" y=\"186.447467\"/>\r\n     <use style=\"fill:#ff0000;stroke:#ff0000;\" x=\"57.880511\" xlink:href=\"#m4757e54ffd\" y=\"195.743895\"/>\r\n     <use style=\"fill:#ff0000;stroke:#ff0000;\" x=\"70.376123\" xlink:href=\"#m4757e54ffd\" y=\"184.239503\"/>\r\n     <use style=\"fill:#ff0000;stroke:#ff0000;\" x=\"96.715524\" xlink:href=\"#m4757e54ffd\" y=\"181.417106\"/>\r\n     <use style=\"fill:#ff0000;stroke:#ff0000;\" x=\"69.627135\" xlink:href=\"#m4757e54ffd\" y=\"185.143669\"/>\r\n     <use style=\"fill:#ff0000;stroke:#ff0000;\" x=\"67.754666\" xlink:href=\"#m4757e54ffd\" y=\"187.536463\"/>\r\n     <use style=\"fill:#ff0000;stroke:#ff0000;\" x=\"52.025924\" xlink:href=\"#m4757e54ffd\" y=\"179.788607\"/>\r\n     <use style=\"fill:#ff0000;stroke:#ff0000;\" x=\"84.981383\" xlink:href=\"#m4757e54ffd\" y=\"193.126309\"/>\r\n     <use style=\"fill:#ff0000;stroke:#ff0000;\" x=\"78.240494\" xlink:href=\"#m4757e54ffd\" y=\"198.671196\"/>\r\n     <use style=\"fill:#ff0000;stroke:#ff0000;\" x=\"72.747917\" xlink:href=\"#m4757e54ffd\" y=\"172.545286\"/>\r\n     <use style=\"fill:#ff0000;stroke:#ff0000;\" x=\"68.878147\" xlink:href=\"#m4757e54ffd\" y=\"177.29091\"/>\r\n     <use style=\"fill:#ff0000;stroke:#ff0000;\" x=\"66.506353\" xlink:href=\"#m4757e54ffd\" y=\"185.733126\"/>\r\n     <use style=\"fill:#ff0000;stroke:#ff0000;\" x=\"105.204051\" xlink:href=\"#m4757e54ffd\" y=\"172.295517\"/>\r\n     <use style=\"fill:#ff0000;stroke:#ff0000;\" x=\"78.989481\" xlink:href=\"#m4757e54ffd\" y=\"169.79782\"/>\r\n     <use style=\"fill:#ff0000;stroke:#ff0000;\" x=\"62.886246\" xlink:href=\"#m4757e54ffd\" y=\"176.876293\"/>\r\n     <use style=\"fill:#ff0000;stroke:#ff0000;\" x=\"58.766813\" xlink:href=\"#m4757e54ffd\" y=\"200.399602\"/>\r\n     <use style=\"fill:#ff0000;stroke:#ff0000;\" x=\"69.190226\" xlink:href=\"#m4757e54ffd\" y=\"197.552227\"/>\r\n     <use style=\"fill:#ff0000;stroke:#ff0000;\" x=\"75.619037\" xlink:href=\"#m4757e54ffd\" y=\"163.933227\"/>\r\n     <use style=\"fill:#ff0000;stroke:#ff0000;\" x=\"83.108914\" xlink:href=\"#m4757e54ffd\" y=\"179.12422\"/>\r\n     <use style=\"fill:#ff0000;stroke:#ff0000;\" x=\"86.229696\" xlink:href=\"#m4757e54ffd\" y=\"163.303808\"/>\r\n     <use style=\"fill:#ff0000;stroke:#ff0000;\" x=\"122.680431\" xlink:href=\"#m4757e54ffd\" y=\"161.775217\"/>\r\n     <use style=\"fill:#ff0000;stroke:#ff0000;\" x=\"85.231046\" xlink:href=\"#m4757e54ffd\" y=\"178.080183\"/>\r\n     <use style=\"fill:#ff0000;stroke:#ff0000;\" x=\"75.619037\" xlink:href=\"#m4757e54ffd\" y=\"183.070581\"/>\r\n     <use style=\"fill:#ff0000;stroke:#ff0000;\" x=\"84.482058\" xlink:href=\"#m4757e54ffd\" y=\"186.67226\"/>\r\n     <use style=\"fill:#ff0000;stroke:#ff0000;\" x=\"58.766813\" xlink:href=\"#m4757e54ffd\" y=\"197.367398\"/>\r\n     <use style=\"fill:#ff0000;stroke:#ff0000;\" x=\"70.500954\" xlink:href=\"#m4757e54ffd\" y=\"185.78308\"/>\r\n     <use style=\"fill:#ff0000;stroke:#ff0000;\" x=\"59.640632\" xlink:href=\"#m4757e54ffd\" y=\"187.281698\"/>\r\n     <use style=\"fill:#ff0000;stroke:#ff0000;\" x=\"71.874098\" xlink:href=\"#m4757e54ffd\" y=\"185.927946\"/>\r\n     <use style=\"fill:#ff0000;stroke:#ff0000;\" x=\"67.69225\" xlink:href=\"#m4757e54ffd\" y=\"191.013257\"/>\r\n     <use style=\"fill:#ff0000;stroke:#ff0000;\" x=\"113.942241\" xlink:href=\"#m4757e54ffd\" y=\"114.848488\"/>\r\n     <use style=\"fill:#ff0000;stroke:#ff0000;\" x=\"65.25804\" xlink:href=\"#m4757e54ffd\" y=\"185.2186\"/>\r\n     <use style=\"fill:#ff0000;stroke:#ff0000;\" x=\"67.505003\" xlink:href=\"#m4757e54ffd\" y=\"185.698158\"/>\r\n     <use style=\"fill:#ff0000;stroke:#ff0000;\" x=\"67.879497\" xlink:href=\"#m4757e54ffd\" y=\"189.40474\"/>\r\n     <use style=\"fill:#ff0000;stroke:#ff0000;\" x=\"89.475309\" xlink:href=\"#m4757e54ffd\" y=\"181.212294\"/>\r\n     <use style=\"fill:#ff0000;stroke:#ff0000;\" x=\"71.624436\" xlink:href=\"#m4757e54ffd\" y=\"182.885751\"/>\r\n     <use style=\"fill:#ff0000;stroke:#ff0000;\" x=\"119.559649\" xlink:href=\"#m4757e54ffd\" y=\"178.289989\"/>\r\n     <use style=\"fill:#ff0000;stroke:#ff0000;\" x=\"75.369374\" xlink:href=\"#m4757e54ffd\" y=\"188.64544\"/>\r\n     <use style=\"fill:#ff0000;stroke:#ff0000;\" x=\"111.320784\" xlink:href=\"#m4757e54ffd\" y=\"172.295517\"/>\r\n     <use style=\"fill:#ff0000;stroke:#ff0000;\" x=\"67.005678\" xlink:href=\"#m4757e54ffd\" y=\"189.644519\"/>\r\n     <use style=\"fill:#ff0000;stroke:#ff0000;\" x=\"154.512408\" xlink:href=\"#m4757e54ffd\" y=\"89.871519\"/>\r\n     <use style=\"fill:#ff0000;stroke:#ff0000;\" x=\"53.124439\" xlink:href=\"#m4757e54ffd\" y=\"201.83328\"/>\r\n     <use style=\"fill:#ff0000;stroke:#ff0000;\" x=\"61.138608\" xlink:href=\"#m4757e54ffd\" y=\"189.829349\"/>\r\n     <use style=\"fill:#ff0000;stroke:#ff0000;\" x=\"51.526599\" xlink:href=\"#m4757e54ffd\" y=\"208.761891\"/>\r\n     <use style=\"fill:#ff0000;stroke:#ff0000;\" x=\"57.144007\" xlink:href=\"#m4757e54ffd\" y=\"185.28354\"/>\r\n     <use style=\"fill:#ff0000;stroke:#ff0000;\" x=\"54.584965\" xlink:href=\"#m4757e54ffd\" y=\"193.780705\"/>\r\n     <use style=\"fill:#ff0000;stroke:#ff0000;\" x=\"60.701698\" xlink:href=\"#m4757e54ffd\" y=\"169.023534\"/>\r\n     <use style=\"fill:#ff0000;stroke:#ff0000;\" x=\"72.747917\" xlink:href=\"#m4757e54ffd\" y=\"158.807953\"/>\r\n     <use style=\"fill:#ff0000;stroke:#ff0000;\" x=\"58.267488\" xlink:href=\"#m4757e54ffd\" y=\"208.761891\"/>\r\n     <use style=\"fill:#ff0000;stroke:#ff0000;\" x=\"60.264789\" xlink:href=\"#m4757e54ffd\" y=\"197.772025\"/>\r\n     <use style=\"fill:#ff0000;stroke:#ff0000;\" x=\"86.479358\" xlink:href=\"#m4757e54ffd\" y=\"157.309335\"/>\r\n     <use style=\"fill:#ff0000;stroke:#ff0000;\" x=\"91.847104\" xlink:href=\"#m4757e54ffd\" y=\"156.994625\"/>\r\n     <use style=\"fill:#ff0000;stroke:#ff0000;\" x=\"68.316407\" xlink:href=\"#m4757e54ffd\" y=\"185.28354\"/>\r\n     <use style=\"fill:#ff0000;stroke:#ff0000;\" x=\"78.989481\" xlink:href=\"#m4757e54ffd\" y=\"172.210595\"/>\r\n     <use style=\"fill:#ff0000;stroke:#ff0000;\" x=\"75.369374\" xlink:href=\"#m4757e54ffd\" y=\"184.918877\"/>\r\n     <use style=\"fill:#ff0000;stroke:#ff0000;\" x=\"81.486107\" xlink:href=\"#m4757e54ffd\" y=\"172.295517\"/>\r\n     <use style=\"fill:#ff0000;stroke:#ff0000;\" x=\"73.122411\" xlink:href=\"#m4757e54ffd\" y=\"186.402509\"/>\r\n     <use style=\"fill:#ff0000;stroke:#ff0000;\" x=\"59.39097\" xlink:href=\"#m4757e54ffd\" y=\"183.784922\"/>\r\n     <use style=\"fill:#ff0000;stroke:#ff0000;\" x=\"238.149368\" xlink:href=\"#m4757e54ffd\" y=\"134.590284\"/>\r\n     <use style=\"fill:#ff0000;stroke:#ff0000;\" x=\"66.25669\" xlink:href=\"#m4757e54ffd\" y=\"190.648593\"/>\r\n     <use style=\"fill:#ff0000;stroke:#ff0000;\" x=\"113.942241\" xlink:href=\"#m4757e54ffd\" y=\"153.372965\"/>\r\n     <use style=\"fill:#ff0000;stroke:#ff0000;\" x=\"64.384221\" xlink:href=\"#m4757e54ffd\" y=\"193.825664\"/>\r\n     <use style=\"fill:#ff0000;stroke:#ff0000;\" x=\"75.743868\" xlink:href=\"#m4757e54ffd\" y=\"157.808875\"/>\r\n     <use style=\"fill:#ff0000;stroke:#ff0000;\" x=\"74.245893\" xlink:href=\"#m4757e54ffd\" y=\"185.513328\"/>\r\n     <use style=\"fill:#ff0000;stroke:#ff0000;\" x=\"103.955738\" xlink:href=\"#m4757e54ffd\" y=\"177.385823\"/>\r\n     <use style=\"fill:#ff0000;stroke:#ff0000;\" x=\"72.685502\" xlink:href=\"#m4757e54ffd\" y=\"177.220975\"/>\r\n     <use style=\"fill:#ff0000;stroke:#ff0000;\" x=\"59.865329\" xlink:href=\"#m4757e54ffd\" y=\"186.832112\"/>\r\n     <use style=\"fill:#ff0000;stroke:#ff0000;\" x=\"67.629835\" xlink:href=\"#m4757e54ffd\" y=\"189.105017\"/>\r\n     <use style=\"fill:#ff0000;stroke:#ff0000;\" x=\"66.631184\" xlink:href=\"#m4757e54ffd\" y=\"181.502027\"/>\r\n     <use style=\"fill:#ff0000;stroke:#ff0000;\" x=\"61.513102\" xlink:href=\"#m4757e54ffd\" y=\"191.008262\"/>\r\n     <use style=\"fill:#ff0000;stroke:#ff0000;\" x=\"113.318084\" xlink:href=\"#m4757e54ffd\" y=\"160.741171\"/>\r\n     <use style=\"fill:#ff0000;stroke:#ff0000;\" x=\"58.704398\" xlink:href=\"#m4757e54ffd\" y=\"199.770182\"/>\r\n     <use style=\"fill:#ff0000;stroke:#ff0000;\" x=\"78.927066\" xlink:href=\"#m4757e54ffd\" y=\"185.233586\"/>\r\n     <use style=\"fill:#ff0000;stroke:#ff0000;\" x=\"69.627135\" xlink:href=\"#m4757e54ffd\" y=\"182.665954\"/>\r\n     <use style=\"fill:#ff0000;stroke:#ff0000;\" x=\"84.482058\" xlink:href=\"#m4757e54ffd\" y=\"185.33849\"/>\r\n     <use style=\"fill:#ff0000;stroke:#ff0000;\" x=\"66.918296\" xlink:href=\"#m4757e54ffd\" y=\"191.777552\"/>\r\n     <use style=\"fill:#ff0000;stroke:#ff0000;\" x=\"82.110263\" xlink:href=\"#m4757e54ffd\" y=\"187.731283\"/>\r\n     <use style=\"fill:#ff0000;stroke:#ff0000;\" x=\"136.162209\" xlink:href=\"#m4757e54ffd\" y=\"159.307493\"/>\r\n     <use style=\"fill:#ff0000;stroke:#ff0000;\" x=\"55.396369\" xlink:href=\"#m4757e54ffd\" y=\"189.724445\"/>\r\n     <use style=\"fill:#ff0000;stroke:#ff0000;\" x=\"89.313029\" xlink:href=\"#m4757e54ffd\" y=\"158.308414\"/>\r\n     <use style=\"fill:#ff0000;stroke:#ff0000;\" x=\"69.502304\" xlink:href=\"#m4757e54ffd\" y=\"162.349687\"/>\r\n     <use style=\"fill:#ff0000;stroke:#ff0000;\" x=\"119.060323\" xlink:href=\"#m4757e54ffd\" y=\"122.566371\"/>\r\n     <use style=\"fill:#ff0000;stroke:#ff0000;\" x=\"138.908498\" xlink:href=\"#m4757e54ffd\" y=\"152.313941\"/>\r\n     <use style=\"fill:#ff0000;stroke:#ff0000;\" x=\"84.357227\" xlink:href=\"#m4757e54ffd\" y=\"163.803347\"/>\r\n     <use style=\"fill:#ff0000;stroke:#ff0000;\" x=\"60.264789\" xlink:href=\"#m4757e54ffd\" y=\"183.999724\"/>\r\n     <use style=\"fill:#ff0000;stroke:#ff0000;\" x=\"111.445615\" xlink:href=\"#m4757e54ffd\" y=\"171.441304\"/>\r\n     <use style=\"fill:#ff0000;stroke:#ff0000;\" x=\"81.111613\" xlink:href=\"#m4757e54ffd\" y=\"186.717218\"/>\r\n     <use style=\"fill:#ff0000;stroke:#ff0000;\" x=\"67.754666\" xlink:href=\"#m4757e54ffd\" y=\"208.172435\"/>\r\n     <use style=\"fill:#ff0000;stroke:#ff0000;\" x=\"70.001629\" xlink:href=\"#m4757e54ffd\" y=\"195.943711\"/>\r\n     <use style=\"fill:#ff0000;stroke:#ff0000;\" x=\"128.921995\" xlink:href=\"#m4757e54ffd\" y=\"170.297359\"/>\r\n     <use style=\"fill:#ff0000;stroke:#ff0000;\" x=\"50.278286\" xlink:href=\"#m4757e54ffd\" y=\"204.915438\"/>\r\n     <use style=\"fill:#ff0000;stroke:#ff0000;\" x=\"56.270188\" xlink:href=\"#m4757e54ffd\" y=\"198.771104\"/>\r\n     <use style=\"fill:#ff0000;stroke:#ff0000;\" x=\"63.760065\" xlink:href=\"#m4757e54ffd\" y=\"185.198619\"/>\r\n     <use style=\"fill:#ff0000;stroke:#ff0000;\" x=\"61.513102\" xlink:href=\"#m4757e54ffd\" y=\"196.488209\"/>\r\n     <use style=\"fill:#ff0000;stroke:#ff0000;\" x=\"57.643332\" xlink:href=\"#m4757e54ffd\" y=\"185.108702\"/>\r\n     <use style=\"fill:#ff0000;stroke:#ff0000;\" x=\"70.376123\" xlink:href=\"#m4757e54ffd\" y=\"156.310256\"/>\r\n     <use style=\"fill:#ff0000;stroke:#ff0000;\" x=\"96.840355\" xlink:href=\"#m4757e54ffd\" y=\"181.786765\"/>\r\n     <use style=\"fill:#ff0000;stroke:#ff0000;\" x=\"193.210106\" xlink:href=\"#m4757e54ffd\" y=\"70.739161\"/>\r\n     <use style=\"fill:#ff0000;stroke:#ff0000;\" x=\"65.882197\" xlink:href=\"#m4757e54ffd\" y=\"178.289989\"/>\r\n     <use style=\"fill:#ff0000;stroke:#ff0000;\" x=\"102.707425\" xlink:href=\"#m4757e54ffd\" y=\"158.972801\"/>\r\n     <use style=\"fill:#ff0000;stroke:#ff0000;\" x=\"59.640632\" xlink:href=\"#m4757e54ffd\" y=\"186.7372\"/>\r\n     <use style=\"fill:#ff0000;stroke:#ff0000;\" x=\"68.878147\" xlink:href=\"#m4757e54ffd\" y=\"182.161419\"/>\r\n     <use style=\"fill:#ff0000;stroke:#ff0000;\" x=\"58.142657\" xlink:href=\"#m4757e54ffd\" y=\"205.689724\"/>\r\n     <use style=\"fill:#ff0000;stroke:#ff0000;\" x=\"70.625785\" xlink:href=\"#m4757e54ffd\" y=\"183.839872\"/>\r\n     <use style=\"fill:#ff0000;stroke:#ff0000;\" x=\"80.237794\" xlink:href=\"#m4757e54ffd\" y=\"198.421426\"/>\r\n     <use style=\"fill:#ff0000;stroke:#ff0000;\" x=\"68.753316\" xlink:href=\"#m4757e54ffd\" y=\"177.755482\"/>\r\n     <use style=\"fill:#ff0000;stroke:#ff0000;\" x=\"61.762764\" xlink:href=\"#m4757e54ffd\" y=\"178.804515\"/>\r\n     <use style=\"fill:#ff0000;stroke:#ff0000;\" x=\"69.627135\" xlink:href=\"#m4757e54ffd\" y=\"186.17272\"/>\r\n     <use style=\"fill:#ff0000;stroke:#ff0000;\" x=\"57.518501\" xlink:href=\"#m4757e54ffd\" y=\"199.405519\"/>\r\n     <use style=\"fill:#ff0000;stroke:#ff0000;\" x=\"66.631184\" xlink:href=\"#m4757e54ffd\" y=\"186.93202\"/>\r\n     <use style=\"fill:#ff0000;stroke:#ff0000;\" x=\"71.499604\" xlink:href=\"#m4757e54ffd\" y=\"181.786765\"/>\r\n     <use style=\"fill:#ff0000;stroke:#ff0000;\" x=\"68.004328\" xlink:href=\"#m4757e54ffd\" y=\"186.557366\"/>\r\n     <use style=\"fill:#ff0000;stroke:#ff0000;\" x=\"69.252641\" xlink:href=\"#m4757e54ffd\" y=\"197.89691\"/>\r\n     <use style=\"fill:#ff0000;stroke:#ff0000;\" x=\"87.727671\" xlink:href=\"#m4757e54ffd\" y=\"147.318548\"/>\r\n     <use style=\"fill:#ff0000;stroke:#ff0000;\" x=\"65.133209\" xlink:href=\"#m4757e54ffd\" y=\"177.885362\"/>\r\n     <use style=\"fill:#ff0000;stroke:#ff0000;\" x=\"65.632534\" xlink:href=\"#m4757e54ffd\" y=\"185.78308\"/>\r\n     <use style=\"fill:#ff0000;stroke:#ff0000;\" x=\"75.868699\" xlink:href=\"#m4757e54ffd\" y=\"175.607463\"/>\r\n     <use style=\"fill:#ff0000;stroke:#ff0000;\" x=\"82.609589\" xlink:href=\"#m4757e54ffd\" y=\"173.794135\"/>\r\n     <use style=\"fill:#ff0000;stroke:#ff0000;\" x=\"62.386921\" xlink:href=\"#m4757e54ffd\" y=\"200.869169\"/>\r\n     <use style=\"fill:#ff0000;stroke:#ff0000;\" x=\"68.378822\" xlink:href=\"#m4757e54ffd\" y=\"175.792292\"/>\r\n     <use style=\"fill:#ff0000;stroke:#ff0000;\" x=\"67.505003\" xlink:href=\"#m4757e54ffd\" y=\"175.397656\"/>\r\n     <use style=\"fill:#ff0000;stroke:#ff0000;\" x=\"73.99623\" xlink:href=\"#m4757e54ffd\" y=\"176.501638\"/>\r\n     <use style=\"fill:#ff0000;stroke:#ff0000;\" x=\"67.879497\" xlink:href=\"#m4757e54ffd\" y=\"185.033771\"/>\r\n     <use style=\"fill:#ff0000;stroke:#ff0000;\" x=\"74.370724\" xlink:href=\"#m4757e54ffd\" y=\"187.911117\"/>\r\n     <use style=\"fill:#ff0000;stroke:#ff0000;\" x=\"80.612288\" xlink:href=\"#m4757e54ffd\" y=\"173.759167\"/>\r\n     <use style=\"fill:#ff0000;stroke:#ff0000;\" x=\"61.513102\" xlink:href=\"#m4757e54ffd\" y=\"188.280777\"/>\r\n     <use style=\"fill:#ff0000;stroke:#ff0000;\" x=\"69.12781\" xlink:href=\"#m4757e54ffd\" y=\"164.997246\"/>\r\n     <use style=\"fill:#ff0000;stroke:#ff0000;\" x=\"64.341778\" xlink:href=\"#m4757e54ffd\" y=\"183.325346\"/>\r\n     <use style=\"fill:#ff0000;stroke:#ff0000;\" x=\"131.293789\" xlink:href=\"#m4757e54ffd\" y=\"144.840832\"/>\r\n     <use style=\"fill:#ff0000;stroke:#ff0000;\" x=\"83.982733\" xlink:href=\"#m4757e54ffd\" y=\"152.313941\"/>\r\n     <use style=\"fill:#ff0000;stroke:#ff0000;\" x=\"73.247242\" xlink:href=\"#m4757e54ffd\" y=\"181.352165\"/>\r\n     <use style=\"fill:#ff0000;stroke:#ff0000;\" x=\"71.249942\" xlink:href=\"#m4757e54ffd\" y=\"183.535153\"/>\r\n     <use style=\"fill:#ff0000;stroke:#ff0000;\" x=\"59.515801\" xlink:href=\"#m4757e54ffd\" y=\"183.285383\"/>\r\n     <use style=\"fill:#ff0000;stroke:#ff0000;\" x=\"61.887595\" xlink:href=\"#m4757e54ffd\" y=\"196.917812\"/>\r\n     <use style=\"fill:#ff0000;stroke:#ff0000;\" x=\"84.33226\" xlink:href=\"#m4757e54ffd\" y=\"168.828713\"/>\r\n     <use style=\"fill:#ff0000;stroke:#ff0000;\" x=\"66.880847\" xlink:href=\"#m4757e54ffd\" y=\"180.288147\"/>\r\n     <use style=\"fill:#ff0000;stroke:#ff0000;\" x=\"77.866\" xlink:href=\"#m4757e54ffd\" y=\"172.295517\"/>\r\n     <use style=\"fill:#ff0000;stroke:#ff0000;\" x=\"103.955738\" xlink:href=\"#m4757e54ffd\" y=\"169.672935\"/>\r\n     <use style=\"fill:#ff0000;stroke:#ff0000;\" x=\"72.373423\" xlink:href=\"#m4757e54ffd\" y=\"181.332184\"/>\r\n     <use style=\"fill:#ff0000;stroke:#ff0000;\" x=\"69.614652\" xlink:href=\"#m4757e54ffd\" y=\"185.143669\"/>\r\n     <use style=\"fill:#ff0000;stroke:#ff0000;\" x=\"61.513102\" xlink:href=\"#m4757e54ffd\" y=\"183.170489\"/>\r\n     <use style=\"fill:#ff0000;stroke:#ff0000;\" x=\"93.969235\" xlink:href=\"#m4757e54ffd\" y=\"140.824536\"/>\r\n     <use style=\"fill:#ff0000;stroke:#ff0000;\" x=\"66.880847\" xlink:href=\"#m4757e54ffd\" y=\"194.275249\"/>\r\n     <use style=\"fill:#ff0000;stroke:#ff0000;\" x=\"63.635233\" xlink:href=\"#m4757e54ffd\" y=\"179.289068\"/>\r\n     <use style=\"fill:#ff0000;stroke:#ff0000;\" x=\"62.137258\" xlink:href=\"#m4757e54ffd\" y=\"200.549464\"/>\r\n     <use style=\"fill:#ff0000;stroke:#ff0000;\" x=\"78.365325\" xlink:href=\"#m4757e54ffd\" y=\"192.961461\"/>\r\n     <use style=\"fill:#ff0000;stroke:#ff0000;\" x=\"60.364654\" xlink:href=\"#m4757e54ffd\" y=\"203.246976\"/>\r\n     <use style=\"fill:#ff0000;stroke:#ff0000;\" x=\"74.121061\" xlink:href=\"#m4757e54ffd\" y=\"186.032849\"/>\r\n     <use style=\"fill:#ff0000;stroke:#ff0000;\" x=\"65.25804\" xlink:href=\"#m4757e54ffd\" y=\"199.270643\"/>\r\n     <use style=\"fill:#ff0000;stroke:#ff0000;\" x=\"114.566397\" xlink:href=\"#m4757e54ffd\" y=\"157.873815\"/>\r\n     <use style=\"fill:#ff0000;stroke:#ff0000;\" x=\"67.005678\" xlink:href=\"#m4757e54ffd\" y=\"166.301044\"/>\r\n     <use style=\"fill:#ff0000;stroke:#ff0000;\" x=\"68.12916\" xlink:href=\"#m4757e54ffd\" y=\"190.423801\"/>\r\n     <use style=\"fill:#ff0000;stroke:#ff0000;\" x=\"65.008378\" xlink:href=\"#m4757e54ffd\" y=\"186.572352\"/>\r\n     <use style=\"fill:#ff0000;stroke:#ff0000;\" x=\"72.498255\" xlink:href=\"#m4757e54ffd\" y=\"184.284462\"/>\r\n     <use style=\"fill:#ff0000;stroke:#ff0000;\" x=\"58.766813\" xlink:href=\"#m4757e54ffd\" y=\"194.634917\"/>\r\n     <use style=\"fill:#ff0000;stroke:#ff0000;\" x=\"92.096766\" xlink:href=\"#m4757e54ffd\" y=\"170.647037\"/>\r\n     <use style=\"fill:#ff0000;stroke:#ff0000;\" x=\"67.629835\" xlink:href=\"#m4757e54ffd\" y=\"171.795977\"/>\r\n     <use style=\"fill:#ff0000;stroke:#ff0000;\" x=\"58.391071\" xlink:href=\"#m4757e54ffd\" y=\"201.418662\"/>\r\n     <use style=\"fill:#ff0000;stroke:#ff0000;\" x=\"82.110263\" xlink:href=\"#m4757e54ffd\" y=\"128.835591\"/>\r\n     <use style=\"fill:#ff0000;stroke:#ff0000;\" x=\"80.612288\" xlink:href=\"#m4757e54ffd\" y=\"158.822939\"/>\r\n     <use style=\"fill:#ff0000;stroke:#ff0000;\" x=\"86.479358\" xlink:href=\"#m4757e54ffd\" y=\"185.013789\"/>\r\n     <use style=\"fill:#ff0000;stroke:#ff0000;\" x=\"69.627135\" xlink:href=\"#m4757e54ffd\" y=\"192.521866\"/>\r\n     <use style=\"fill:#ff0000;stroke:#ff0000;\" x=\"59.39097\" xlink:href=\"#m4757e54ffd\" y=\"196.633075\"/>\r\n     <use style=\"fill:#ff0000;stroke:#ff0000;\" x=\"114.441566\" xlink:href=\"#m4757e54ffd\" y=\"163.943218\"/>\r\n     <use style=\"fill:#ff0000;stroke:#ff0000;\" x=\"70.376123\" xlink:href=\"#m4757e54ffd\" y=\"181.472055\"/>\r\n     <use style=\"fill:#ff0000;stroke:#ff0000;\" x=\"55.745896\" xlink:href=\"#m4757e54ffd\" y=\"209.711016\"/>\r\n     <use style=\"fill:#ff0000;stroke:#ff0000;\" x=\"62.386921\" xlink:href=\"#m4757e54ffd\" y=\"197.272485\"/>\r\n     <use style=\"fill:#ff0000;stroke:#ff0000;\" x=\"79.214178\" xlink:href=\"#m4757e54ffd\" y=\"185.443393\"/>\r\n     <use style=\"fill:#ff0000;stroke:#ff0000;\" x=\"61.887595\" xlink:href=\"#m4757e54ffd\" y=\"181.382138\"/>\r\n     <use style=\"fill:#ff0000;stroke:#ff0000;\" x=\"81.486107\" xlink:href=\"#m4757e54ffd\" y=\"189.189938\"/>\r\n     <use style=\"fill:#ff0000;stroke:#ff0000;\" x=\"78.989481\" xlink:href=\"#m4757e54ffd\" y=\"155.031436\"/>\r\n     <use style=\"fill:#ff0000;stroke:#ff0000;\" x=\"63.760065\" xlink:href=\"#m4757e54ffd\" y=\"201.2688\"/>\r\n     <use style=\"fill:#ff0000;stroke:#ff0000;\" x=\"56.270188\" xlink:href=\"#m4757e54ffd\" y=\"185.618232\"/>\r\n     <use style=\"fill:#ff0000;stroke:#ff0000;\" x=\"91.847104\" xlink:href=\"#m4757e54ffd\" y=\"156.260302\"/>\r\n     <use style=\"fill:#ff0000;stroke:#ff0000;\" x=\"75.119712\" xlink:href=\"#m4757e54ffd\" y=\"176.926247\"/>\r\n     <use style=\"fill:#ff0000;stroke:#ff0000;\" x=\"64.134559\" xlink:href=\"#m4757e54ffd\" y=\"185.79307\"/>\r\n     <use style=\"fill:#ff0000;stroke:#ff0000;\" x=\"68.12916\" xlink:href=\"#m4757e54ffd\" y=\"183.784922\"/>\r\n     <use style=\"fill:#ff0000;stroke:#ff0000;\" x=\"73.372074\" xlink:href=\"#m4757e54ffd\" y=\"191.727598\"/>\r\n     <use style=\"fill:#ff0000;stroke:#ff0000;\" x=\"64.509052\" xlink:href=\"#m4757e54ffd\" y=\"189.714455\"/>\r\n     <use style=\"fill:#ff0000;stroke:#ff0000;\" x=\"64.009727\" xlink:href=\"#m4757e54ffd\" y=\"200.684339\"/>\r\n     <use style=\"fill:#ff0000;stroke:#ff0000;\" x=\"72.123761\" xlink:href=\"#m4757e54ffd\" y=\"182.935705\"/>\r\n     <use style=\"fill:#ff0000;stroke:#ff0000;\" x=\"77.054596\" xlink:href=\"#m4757e54ffd\" y=\"164.992251\"/>\r\n     <use style=\"fill:#ff0000;stroke:#ff0000;\" x=\"62.386921\" xlink:href=\"#m4757e54ffd\" y=\"200.419583\"/>\r\n     <use style=\"fill:#ff0000;stroke:#ff0000;\" x=\"80.737119\" xlink:href=\"#m4757e54ffd\" y=\"173.004862\"/>\r\n     <use style=\"fill:#ff0000;stroke:#ff0000;\" x=\"72.123761\" xlink:href=\"#m4757e54ffd\" y=\"183.210452\"/>\r\n     <use style=\"fill:#ff0000;stroke:#ff0000;\" x=\"58.142657\" xlink:href=\"#m4757e54ffd\" y=\"205.689724\"/>\r\n     <use style=\"fill:#ff0000;stroke:#ff0000;\" x=\"69.12781\" xlink:href=\"#m4757e54ffd\" y=\"189.259874\"/>\r\n     <use style=\"fill:#ff0000;stroke:#ff0000;\" x=\"123.179756\" xlink:href=\"#m4757e54ffd\" y=\"167.879588\"/>\r\n     <use style=\"fill:#ff0000;stroke:#ff0000;\" x=\"67.380172\" xlink:href=\"#m4757e54ffd\" y=\"186.782158\"/>\r\n     <use style=\"fill:#ff0000;stroke:#ff0000;\" x=\"71.874098\" xlink:href=\"#m4757e54ffd\" y=\"185.08872\"/>\r\n     <use style=\"fill:#ff0000;stroke:#ff0000;\" x=\"116.438867\" xlink:href=\"#m4757e54ffd\" y=\"168.349155\"/>\r\n     <use style=\"fill:#ff0000;stroke:#ff0000;\" x=\"104.829557\" xlink:href=\"#m4757e54ffd\" y=\"165.117136\"/>\r\n     <use style=\"fill:#ff0000;stroke:#ff0000;\" x=\"61.513102\" xlink:href=\"#m4757e54ffd\" y=\"188.280777\"/>\r\n     <use style=\"fill:#ff0000;stroke:#ff0000;\" x=\"66.007028\" xlink:href=\"#m4757e54ffd\" y=\"186.48743\"/>\r\n     <use style=\"fill:#ff0000;stroke:#ff0000;\" x=\"153.014433\" xlink:href=\"#m4757e54ffd\" y=\"17.083636\"/>\r\n     <use style=\"fill:#ff0000;stroke:#ff0000;\" x=\"98.33833\" xlink:href=\"#m4757e54ffd\" y=\"181.961603\"/>\r\n     <use style=\"fill:#ff0000;stroke:#ff0000;\" x=\"64.184491\" xlink:href=\"#m4757e54ffd\" y=\"169.672935\"/>\r\n     <use style=\"fill:#ff0000;stroke:#ff0000;\" x=\"82.110263\" xlink:href=\"#m4757e54ffd\" y=\"166.301044\"/>\r\n     <use style=\"fill:#ff0000;stroke:#ff0000;\" x=\"58.017826\" xlink:href=\"#m4757e54ffd\" y=\"198.866016\"/>\r\n     <use style=\"fill:#ff0000;stroke:#ff0000;\" x=\"108.07517\" xlink:href=\"#m4757e54ffd\" y=\"177.29091\"/>\r\n     <use style=\"fill:#ff0000;stroke:#ff0000;\" x=\"123.928744\" xlink:href=\"#m4757e54ffd\" y=\"159.602221\"/>\r\n     <use style=\"fill:#ff0000;stroke:#ff0000;\" x=\"48.905142\" xlink:href=\"#m4757e54ffd\" y=\"214.756364\"/>\r\n     <use style=\"fill:#ff0000;stroke:#ff0000;\" x=\"56.894344\" xlink:href=\"#m4757e54ffd\" y=\"185.413421\"/>\r\n     <use style=\"fill:#ff0000;stroke:#ff0000;\" x=\"59.016476\" xlink:href=\"#m4757e54ffd\" y=\"183.035613\"/>\r\n     <use style=\"fill:#ff0000;stroke:#ff0000;\" x=\"72.123761\" xlink:href=\"#m4757e54ffd\" y=\"200.699326\"/>\r\n     <use style=\"fill:#ff0000;stroke:#ff0000;\" x=\"91.47261\" xlink:href=\"#m4757e54ffd\" y=\"181.586949\"/>\r\n     <use style=\"fill:#ff0000;stroke:#ff0000;\" x=\"59.890295\" xlink:href=\"#m4757e54ffd\" y=\"182.785843\"/>\r\n     <use style=\"fill:#ff0000;stroke:#ff0000;\" x=\"65.382871\" xlink:href=\"#m4757e54ffd\" y=\"187.901127\"/>\r\n     <use style=\"fill:#ff0000;stroke:#ff0000;\" x=\"62.386921\" xlink:href=\"#m4757e54ffd\" y=\"190.064132\"/>\r\n     <use style=\"fill:#ff0000;stroke:#ff0000;\" x=\"77.741169\" xlink:href=\"#m4757e54ffd\" y=\"169.782833\"/>\r\n     <use style=\"fill:#ff0000;stroke:#ff0000;\" x=\"159.255997\" xlink:href=\"#m4757e54ffd\" y=\"161.835162\"/>\r\n     <use style=\"fill:#ff0000;stroke:#ff0000;\" x=\"105.703376\" xlink:href=\"#m4757e54ffd\" y=\"185.073734\"/>\r\n     <use style=\"fill:#ff0000;stroke:#ff0000;\" x=\"71.811683\" xlink:href=\"#m4757e54ffd\" y=\"178.539759\"/>\r\n     <use style=\"fill:#ff0000;stroke:#ff0000;\" x=\"77.616337\" xlink:href=\"#m4757e54ffd\" y=\"182.785843\"/>\r\n     <use style=\"fill:#ff0000;stroke:#ff0000;\" x=\"64.633884\" xlink:href=\"#m4757e54ffd\" y=\"184.938858\"/>\r\n     <use style=\"fill:#ff0000;stroke:#ff0000;\" x=\"53.149406\" xlink:href=\"#m4757e54ffd\" y=\"201.76834\"/>\r\n     <use style=\"fill:#ff0000;stroke:#ff0000;\" x=\"111.94494\" xlink:href=\"#m4757e54ffd\" y=\"166.985413\"/>\r\n     <use style=\"fill:#ff0000;stroke:#ff0000;\" x=\"62.137258\" xlink:href=\"#m4757e54ffd\" y=\"194.819747\"/>\r\n     <use style=\"fill:#ff0000;stroke:#ff0000;\" x=\"72.872748\" xlink:href=\"#m4757e54ffd\" y=\"183.485199\"/>\r\n     <use style=\"fill:#ff0000;stroke:#ff0000;\" x=\"62.137258\" xlink:href=\"#m4757e54ffd\" y=\"188.07097\"/>\r\n     <use style=\"fill:#ff0000;stroke:#ff0000;\" x=\"99.536711\" xlink:href=\"#m4757e54ffd\" y=\"171.146576\"/>\r\n     <use style=\"fill:#ff0000;stroke:#ff0000;\" x=\"77.366675\" xlink:href=\"#m4757e54ffd\" y=\"164.163015\"/>\r\n     <use style=\"fill:#ff0000;stroke:#ff0000;\" x=\"54.023225\" xlink:href=\"#m4757e54ffd\" y=\"212.42851\"/>\r\n     <use style=\"fill:#ff0000;stroke:#ff0000;\" x=\"61.700349\" xlink:href=\"#m4757e54ffd\" y=\"186.007872\"/>\r\n     <use style=\"fill:#ff0000;stroke:#ff0000;\" x=\"60.764114\" xlink:href=\"#m4757e54ffd\" y=\"179.289068\"/>\r\n     <use style=\"fill:#ff0000;stroke:#ff0000;\" x=\"51.401768\" xlink:href=\"#m4757e54ffd\" y=\"208.382241\"/>\r\n     <use style=\"fill:#ff0000;stroke:#ff0000;\" x=\"68.004328\" xlink:href=\"#m4757e54ffd\" y=\"186.927025\"/>\r\n     <use style=\"fill:#ff0000;stroke:#ff0000;\" x=\"62.886246\" xlink:href=\"#m4757e54ffd\" y=\"200.064911\"/>\r\n     <use style=\"fill:#ff0000;stroke:#ff0000;\" x=\"59.640632\" xlink:href=\"#m4757e54ffd\" y=\"186.60732\"/>\r\n     <use style=\"fill:#ff0000;stroke:#ff0000;\" x=\"63.135908\" xlink:href=\"#m4757e54ffd\" y=\"186.782158\"/>\r\n     <use style=\"fill:#ff0000;stroke:#ff0000;\" x=\"81.486107\" xlink:href=\"#m4757e54ffd\" y=\"159.307493\"/>\r\n     <use style=\"fill:#ff0000;stroke:#ff0000;\" x=\"58.267488\" xlink:href=\"#m4757e54ffd\" y=\"204.675659\"/>\r\n     <use style=\"fill:#ff0000;stroke:#ff0000;\" x=\"73.496905\" xlink:href=\"#m4757e54ffd\" y=\"185.253568\"/>\r\n     <use style=\"fill:#ff0000;stroke:#ff0000;\" x=\"101.833606\" xlink:href=\"#m4757e54ffd\" y=\"181.502027\"/>\r\n     <use style=\"fill:#ff0000;stroke:#ff0000;\" x=\"84.606889\" xlink:href=\"#m4757e54ffd\" y=\"157.309335\"/>\r\n     <use style=\"fill:#ff0000;stroke:#ff0000;\" x=\"59.39097\" xlink:href=\"#m4757e54ffd\" y=\"199.120781\"/>\r\n     <use style=\"fill:#ff0000;stroke:#ff0000;\" x=\"65.25804\" xlink:href=\"#m4757e54ffd\" y=\"185.573273\"/>\r\n     <use style=\"fill:#ff0000;stroke:#ff0000;\" x=\"66.880847\" xlink:href=\"#m4757e54ffd\" y=\"185.578269\"/>\r\n     <use style=\"fill:#ff0000;stroke:#ff0000;\" x=\"90.224297\" xlink:href=\"#m4757e54ffd\" y=\"182.23635\"/>\r\n     <use style=\"fill:#ff0000;stroke:#ff0000;\" x=\"79.988132\" xlink:href=\"#m4757e54ffd\" y=\"180.363077\"/>\r\n     <use style=\"fill:#ff0000;stroke:#ff0000;\" x=\"84.606889\" xlink:href=\"#m4757e54ffd\" y=\"173.294595\"/>\r\n     <use style=\"fill:#ff0000;stroke:#ff0000;\" x=\"60.015126\" xlink:href=\"#m4757e54ffd\" y=\"195.074512\"/>\r\n     <use style=\"fill:#ff0000;stroke:#ff0000;\" x=\"57.019175\" xlink:href=\"#m4757e54ffd\" y=\"205.38001\"/>\r\n     <use style=\"fill:#ff0000;stroke:#ff0000;\" x=\"64.384221\" xlink:href=\"#m4757e54ffd\" y=\"171.296438\"/>\r\n     <use style=\"fill:#ff0000;stroke:#ff0000;\" x=\"67.754666\" xlink:href=\"#m4757e54ffd\" y=\"186.782158\"/>\r\n     <use style=\"fill:#ff0000;stroke:#ff0000;\" x=\"93.719573\" xlink:href=\"#m4757e54ffd\" y=\"170.297359\"/>\r\n     <use style=\"fill:#ff0000;stroke:#ff0000;\" x=\"97.090018\" xlink:href=\"#m4757e54ffd\" y=\"187.331652\"/>\r\n     <use style=\"fill:#ff0000;stroke:#ff0000;\" x=\"91.47261\" xlink:href=\"#m4757e54ffd\" y=\"181.956608\"/>\r\n     <use style=\"fill:#ff0000;stroke:#ff0000;\" x=\"68.378822\" xlink:href=\"#m4757e54ffd\" y=\"187.281698\"/>\r\n     <use style=\"fill:#ff0000;stroke:#ff0000;\" x=\"57.381186\" xlink:href=\"#m4757e54ffd\" y=\"184.808978\"/>\r\n     <use style=\"fill:#ff0000;stroke:#ff0000;\" x=\"53.897145\" xlink:href=\"#m4757e54ffd\" y=\"210.640159\"/>\r\n     <use style=\"fill:#ff0000;stroke:#ff0000;\" x=\"59.615666\" xlink:href=\"#m4757e54ffd\" y=\"206.264194\"/>\r\n     <use style=\"fill:#ff0000;stroke:#ff0000;\" x=\"49.154804\" xlink:href=\"#m4757e54ffd\" y=\"208.931734\"/>\r\n     <use style=\"fill:#ff0000;stroke:#ff0000;\" x=\"72.123761\" xlink:href=\"#m4757e54ffd\" y=\"166.301044\"/>\r\n     <use style=\"fill:#ff0000;stroke:#ff0000;\" x=\"71.374773\" xlink:href=\"#m4757e54ffd\" y=\"197.197554\"/>\r\n     <use style=\"fill:#ff0000;stroke:#ff0000;\" x=\"78.365325\" xlink:href=\"#m4757e54ffd\" y=\"185.753107\"/>\r\n     <use style=\"fill:#ff0000;stroke:#ff0000;\" x=\"65.882197\" xlink:href=\"#m4757e54ffd\" y=\"162.304729\"/>\r\n     <use style=\"fill:#ff0000;stroke:#ff0000;\" x=\"84.232395\" xlink:href=\"#m4757e54ffd\" y=\"166.850537\"/>\r\n     <use style=\"fill:#ff0000;stroke:#ff0000;\" x=\"59.765464\" xlink:href=\"#m4757e54ffd\" y=\"203.381852\"/>\r\n     <use style=\"fill:#ff0000;stroke:#ff0000;\" x=\"71.998929\" xlink:href=\"#m4757e54ffd\" y=\"186.002877\"/>\r\n     <use style=\"fill:#ff0000;stroke:#ff0000;\" x=\"59.578217\" xlink:href=\"#m4757e54ffd\" y=\"203.831437\"/>\r\n     <use style=\"fill:#ff0000;stroke:#ff0000;\" x=\"70.12646\" xlink:href=\"#m4757e54ffd\" y=\"186.927025\"/>\r\n     <use style=\"fill:#ff0000;stroke:#ff0000;\" x=\"104.829557\" xlink:href=\"#m4757e54ffd\" y=\"163.438683\"/>\r\n     <use style=\"fill:#ff0000;stroke:#ff0000;\" x=\"76.492856\" xlink:href=\"#m4757e54ffd\" y=\"188.500574\"/>\r\n     <use style=\"fill:#ff0000;stroke:#ff0000;\" x=\"92.096766\" xlink:href=\"#m4757e54ffd\" y=\"170.612069\"/>\r\n     <use style=\"fill:#ff0000;stroke:#ff0000;\" x=\"63.85993\" xlink:href=\"#m4757e54ffd\" y=\"195.773867\"/>\r\n     <use style=\"fill:#ff0000;stroke:#ff0000;\" x=\"154.262746\" xlink:href=\"#m4757e54ffd\" y=\"131.228384\"/>\r\n     <use style=\"fill:#ff0000;stroke:#ff0000;\" x=\"66.25669\" xlink:href=\"#m4757e54ffd\" y=\"179.888515\"/>\r\n     <use style=\"fill:#ff0000;stroke:#ff0000;\" x=\"83.233745\" xlink:href=\"#m4757e54ffd\" y=\"183.864849\"/>\r\n     <use style=\"fill:#ff0000;stroke:#ff0000;\" x=\"59.39097\" xlink:href=\"#m4757e54ffd\" y=\"185.28354\"/>\r\n     <use style=\"fill:#ff0000;stroke:#ff0000;\" x=\"80.612288\" xlink:href=\"#m4757e54ffd\" y=\"173.509397\"/>\r\n     <use style=\"fill:#ff0000;stroke:#ff0000;\" x=\"64.009727\" xlink:href=\"#m4757e54ffd\" y=\"185.823043\"/>\r\n     <use style=\"fill:#ff0000;stroke:#ff0000;\" x=\"63.385571\" xlink:href=\"#m4757e54ffd\" y=\"195.703932\"/>\r\n     <use style=\"fill:#ff0000;stroke:#ff0000;\" x=\"159.505659\" xlink:href=\"#m4757e54ffd\" y=\"161.035899\"/>\r\n     <use style=\"fill:#ff0000;stroke:#ff0000;\" x=\"72.623086\" xlink:href=\"#m4757e54ffd\" y=\"185.668186\"/>\r\n     <use style=\"fill:#ff0000;stroke:#ff0000;\" x=\"79.738469\" xlink:href=\"#m4757e54ffd\" y=\"172.210595\"/>\r\n     <use style=\"fill:#ff0000;stroke:#ff0000;\" x=\"145.150062\" xlink:href=\"#m4757e54ffd\" y=\"157.808875\"/>\r\n     <use style=\"fill:#ff0000;stroke:#ff0000;\" x=\"70.251291\" xlink:href=\"#m4757e54ffd\" y=\"182.286304\"/>\r\n     <use style=\"fill:#ff0000;stroke:#ff0000;\" x=\"81.361276\" xlink:href=\"#m4757e54ffd\" y=\"161.475494\"/>\r\n     <use style=\"fill:#ff0000;stroke:#ff0000;\" x=\"83.108914\" xlink:href=\"#m4757e54ffd\" y=\"192.526861\"/>\r\n     <use style=\"fill:#ff0000;stroke:#ff0000;\" x=\"66.880847\" xlink:href=\"#m4757e54ffd\" y=\"186.427486\"/>\r\n     <use style=\"fill:#ff0000;stroke:#ff0000;\" x=\"81.486107\" xlink:href=\"#m4757e54ffd\" y=\"189.189938\"/>\r\n     <use style=\"fill:#ff0000;stroke:#ff0000;\" x=\"66.506353\" xlink:href=\"#m4757e54ffd\" y=\"184.943854\"/>\r\n     <use style=\"fill:#ff0000;stroke:#ff0000;\" x=\"64.134559\" xlink:href=\"#m4757e54ffd\" y=\"196.338347\"/>\r\n     <use style=\"fill:#ff0000;stroke:#ff0000;\" x=\"61.762764\" xlink:href=\"#m4757e54ffd\" y=\"187.281698\"/>\r\n     <use style=\"fill:#ff0000;stroke:#ff0000;\" x=\"71.249942\" xlink:href=\"#m4757e54ffd\" y=\"185.872997\"/>\r\n     <use style=\"fill:#ff0000;stroke:#ff0000;\" x=\"60.764114\" xlink:href=\"#m4757e54ffd\" y=\"185.223596\"/>\r\n     <use style=\"fill:#ff0000;stroke:#ff0000;\" x=\"62.636583\" xlink:href=\"#m4757e54ffd\" y=\"191.098179\"/>\r\n     <use style=\"fill:#ff0000;stroke:#ff0000;\" x=\"66.25669\" xlink:href=\"#m4757e54ffd\" y=\"185.553292\"/>\r\n     <use style=\"fill:#ff0000;stroke:#ff0000;\" x=\"108.699327\" xlink:href=\"#m4757e54ffd\" y=\"178.384902\"/>\r\n     <use style=\"fill:#ff0000;stroke:#ff0000;\" x=\"69.627135\" xlink:href=\"#m4757e54ffd\" y=\"193.011415\"/>\r\n     <use style=\"fill:#ff0000;stroke:#ff0000;\" x=\"71.187526\" xlink:href=\"#m4757e54ffd\" y=\"184.808978\"/>\r\n     <use style=\"fill:#ff0000;stroke:#ff0000;\" x=\"64.009727\" xlink:href=\"#m4757e54ffd\" y=\"192.776631\"/>\r\n     <use style=\"fill:#ff0000;stroke:#ff0000;\" x=\"76.86735\" xlink:href=\"#m4757e54ffd\" y=\"168.299201\"/>\r\n     <use style=\"fill:#ff0000;stroke:#ff0000;\" x=\"69.627135\" xlink:href=\"#m4757e54ffd\" y=\"168.728805\"/>\r\n     <use style=\"fill:#ff0000;stroke:#ff0000;\" x=\"50.777611\" xlink:href=\"#m4757e54ffd\" y=\"207.657909\"/>\r\n     <use style=\"fill:#ff0000;stroke:#ff0000;\" x=\"74.370724\" xlink:href=\"#m4757e54ffd\" y=\"205.629779\"/>\r\n     <use style=\"fill:#ff0000;stroke:#ff0000;\" x=\"82.110263\" xlink:href=\"#m4757e54ffd\" y=\"172.495332\"/>\r\n     <use style=\"fill:#ff0000;stroke:#ff0000;\" x=\"61.263439\" xlink:href=\"#m4757e54ffd\" y=\"204.365945\"/>\r\n     <use style=\"fill:#ff0000;stroke:#ff0000;\" x=\"68.603519\" xlink:href=\"#m4757e54ffd\" y=\"203.366866\"/>\r\n     <use style=\"fill:#ff0000;stroke:#ff0000;\" x=\"78.365325\" xlink:href=\"#m4757e54ffd\" y=\"174.578411\"/>\r\n     <use style=\"fill:#ff0000;stroke:#ff0000;\" x=\"82.110263\" xlink:href=\"#m4757e54ffd\" y=\"186.122766\"/>\r\n     <use style=\"fill:#ff0000;stroke:#ff0000;\" x=\"69.502304\" xlink:href=\"#m4757e54ffd\" y=\"183.515171\"/>\r\n     <use style=\"fill:#ff0000;stroke:#ff0000;\" x=\"89.60014\" xlink:href=\"#m4757e54ffd\" y=\"185.853015\"/>\r\n     <use style=\"fill:#ff0000;stroke:#ff0000;\" x=\"70.750617\" xlink:href=\"#m4757e54ffd\" y=\"185.003798\"/>\r\n     <use style=\"fill:#ff0000;stroke:#ff0000;\" x=\"118.061673\" xlink:href=\"#m4757e54ffd\" y=\"159.926922\"/>\r\n     <use style=\"fill:#ff0000;stroke:#ff0000;\" x=\"72.123761\" xlink:href=\"#m4757e54ffd\" y=\"183.285383\"/>\r\n     <use style=\"fill:#ff0000;stroke:#ff0000;\" x=\"63.135908\" xlink:href=\"#m4757e54ffd\" y=\"185.28354\"/>\r\n     <use style=\"fill:#ff0000;stroke:#ff0000;\" x=\"113.942241\" xlink:href=\"#m4757e54ffd\" y=\"156.854754\"/>\r\n     <use style=\"fill:#ff0000;stroke:#ff0000;\" x=\"64.384221\" xlink:href=\"#m4757e54ffd\" y=\"199.185721\"/>\r\n     <use style=\"fill:#ff0000;stroke:#ff0000;\" x=\"68.628485\" xlink:href=\"#m4757e54ffd\" y=\"190.668575\"/>\r\n     <use style=\"fill:#ff0000;stroke:#ff0000;\" x=\"61.138608\" xlink:href=\"#m4757e54ffd\" y=\"197.272485\"/>\r\n     <use style=\"fill:#ff0000;stroke:#ff0000;\" x=\"62.386921\" xlink:href=\"#m4757e54ffd\" y=\"185.28354\"/>\r\n     <use style=\"fill:#ff0000;stroke:#ff0000;\" x=\"88.975984\" xlink:href=\"#m4757e54ffd\" y=\"134.899999\"/>\r\n     <use style=\"fill:#ff0000;stroke:#ff0000;\" x=\"73.122411\" xlink:href=\"#m4757e54ffd\" y=\"186.402509\"/>\r\n     <use style=\"fill:#ff0000;stroke:#ff0000;\" x=\"71.998929\" xlink:href=\"#m4757e54ffd\" y=\"174.358614\"/>\r\n     <use style=\"fill:#ff0000;stroke:#ff0000;\" x=\"74.495555\" xlink:href=\"#m4757e54ffd\" y=\"184.873918\"/>\r\n     <use style=\"fill:#ff0000;stroke:#ff0000;\" x=\"280.342342\" xlink:href=\"#m4757e54ffd\" y=\"114.733594\"/>\r\n     <use style=\"fill:#ff0000;stroke:#ff0000;\" x=\"70.625785\" xlink:href=\"#m4757e54ffd\" y=\"184.993807\"/>\r\n     <use style=\"fill:#ff0000;stroke:#ff0000;\" x=\"66.131859\" xlink:href=\"#m4757e54ffd\" y=\"165.212048\"/>\r\n     <use style=\"fill:#ff0000;stroke:#ff0000;\" x=\"62.761414\" xlink:href=\"#m4757e54ffd\" y=\"197.787011\"/>\r\n     <use style=\"fill:#ff0000;stroke:#ff0000;\" x=\"66.506353\" xlink:href=\"#m4757e54ffd\" y=\"189.219911\"/>\r\n     <use style=\"fill:#ff0000;stroke:#ff0000;\" x=\"70.376123\" xlink:href=\"#m4757e54ffd\" y=\"190.778473\"/>\r\n     <use style=\"fill:#ff0000;stroke:#ff0000;\" x=\"65.819781\" xlink:href=\"#m4757e54ffd\" y=\"191.088188\"/>\r\n     <use style=\"fill:#ff0000;stroke:#ff0000;\" x=\"145.774218\" xlink:href=\"#m4757e54ffd\" y=\"152.958347\"/>\r\n     <use style=\"fill:#ff0000;stroke:#ff0000;\" x=\"62.511752\" xlink:href=\"#m4757e54ffd\" y=\"175.407647\"/>\r\n     <use style=\"fill:#ff0000;stroke:#ff0000;\" x=\"77.117012\" xlink:href=\"#m4757e54ffd\" y=\"163.788361\"/>\r\n     <use style=\"fill:#ff0000;stroke:#ff0000;\" x=\"77.703719\" xlink:href=\"#m4757e54ffd\" y=\"172.230576\"/>\r\n     <use style=\"fill:#ff0000;stroke:#ff0000;\" x=\"85.605539\" xlink:href=\"#m4757e54ffd\" y=\"174.813195\"/>\r\n     <use style=\"fill:#ff0000;stroke:#ff0000;\" x=\"68.378822\" xlink:href=\"#m4757e54ffd\" y=\"185.683172\"/>\r\n     <use style=\"fill:#ff0000;stroke:#ff0000;\" x=\"116.064373\" xlink:href=\"#m4757e54ffd\" y=\"136.908147\"/>\r\n     <use style=\"fill:#ff0000;stroke:#ff0000;\" x=\"69.627135\" xlink:href=\"#m4757e54ffd\" y=\"182.381217\"/>\r\n     <use style=\"fill:#ff0000;stroke:#ff0000;\" x=\"64.384221\" xlink:href=\"#m4757e54ffd\" y=\"201.333741\"/>\r\n     <use style=\"fill:#ff0000;stroke:#ff0000;\" x=\"69.502304\" xlink:href=\"#m4757e54ffd\" y=\"184.284462\"/>\r\n     <use style=\"fill:#ff0000;stroke:#ff0000;\" x=\"83.982733\" xlink:href=\"#m4757e54ffd\" y=\"186.207688\"/>\r\n     <use style=\"fill:#ff0000;stroke:#ff0000;\" x=\"64.758715\" xlink:href=\"#m4757e54ffd\" y=\"190.853404\"/>\r\n     <use style=\"fill:#ff0000;stroke:#ff0000;\" x=\"64.883546\" xlink:href=\"#m4757e54ffd\" y=\"192.676723\"/>\r\n     <use style=\"fill:#ff0000;stroke:#ff0000;\" x=\"75.993531\" xlink:href=\"#m4757e54ffd\" y=\"153.31302\"/>\r\n     <use style=\"fill:#ff0000;stroke:#ff0000;\" x=\"93.220248\" xlink:href=\"#m4757e54ffd\" y=\"160.376507\"/>\r\n     <use style=\"fill:#ff0000;stroke:#ff0000;\" x=\"70.251291\" xlink:href=\"#m4757e54ffd\" y=\"203.621631\"/>\r\n     <use style=\"fill:#ff0000;stroke:#ff0000;\" x=\"70.600819\" xlink:href=\"#m4757e54ffd\" y=\"184.878913\"/>\r\n     <use style=\"fill:#ff0000;stroke:#ff0000;\" x=\"80.612288\" xlink:href=\"#m4757e54ffd\" y=\"161.400563\"/>\r\n     <use style=\"fill:#ff0000;stroke:#ff0000;\" x=\"107.326183\" xlink:href=\"#m4757e54ffd\" y=\"171.296438\"/>\r\n     <use style=\"fill:#ff0000;stroke:#ff0000;\" x=\"104.829557\" xlink:href=\"#m4757e54ffd\" y=\"165.117136\"/>\r\n     <use style=\"fill:#ff0000;stroke:#ff0000;\" x=\"107.700677\" xlink:href=\"#m4757e54ffd\" y=\"131.528108\"/>\r\n     <use style=\"fill:#ff0000;stroke:#ff0000;\" x=\"86.729021\" xlink:href=\"#m4757e54ffd\" y=\"182.870765\"/>\r\n     <use style=\"fill:#ff0000;stroke:#ff0000;\" x=\"60.639283\" xlink:href=\"#m4757e54ffd\" y=\"185.907965\"/>\r\n     <use style=\"fill:#ff0000;stroke:#ff0000;\" x=\"57.768163\" xlink:href=\"#m4757e54ffd\" y=\"189.739432\"/>\r\n     <use style=\"fill:#ff0000;stroke:#ff0000;\" x=\"88.975984\" xlink:href=\"#m4757e54ffd\" y=\"187.281698\"/>\r\n     <use style=\"fill:#ff0000;stroke:#ff0000;\" x=\"73.621736\" xlink:href=\"#m4757e54ffd\" y=\"184.294452\"/>\r\n     <use style=\"fill:#ff0000;stroke:#ff0000;\" x=\"85.231046\" xlink:href=\"#m4757e54ffd\" y=\"173.124752\"/>\r\n     <use style=\"fill:#ff0000;stroke:#ff0000;\" x=\"62.761414\" xlink:href=\"#m4757e54ffd\" y=\"201.628469\"/>\r\n     <use style=\"fill:#ff0000;stroke:#ff0000;\" x=\"69.377472\" xlink:href=\"#m4757e54ffd\" y=\"185.2186\"/>\r\n     <use style=\"fill:#ff0000;stroke:#ff0000;\" x=\"70.251291\" xlink:href=\"#m4757e54ffd\" y=\"182.531078\"/>\r\n     <use style=\"fill:#ff0000;stroke:#ff0000;\" x=\"123.928744\" xlink:href=\"#m4757e54ffd\" y=\"177.250947\"/>\r\n     <use style=\"fill:#ff0000;stroke:#ff0000;\" x=\"84.482058\" xlink:href=\"#m4757e54ffd\" y=\"186.67226\"/>\r\n     <use style=\"fill:#ff0000;stroke:#ff0000;\" x=\"54.397718\" xlink:href=\"#m4757e54ffd\" y=\"206.164286\"/>\r\n     <use style=\"fill:#ff0000;stroke:#ff0000;\" x=\"62.386921\" xlink:href=\"#m4757e54ffd\" y=\"193.52594\"/>\r\n     <use style=\"fill:#ff0000;stroke:#ff0000;\" x=\"59.490835\" xlink:href=\"#m4757e54ffd\" y=\"202.857336\"/>\r\n     <use style=\"fill:#ff0000;stroke:#ff0000;\" x=\"82.73442\" xlink:href=\"#m4757e54ffd\" y=\"180.138285\"/>\r\n     <use style=\"fill:#ff0000;stroke:#ff0000;\" x=\"89.475309\" xlink:href=\"#m4757e54ffd\" y=\"189.929257\"/>\r\n     <use style=\"fill:#ff0000;stroke:#ff0000;\" x=\"70.875448\" xlink:href=\"#m4757e54ffd\" y=\"175.292753\"/>\r\n     <use style=\"fill:#ff0000;stroke:#ff0000;\" x=\"71.499604\" xlink:href=\"#m4757e54ffd\" y=\"185.28354\"/>\r\n     <use style=\"fill:#ff0000;stroke:#ff0000;\" x=\"58.142657\" xlink:href=\"#m4757e54ffd\" y=\"186.432481\"/>\r\n     <use style=\"fill:#ff0000;stroke:#ff0000;\" x=\"54.847111\" xlink:href=\"#m4757e54ffd\" y=\"205.679733\"/>\r\n     <use style=\"fill:#ff0000;stroke:#ff0000;\" x=\"97.090018\" xlink:href=\"#m4757e54ffd\" y=\"172.295517\"/>\r\n     <use style=\"fill:#ff0000;stroke:#ff0000;\" x=\"55.770863\" xlink:href=\"#m4757e54ffd\" y=\"191.932409\"/>\r\n     <use style=\"fill:#ff0000;stroke:#ff0000;\" x=\"75.494205\" xlink:href=\"#m4757e54ffd\" y=\"181.536995\"/>\r\n     <use style=\"fill:#ff0000;stroke:#ff0000;\" x=\"52.462834\" xlink:href=\"#m4757e54ffd\" y=\"204.266037\"/>\r\n     <use style=\"fill:#ff0000;stroke:#ff0000;\" x=\"55.171672\" xlink:href=\"#m4757e54ffd\" y=\"200.239749\"/>\r\n     <use style=\"fill:#ff0000;stroke:#ff0000;\" x=\"70.625785\" xlink:href=\"#m4757e54ffd\" y=\"187.461532\"/>\r\n     <use style=\"fill:#ff0000;stroke:#ff0000;\" x=\"69.252641\" xlink:href=\"#m4757e54ffd\" y=\"188.280777\"/>\r\n     <use style=\"fill:#ff0000;stroke:#ff0000;\" x=\"60.888945\" xlink:href=\"#m4757e54ffd\" y=\"175.092937\"/>\r\n     <use style=\"fill:#ff0000;stroke:#ff0000;\" x=\"63.884896\" xlink:href=\"#m4757e54ffd\" y=\"183.495189\"/>\r\n     <use style=\"fill:#ff0000;stroke:#ff0000;\" x=\"76.492856\" xlink:href=\"#m4757e54ffd\" y=\"180.413031\"/>\r\n     <use style=\"fill:#ff0000;stroke:#ff0000;\" x=\"78.240494\" xlink:href=\"#m4757e54ffd\" y=\"177.03115\"/>\r\n     <use style=\"fill:#ff0000;stroke:#ff0000;\" x=\"81.486107\" xlink:href=\"#m4757e54ffd\" y=\"144.880795\"/>\r\n     <use style=\"fill:#ff0000;stroke:#ff0000;\" x=\"108.200002\" xlink:href=\"#m4757e54ffd\" y=\"159.247548\"/>\r\n     <use style=\"fill:#ff0000;stroke:#ff0000;\" x=\"67.879497\" xlink:href=\"#m4757e54ffd\" y=\"186.052831\"/>\r\n     <use style=\"fill:#ff0000;stroke:#ff0000;\" x=\"95.34238\" xlink:href=\"#m4757e54ffd\" y=\"173.294595\"/>\r\n     <use style=\"fill:#ff0000;stroke:#ff0000;\" x=\"99.586643\" xlink:href=\"#m4757e54ffd\" y=\"173.009858\"/>\r\n     <use style=\"fill:#ff0000;stroke:#ff0000;\" x=\"57.580916\" xlink:href=\"#m4757e54ffd\" y=\"194.59995\"/>\r\n    </g>\r\n   </g>\r\n   <g id=\"matplotlib.axis_1\">\r\n    <g id=\"xtick_1\">\r\n     <g id=\"line2d_1\">\r\n      <defs>\r\n       <path d=\"M 0 0 \r\nL 0 3.5 \r\n\" id=\"mc2845fd47c\" style=\"stroke:#000000;stroke-width:0.8;\"/>\r\n      </defs>\r\n      <g>\r\n       <use style=\"stroke:#000000;stroke-width:0.8;\" x=\"43.412565\" xlink:href=\"#mc2845fd47c\" y=\"224.64\"/>\r\n      </g>\r\n     </g>\r\n     <g id=\"text_1\">\r\n      <!-- 0 -->\r\n      <g transform=\"translate(40.231315 239.238437)scale(0.1 -0.1)\">\r\n       <defs>\r\n        <path d=\"M 31.78125 66.40625 \r\nQ 24.171875 66.40625 20.328125 58.90625 \r\nQ 16.5 51.421875 16.5 36.375 \r\nQ 16.5 21.390625 20.328125 13.890625 \r\nQ 24.171875 6.390625 31.78125 6.390625 \r\nQ 39.453125 6.390625 43.28125 13.890625 \r\nQ 47.125 21.390625 47.125 36.375 \r\nQ 47.125 51.421875 43.28125 58.90625 \r\nQ 39.453125 66.40625 31.78125 66.40625 \r\nz\r\nM 31.78125 74.21875 \r\nQ 44.046875 74.21875 50.515625 64.515625 \r\nQ 56.984375 54.828125 56.984375 36.375 \r\nQ 56.984375 17.96875 50.515625 8.265625 \r\nQ 44.046875 -1.421875 31.78125 -1.421875 \r\nQ 19.53125 -1.421875 13.0625 8.265625 \r\nQ 6.59375 17.96875 6.59375 36.375 \r\nQ 6.59375 54.828125 13.0625 64.515625 \r\nQ 19.53125 74.21875 31.78125 74.21875 \r\nz\r\n\" id=\"DejaVuSans-48\"/>\r\n       </defs>\r\n       <use xlink:href=\"#DejaVuSans-48\"/>\r\n      </g>\r\n     </g>\r\n    </g>\r\n    <g id=\"xtick_2\">\r\n     <g id=\"line2d_2\">\r\n      <g>\r\n       <use style=\"stroke:#000000;stroke-width:0.8;\" x=\"105.828207\" xlink:href=\"#mc2845fd47c\" y=\"224.64\"/>\r\n      </g>\r\n     </g>\r\n     <g id=\"text_2\">\r\n      <!-- 500 -->\r\n      <g transform=\"translate(96.284457 239.238437)scale(0.1 -0.1)\">\r\n       <defs>\r\n        <path d=\"M 10.796875 72.90625 \r\nL 49.515625 72.90625 \r\nL 49.515625 64.59375 \r\nL 19.828125 64.59375 \r\nL 19.828125 46.734375 \r\nQ 21.96875 47.46875 24.109375 47.828125 \r\nQ 26.265625 48.1875 28.421875 48.1875 \r\nQ 40.625 48.1875 47.75 41.5 \r\nQ 54.890625 34.8125 54.890625 23.390625 \r\nQ 54.890625 11.625 47.5625 5.09375 \r\nQ 40.234375 -1.421875 26.90625 -1.421875 \r\nQ 22.3125 -1.421875 17.546875 -0.640625 \r\nQ 12.796875 0.140625 7.71875 1.703125 \r\nL 7.71875 11.625 \r\nQ 12.109375 9.234375 16.796875 8.0625 \r\nQ 21.484375 6.890625 26.703125 6.890625 \r\nQ 35.15625 6.890625 40.078125 11.328125 \r\nQ 45.015625 15.765625 45.015625 23.390625 \r\nQ 45.015625 31 40.078125 35.4375 \r\nQ 35.15625 39.890625 26.703125 39.890625 \r\nQ 22.75 39.890625 18.8125 39.015625 \r\nQ 14.890625 38.140625 10.796875 36.28125 \r\nz\r\n\" id=\"DejaVuSans-53\"/>\r\n       </defs>\r\n       <use xlink:href=\"#DejaVuSans-53\"/>\r\n       <use x=\"63.623047\" xlink:href=\"#DejaVuSans-48\"/>\r\n       <use x=\"127.246094\" xlink:href=\"#DejaVuSans-48\"/>\r\n      </g>\r\n     </g>\r\n    </g>\r\n    <g id=\"xtick_3\">\r\n     <g id=\"line2d_3\">\r\n      <g>\r\n       <use style=\"stroke:#000000;stroke-width:0.8;\" x=\"168.243849\" xlink:href=\"#mc2845fd47c\" y=\"224.64\"/>\r\n      </g>\r\n     </g>\r\n     <g id=\"text_3\">\r\n      <!-- 1000 -->\r\n      <g transform=\"translate(155.518849 239.238437)scale(0.1 -0.1)\">\r\n       <defs>\r\n        <path d=\"M 12.40625 8.296875 \r\nL 28.515625 8.296875 \r\nL 28.515625 63.921875 \r\nL 10.984375 60.40625 \r\nL 10.984375 69.390625 \r\nL 28.421875 72.90625 \r\nL 38.28125 72.90625 \r\nL 38.28125 8.296875 \r\nL 54.390625 8.296875 \r\nL 54.390625 0 \r\nL 12.40625 0 \r\nz\r\n\" id=\"DejaVuSans-49\"/>\r\n       </defs>\r\n       <use xlink:href=\"#DejaVuSans-49\"/>\r\n       <use x=\"63.623047\" xlink:href=\"#DejaVuSans-48\"/>\r\n       <use x=\"127.246094\" xlink:href=\"#DejaVuSans-48\"/>\r\n       <use x=\"190.869141\" xlink:href=\"#DejaVuSans-48\"/>\r\n      </g>\r\n     </g>\r\n    </g>\r\n    <g id=\"xtick_4\">\r\n     <g id=\"line2d_4\">\r\n      <g>\r\n       <use style=\"stroke:#000000;stroke-width:0.8;\" x=\"230.659491\" xlink:href=\"#mc2845fd47c\" y=\"224.64\"/>\r\n      </g>\r\n     </g>\r\n     <g id=\"text_4\">\r\n      <!-- 1500 -->\r\n      <g transform=\"translate(217.934491 239.238437)scale(0.1 -0.1)\">\r\n       <use xlink:href=\"#DejaVuSans-49\"/>\r\n       <use x=\"63.623047\" xlink:href=\"#DejaVuSans-53\"/>\r\n       <use x=\"127.246094\" xlink:href=\"#DejaVuSans-48\"/>\r\n       <use x=\"190.869141\" xlink:href=\"#DejaVuSans-48\"/>\r\n      </g>\r\n     </g>\r\n    </g>\r\n    <g id=\"xtick_5\">\r\n     <g id=\"line2d_5\">\r\n      <g>\r\n       <use style=\"stroke:#000000;stroke-width:0.8;\" x=\"293.075133\" xlink:href=\"#mc2845fd47c\" y=\"224.64\"/>\r\n      </g>\r\n     </g>\r\n     <g id=\"text_5\">\r\n      <!-- 2000 -->\r\n      <g transform=\"translate(280.350133 239.238437)scale(0.1 -0.1)\">\r\n       <defs>\r\n        <path d=\"M 19.1875 8.296875 \r\nL 53.609375 8.296875 \r\nL 53.609375 0 \r\nL 7.328125 0 \r\nL 7.328125 8.296875 \r\nQ 12.9375 14.109375 22.625 23.890625 \r\nQ 32.328125 33.6875 34.8125 36.53125 \r\nQ 39.546875 41.84375 41.421875 45.53125 \r\nQ 43.3125 49.21875 43.3125 52.78125 \r\nQ 43.3125 58.59375 39.234375 62.25 \r\nQ 35.15625 65.921875 28.609375 65.921875 \r\nQ 23.96875 65.921875 18.8125 64.3125 \r\nQ 13.671875 62.703125 7.8125 59.421875 \r\nL 7.8125 69.390625 \r\nQ 13.765625 71.78125 18.9375 73 \r\nQ 24.125 74.21875 28.421875 74.21875 \r\nQ 39.75 74.21875 46.484375 68.546875 \r\nQ 53.21875 62.890625 53.21875 53.421875 \r\nQ 53.21875 48.921875 51.53125 44.890625 \r\nQ 49.859375 40.875 45.40625 35.40625 \r\nQ 44.1875 33.984375 37.640625 27.21875 \r\nQ 31.109375 20.453125 19.1875 8.296875 \r\nz\r\n\" id=\"DejaVuSans-50\"/>\r\n       </defs>\r\n       <use xlink:href=\"#DejaVuSans-50\"/>\r\n       <use x=\"63.623047\" xlink:href=\"#DejaVuSans-48\"/>\r\n       <use x=\"127.246094\" xlink:href=\"#DejaVuSans-48\"/>\r\n       <use x=\"190.869141\" xlink:href=\"#DejaVuSans-48\"/>\r\n      </g>\r\n     </g>\r\n    </g>\r\n    <g id=\"xtick_6\">\r\n     <g id=\"line2d_6\">\r\n      <g>\r\n       <use style=\"stroke:#000000;stroke-width:0.8;\" x=\"355.490775\" xlink:href=\"#mc2845fd47c\" y=\"224.64\"/>\r\n      </g>\r\n     </g>\r\n     <g id=\"text_6\">\r\n      <!-- 2500 -->\r\n      <g transform=\"translate(342.765775 239.238437)scale(0.1 -0.1)\">\r\n       <use xlink:href=\"#DejaVuSans-50\"/>\r\n       <use x=\"63.623047\" xlink:href=\"#DejaVuSans-53\"/>\r\n       <use x=\"127.246094\" xlink:href=\"#DejaVuSans-48\"/>\r\n       <use x=\"190.869141\" xlink:href=\"#DejaVuSans-48\"/>\r\n      </g>\r\n     </g>\r\n    </g>\r\n   </g>\r\n   <g id=\"matplotlib.axis_2\">\r\n    <g id=\"ytick_1\">\r\n     <g id=\"line2d_7\">\r\n      <defs>\r\n       <path d=\"M 0 0 \r\nL -3.5 0 \r\n\" id=\"m2de64c020d\" style=\"stroke:#000000;stroke-width:0.8;\"/>\r\n      </defs>\r\n      <g>\r\n       <use style=\"stroke:#000000;stroke-width:0.8;\" x=\"33.2875\" xlink:href=\"#m2de64c020d\" y=\"204.765576\"/>\r\n      </g>\r\n     </g>\r\n     <g id=\"text_7\">\r\n      <!-- 50 -->\r\n      <g transform=\"translate(13.5625 208.564795)scale(0.1 -0.1)\">\r\n       <use xlink:href=\"#DejaVuSans-53\"/>\r\n       <use x=\"63.623047\" xlink:href=\"#DejaVuSans-48\"/>\r\n      </g>\r\n     </g>\r\n    </g>\r\n    <g id=\"ytick_2\">\r\n     <g id=\"line2d_8\">\r\n      <g>\r\n       <use style=\"stroke:#000000;stroke-width:0.8;\" x=\"33.2875\" xlink:href=\"#m2de64c020d\" y=\"179.788607\"/>\r\n      </g>\r\n     </g>\r\n     <g id=\"text_8\">\r\n      <!-- 100 -->\r\n      <g transform=\"translate(7.2 183.587826)scale(0.1 -0.1)\">\r\n       <use xlink:href=\"#DejaVuSans-49\"/>\r\n       <use x=\"63.623047\" xlink:href=\"#DejaVuSans-48\"/>\r\n       <use x=\"127.246094\" xlink:href=\"#DejaVuSans-48\"/>\r\n      </g>\r\n     </g>\r\n    </g>\r\n    <g id=\"ytick_3\">\r\n     <g id=\"line2d_9\">\r\n      <g>\r\n       <use style=\"stroke:#000000;stroke-width:0.8;\" x=\"33.2875\" xlink:href=\"#m2de64c020d\" y=\"154.811638\"/>\r\n      </g>\r\n     </g>\r\n     <g id=\"text_9\">\r\n      <!-- 150 -->\r\n      <g transform=\"translate(7.2 158.610857)scale(0.1 -0.1)\">\r\n       <use xlink:href=\"#DejaVuSans-49\"/>\r\n       <use x=\"63.623047\" xlink:href=\"#DejaVuSans-53\"/>\r\n       <use x=\"127.246094\" xlink:href=\"#DejaVuSans-48\"/>\r\n      </g>\r\n     </g>\r\n    </g>\r\n    <g id=\"ytick_4\">\r\n     <g id=\"line2d_10\">\r\n      <g>\r\n       <use style=\"stroke:#000000;stroke-width:0.8;\" x=\"33.2875\" xlink:href=\"#m2de64c020d\" y=\"129.834669\"/>\r\n      </g>\r\n     </g>\r\n     <g id=\"text_10\">\r\n      <!-- 200 -->\r\n      <g transform=\"translate(7.2 133.633888)scale(0.1 -0.1)\">\r\n       <use xlink:href=\"#DejaVuSans-50\"/>\r\n       <use x=\"63.623047\" xlink:href=\"#DejaVuSans-48\"/>\r\n       <use x=\"127.246094\" xlink:href=\"#DejaVuSans-48\"/>\r\n      </g>\r\n     </g>\r\n    </g>\r\n    <g id=\"ytick_5\">\r\n     <g id=\"line2d_11\">\r\n      <g>\r\n       <use style=\"stroke:#000000;stroke-width:0.8;\" x=\"33.2875\" xlink:href=\"#m2de64c020d\" y=\"104.8577\"/>\r\n      </g>\r\n     </g>\r\n     <g id=\"text_11\">\r\n      <!-- 250 -->\r\n      <g transform=\"translate(7.2 108.656919)scale(0.1 -0.1)\">\r\n       <use xlink:href=\"#DejaVuSans-50\"/>\r\n       <use x=\"63.623047\" xlink:href=\"#DejaVuSans-53\"/>\r\n       <use x=\"127.246094\" xlink:href=\"#DejaVuSans-48\"/>\r\n      </g>\r\n     </g>\r\n    </g>\r\n    <g id=\"ytick_6\">\r\n     <g id=\"line2d_12\">\r\n      <g>\r\n       <use style=\"stroke:#000000;stroke-width:0.8;\" x=\"33.2875\" xlink:href=\"#m2de64c020d\" y=\"79.880732\"/>\r\n      </g>\r\n     </g>\r\n     <g id=\"text_12\">\r\n      <!-- 300 -->\r\n      <g transform=\"translate(7.2 83.67995)scale(0.1 -0.1)\">\r\n       <defs>\r\n        <path d=\"M 40.578125 39.3125 \r\nQ 47.65625 37.796875 51.625 33 \r\nQ 55.609375 28.21875 55.609375 21.1875 \r\nQ 55.609375 10.40625 48.1875 4.484375 \r\nQ 40.765625 -1.421875 27.09375 -1.421875 \r\nQ 22.515625 -1.421875 17.65625 -0.515625 \r\nQ 12.796875 0.390625 7.625 2.203125 \r\nL 7.625 11.71875 \r\nQ 11.71875 9.328125 16.59375 8.109375 \r\nQ 21.484375 6.890625 26.8125 6.890625 \r\nQ 36.078125 6.890625 40.9375 10.546875 \r\nQ 45.796875 14.203125 45.796875 21.1875 \r\nQ 45.796875 27.640625 41.28125 31.265625 \r\nQ 36.765625 34.90625 28.71875 34.90625 \r\nL 20.21875 34.90625 \r\nL 20.21875 43.015625 \r\nL 29.109375 43.015625 \r\nQ 36.375 43.015625 40.234375 45.921875 \r\nQ 44.09375 48.828125 44.09375 54.296875 \r\nQ 44.09375 59.90625 40.109375 62.90625 \r\nQ 36.140625 65.921875 28.71875 65.921875 \r\nQ 24.65625 65.921875 20.015625 65.03125 \r\nQ 15.375 64.15625 9.8125 62.3125 \r\nL 9.8125 71.09375 \r\nQ 15.4375 72.65625 20.34375 73.4375 \r\nQ 25.25 74.21875 29.59375 74.21875 \r\nQ 40.828125 74.21875 47.359375 69.109375 \r\nQ 53.90625 64.015625 53.90625 55.328125 \r\nQ 53.90625 49.265625 50.4375 45.09375 \r\nQ 46.96875 40.921875 40.578125 39.3125 \r\nz\r\n\" id=\"DejaVuSans-51\"/>\r\n       </defs>\r\n       <use xlink:href=\"#DejaVuSans-51\"/>\r\n       <use x=\"63.623047\" xlink:href=\"#DejaVuSans-48\"/>\r\n       <use x=\"127.246094\" xlink:href=\"#DejaVuSans-48\"/>\r\n      </g>\r\n     </g>\r\n    </g>\r\n    <g id=\"ytick_7\">\r\n     <g id=\"line2d_13\">\r\n      <g>\r\n       <use style=\"stroke:#000000;stroke-width:0.8;\" x=\"33.2875\" xlink:href=\"#m2de64c020d\" y=\"54.903763\"/>\r\n      </g>\r\n     </g>\r\n     <g id=\"text_13\">\r\n      <!-- 350 -->\r\n      <g transform=\"translate(7.2 58.702981)scale(0.1 -0.1)\">\r\n       <use xlink:href=\"#DejaVuSans-51\"/>\r\n       <use x=\"63.623047\" xlink:href=\"#DejaVuSans-53\"/>\r\n       <use x=\"127.246094\" xlink:href=\"#DejaVuSans-48\"/>\r\n      </g>\r\n     </g>\r\n    </g>\r\n    <g id=\"ytick_8\">\r\n     <g id=\"line2d_14\">\r\n      <g>\r\n       <use style=\"stroke:#000000;stroke-width:0.8;\" x=\"33.2875\" xlink:href=\"#m2de64c020d\" y=\"29.926794\"/>\r\n      </g>\r\n     </g>\r\n     <g id=\"text_14\">\r\n      <!-- 400 -->\r\n      <g transform=\"translate(7.2 33.726013)scale(0.1 -0.1)\">\r\n       <defs>\r\n        <path d=\"M 37.796875 64.3125 \r\nL 12.890625 25.390625 \r\nL 37.796875 25.390625 \r\nz\r\nM 35.203125 72.90625 \r\nL 47.609375 72.90625 \r\nL 47.609375 25.390625 \r\nL 58.015625 25.390625 \r\nL 58.015625 17.1875 \r\nL 47.609375 17.1875 \r\nL 47.609375 0 \r\nL 37.796875 0 \r\nL 37.796875 17.1875 \r\nL 4.890625 17.1875 \r\nL 4.890625 26.703125 \r\nz\r\n\" id=\"DejaVuSans-52\"/>\r\n       </defs>\r\n       <use xlink:href=\"#DejaVuSans-52\"/>\r\n       <use x=\"63.623047\" xlink:href=\"#DejaVuSans-48\"/>\r\n       <use x=\"127.246094\" xlink:href=\"#DejaVuSans-48\"/>\r\n      </g>\r\n     </g>\r\n    </g>\r\n   </g>\r\n   <g id=\"line2d_15\">\r\n    <path clip-path=\"url(#p17a7b69d5c)\" d=\"M 83.108914 176.949458 \r\nL 48.505682 196.119756 \r\nL 352.869318 27.50136 \r\nL 57.580916 191.092048 \r\n\" style=\"fill:none;stroke:#0000ff;stroke-linecap:square;\"/>\r\n   </g>\r\n   <g id=\"patch_3\">\r\n    <path d=\"M 33.2875 224.64 \r\nL 33.2875 7.2 \r\n\" style=\"fill:none;stroke:#000000;stroke-linecap:square;stroke-linejoin:miter;stroke-width:0.8;\"/>\r\n   </g>\r\n   <g id=\"patch_4\">\r\n    <path d=\"M 368.0875 224.64 \r\nL 368.0875 7.2 \r\n\" style=\"fill:none;stroke:#000000;stroke-linecap:square;stroke-linejoin:miter;stroke-width:0.8;\"/>\r\n   </g>\r\n   <g id=\"patch_5\">\r\n    <path d=\"M 33.2875 224.64 \r\nL 368.0875 224.64 \r\n\" style=\"fill:none;stroke:#000000;stroke-linecap:square;stroke-linejoin:miter;stroke-width:0.8;\"/>\r\n   </g>\r\n   <g id=\"patch_6\">\r\n    <path d=\"M 33.2875 7.2 \r\nL 368.0875 7.2 \r\n\" style=\"fill:none;stroke:#000000;stroke-linecap:square;stroke-linejoin:miter;stroke-width:0.8;\"/>\r\n   </g>\r\n  </g>\r\n </g>\r\n <defs>\r\n  <clipPath id=\"p17a7b69d5c\">\r\n   <rect height=\"217.44\" width=\"334.8\" x=\"33.2875\" y=\"7.2\"/>\r\n  </clipPath>\r\n </defs>\r\n</svg>\r\n",
      "text/plain": [
       "<Figure size 432x288 with 1 Axes>"
      ]
     },
     "metadata": {
      "needs_background": "light"
     },
     "output_type": "display_data"
    }
   ],
   "source": [
    "plt.scatter(Price_test,Area_test,color='r',s=3)\n",
    "plt.plot(Price_test,linreg.predict(Price_test),'blue',linewidth=1)\n",
    "plt.show()"
   ]
  },
  {
   "cell_type": "code",
   "execution_count": null,
   "metadata": {},
   "outputs": [],
   "source": []
  }
 ],
 "metadata": {
  "kernelspec": {
   "display_name": "Python 3.8.8 64-bit",
   "name": "python388jvsc74a57bd095ab7303ed2746327945aa376054eddca8c4eca362915ff95db932dbe7e7ee41"
  },
  "language_info": {
   "codemirror_mode": {
    "name": "ipython",
    "version": 3
   },
   "file_extension": ".py",
   "mimetype": "text/x-python",
   "name": "python",
   "nbconvert_exporter": "python",
   "pygments_lexer": "ipython3",
   "version": "3.8.8"
  },
  "orig_nbformat": 2
 },
 "nbformat": 4,
 "nbformat_minor": 2
}
