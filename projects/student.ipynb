{
 "cells": [
  {
   "cell_type": "code",
   "execution_count": 2,
   "metadata": {},
   "outputs": [
    {
     "data": {
      "text/html": [
       "<div>\n",
       "<style scoped>\n",
       "    .dataframe tbody tr th:only-of-type {\n",
       "        vertical-align: middle;\n",
       "    }\n",
       "\n",
       "    .dataframe tbody tr th {\n",
       "        vertical-align: top;\n",
       "    }\n",
       "\n",
       "    .dataframe thead th {\n",
       "        text-align: right;\n",
       "    }\n",
       "</style>\n",
       "<table border=\"1\" class=\"dataframe\">\n",
       "  <thead>\n",
       "    <tr style=\"text-align: right;\">\n",
       "      <th></th>\n",
       "      <th>学号</th>\n",
       "      <th>院系</th>\n",
       "      <th>专业</th>\n",
       "      <th>班级</th>\n",
       "      <th>性别</th>\n",
       "      <th>年级</th>\n",
       "      <th>B1</th>\n",
       "      <th>B2</th>\n",
       "      <th>G1</th>\n",
       "      <th>G2</th>\n",
       "      <th>G3</th>\n",
       "      <th>G</th>\n",
       "      <th>班级排名</th>\n",
       "      <th>院系排名</th>\n",
       "    </tr>\n",
       "  </thead>\n",
       "  <tbody>\n",
       "    <tr>\n",
       "      <th>0</th>\n",
       "      <td>176302110</td>\n",
       "      <td>计算机工程学院</td>\n",
       "      <td>动漫制作技术</td>\n",
       "      <td>17动漫制作技术1</td>\n",
       "      <td>女</td>\n",
       "      <td>2017</td>\n",
       "      <td>3.5776</td>\n",
       "      <td>0.05</td>\n",
       "      <td>4.0</td>\n",
       "      <td>3.6276</td>\n",
       "      <td>4.0</td>\n",
       "      <td>3.77656</td>\n",
       "      <td>1</td>\n",
       "      <td>1</td>\n",
       "    </tr>\n",
       "    <tr>\n",
       "      <th>1</th>\n",
       "      <td>176302118</td>\n",
       "      <td>计算机工程学院</td>\n",
       "      <td>动漫制作技术</td>\n",
       "      <td>17动漫制作技术1</td>\n",
       "      <td>女</td>\n",
       "      <td>2017</td>\n",
       "      <td>3.5714</td>\n",
       "      <td>0.05</td>\n",
       "      <td>4.0</td>\n",
       "      <td>3.6214</td>\n",
       "      <td>4.0</td>\n",
       "      <td>3.77284</td>\n",
       "      <td>2</td>\n",
       "      <td>2</td>\n",
       "    </tr>\n",
       "    <tr>\n",
       "      <th>2</th>\n",
       "      <td>176302102</td>\n",
       "      <td>计算机工程学院</td>\n",
       "      <td>动漫制作技术</td>\n",
       "      <td>17动漫制作技术1</td>\n",
       "      <td>女</td>\n",
       "      <td>2017</td>\n",
       "      <td>3.5673</td>\n",
       "      <td>0.05</td>\n",
       "      <td>4.0</td>\n",
       "      <td>3.6173</td>\n",
       "      <td>4.0</td>\n",
       "      <td>3.77038</td>\n",
       "      <td>3</td>\n",
       "      <td>3</td>\n",
       "    </tr>\n",
       "  </tbody>\n",
       "</table>\n",
       "</div>"
      ],
      "text/plain": [
       "          学号       院系      专业         班级 性别    年级      B1    B2   G1      G2  \\\n",
       "0  176302110  计算机工程学院  动漫制作技术  17动漫制作技术1  女  2017  3.5776  0.05  4.0  3.6276   \n",
       "1  176302118  计算机工程学院  动漫制作技术  17动漫制作技术1  女  2017  3.5714  0.05  4.0  3.6214   \n",
       "2  176302102  计算机工程学院  动漫制作技术  17动漫制作技术1  女  2017  3.5673  0.05  4.0  3.6173   \n",
       "\n",
       "    G3        G  班级排名  院系排名  \n",
       "0  4.0  3.77656     1     1  \n",
       "1  4.0  3.77284     2     2  \n",
       "2  4.0  3.77038     3     3  "
      ]
     },
     "execution_count": 2,
     "metadata": {},
     "output_type": "execute_result"
    }
   ],
   "source": [
    "import matplotlib.pyplot as plt\n",
    "import pandas as pd\n",
    "import numpy as np\n",
    "\n",
    "plt.rcParams['font.family'] = 'simhei'\n",
    "plt.rcParams['axes.unicode_minus'] = False\n",
    "\n",
    "data = pd.read_csv('./data/students_info.csv')\n",
    "data.head(3)"
   ]
  },
  {
   "cell_type": "code",
   "execution_count": 3,
   "metadata": {},
   "outputs": [
    {
     "data": {
      "text/html": [
       "<div>\n",
       "<style scoped>\n",
       "    .dataframe tbody tr th:only-of-type {\n",
       "        vertical-align: middle;\n",
       "    }\n",
       "\n",
       "    .dataframe tbody tr th {\n",
       "        vertical-align: top;\n",
       "    }\n",
       "\n",
       "    .dataframe thead th {\n",
       "        text-align: right;\n",
       "    }\n",
       "</style>\n",
       "<table border=\"1\" class=\"dataframe\">\n",
       "  <thead>\n",
       "    <tr style=\"text-align: right;\">\n",
       "      <th></th>\n",
       "      <th>学号</th>\n",
       "      <th>专业</th>\n",
       "      <th>班级</th>\n",
       "      <th>性别</th>\n",
       "      <th>年级</th>\n",
       "      <th>B1</th>\n",
       "      <th>B2</th>\n",
       "      <th>G1</th>\n",
       "      <th>G2</th>\n",
       "      <th>G3</th>\n",
       "      <th>G</th>\n",
       "      <th>班级排名</th>\n",
       "      <th>院系排名</th>\n",
       "    </tr>\n",
       "  </thead>\n",
       "  <tbody>\n",
       "    <tr>\n",
       "      <th>0</th>\n",
       "      <td>176302110</td>\n",
       "      <td>动漫制作技术</td>\n",
       "      <td>17动漫制作技术1</td>\n",
       "      <td>女</td>\n",
       "      <td>2017</td>\n",
       "      <td>3.5776</td>\n",
       "      <td>0.05</td>\n",
       "      <td>4.0</td>\n",
       "      <td>3.6276</td>\n",
       "      <td>4.0</td>\n",
       "      <td>3.77656</td>\n",
       "      <td>1</td>\n",
       "      <td>1</td>\n",
       "    </tr>\n",
       "    <tr>\n",
       "      <th>1</th>\n",
       "      <td>176302118</td>\n",
       "      <td>动漫制作技术</td>\n",
       "      <td>17动漫制作技术1</td>\n",
       "      <td>女</td>\n",
       "      <td>2017</td>\n",
       "      <td>3.5714</td>\n",
       "      <td>0.05</td>\n",
       "      <td>4.0</td>\n",
       "      <td>3.6214</td>\n",
       "      <td>4.0</td>\n",
       "      <td>3.77284</td>\n",
       "      <td>2</td>\n",
       "      <td>2</td>\n",
       "    </tr>\n",
       "    <tr>\n",
       "      <th>2</th>\n",
       "      <td>176302102</td>\n",
       "      <td>动漫制作技术</td>\n",
       "      <td>17动漫制作技术1</td>\n",
       "      <td>女</td>\n",
       "      <td>2017</td>\n",
       "      <td>3.5673</td>\n",
       "      <td>0.05</td>\n",
       "      <td>4.0</td>\n",
       "      <td>3.6173</td>\n",
       "      <td>4.0</td>\n",
       "      <td>3.77038</td>\n",
       "      <td>3</td>\n",
       "      <td>3</td>\n",
       "    </tr>\n",
       "  </tbody>\n",
       "</table>\n",
       "</div>"
      ],
      "text/plain": [
       "          学号      专业         班级 性别    年级      B1    B2   G1      G2   G3  \\\n",
       "0  176302110  动漫制作技术  17动漫制作技术1  女  2017  3.5776  0.05  4.0  3.6276  4.0   \n",
       "1  176302118  动漫制作技术  17动漫制作技术1  女  2017  3.5714  0.05  4.0  3.6214  4.0   \n",
       "2  176302102  动漫制作技术  17动漫制作技术1  女  2017  3.5673  0.05  4.0  3.6173  4.0   \n",
       "\n",
       "         G  班级排名  院系排名  \n",
       "0  3.77656     1     1  \n",
       "1  3.77284     2     2  \n",
       "2  3.77038     3     3  "
      ]
     },
     "execution_count": 3,
     "metadata": {},
     "output_type": "execute_result"
    }
   ],
   "source": [
    "df = data.drop('院系', axis=1)\n",
    "df.head(3)"
   ]
  },
  {
   "cell_type": "code",
   "execution_count": 4,
   "metadata": {},
   "outputs": [
    {
     "name": "stdout",
     "output_type": "stream",
     "text": [
      "<class 'pandas.core.frame.DataFrame'>\n",
      "RangeIndex: 1404 entries, 0 to 1403\n",
      "Data columns (total 13 columns):\n",
      " #   Column  Non-Null Count  Dtype  \n",
      "---  ------  --------------  -----  \n",
      " 0   学号      1404 non-null   int64  \n",
      " 1   专业      1404 non-null   object \n",
      " 2   班级      1404 non-null   object \n",
      " 3   性别      1404 non-null   object \n",
      " 4   年级      1404 non-null   int64  \n",
      " 5   B1      1404 non-null   float64\n",
      " 6   B2      1389 non-null   float64\n",
      " 7   G1      1404 non-null   float64\n",
      " 8   G2      1404 non-null   float64\n",
      " 9   G3      1404 non-null   float64\n",
      " 10  G       1404 non-null   float64\n",
      " 11  班级排名    1404 non-null   int64  \n",
      " 12  院系排名    1404 non-null   int64  \n",
      "dtypes: float64(6), int64(4), object(3)\n",
      "memory usage: 142.7+ KB\n"
     ]
    }
   ],
   "source": [
    "df.info()"
   ]
  },
  {
   "cell_type": "code",
   "execution_count": 5,
   "metadata": {},
   "outputs": [
    {
     "data": {
      "text/plain": [
       "4"
      ]
     },
     "execution_count": 5,
     "metadata": {},
     "output_type": "execute_result"
    }
   ],
   "source": [
    "# 查看重复行数量\n",
    "df.duplicated().sum()"
   ]
  },
  {
   "cell_type": "code",
   "execution_count": 6,
   "metadata": {},
   "outputs": [
    {
     "data": {
      "text/html": [
       "<div>\n",
       "<style scoped>\n",
       "    .dataframe tbody tr th:only-of-type {\n",
       "        vertical-align: middle;\n",
       "    }\n",
       "\n",
       "    .dataframe tbody tr th {\n",
       "        vertical-align: top;\n",
       "    }\n",
       "\n",
       "    .dataframe thead th {\n",
       "        text-align: right;\n",
       "    }\n",
       "</style>\n",
       "<table border=\"1\" class=\"dataframe\">\n",
       "  <thead>\n",
       "    <tr style=\"text-align: right;\">\n",
       "      <th></th>\n",
       "      <th>学号</th>\n",
       "      <th>专业</th>\n",
       "      <th>班级</th>\n",
       "      <th>性别</th>\n",
       "      <th>年级</th>\n",
       "      <th>B1</th>\n",
       "      <th>B2</th>\n",
       "      <th>G1</th>\n",
       "      <th>G2</th>\n",
       "      <th>G3</th>\n",
       "      <th>G</th>\n",
       "      <th>班级排名</th>\n",
       "      <th>院系排名</th>\n",
       "    </tr>\n",
       "  </thead>\n",
       "  <tbody>\n",
       "    <tr>\n",
       "      <th>19</th>\n",
       "      <td>176302109</td>\n",
       "      <td>动漫制作技术</td>\n",
       "      <td>17动漫制作技术1</td>\n",
       "      <td>女</td>\n",
       "      <td>2017</td>\n",
       "      <td>3.3939</td>\n",
       "      <td>0.05</td>\n",
       "      <td>4.0</td>\n",
       "      <td>3.4439</td>\n",
       "      <td>3.3</td>\n",
       "      <td>3.52634</td>\n",
       "      <td>10</td>\n",
       "      <td>12</td>\n",
       "    </tr>\n",
       "    <tr>\n",
       "      <th>369</th>\n",
       "      <td>176305225</td>\n",
       "      <td>计算机应用技术(对口)</td>\n",
       "      <td>17计算机应用技术3(对)</td>\n",
       "      <td>男</td>\n",
       "      <td>2017</td>\n",
       "      <td>1.7844</td>\n",
       "      <td>0.05</td>\n",
       "      <td>4.0</td>\n",
       "      <td>1.8344</td>\n",
       "      <td>2.0</td>\n",
       "      <td>2.30064</td>\n",
       "      <td>38</td>\n",
       "      <td>37</td>\n",
       "    </tr>\n",
       "    <tr>\n",
       "      <th>450</th>\n",
       "      <td>176301312</td>\n",
       "      <td>软件技术</td>\n",
       "      <td>17软件技术3</td>\n",
       "      <td>男</td>\n",
       "      <td>2017</td>\n",
       "      <td>3.1615</td>\n",
       "      <td>0.05</td>\n",
       "      <td>4.0</td>\n",
       "      <td>3.2115</td>\n",
       "      <td>3.7</td>\n",
       "      <td>3.46690</td>\n",
       "      <td>4</td>\n",
       "      <td>4</td>\n",
       "    </tr>\n",
       "    <tr>\n",
       "      <th>986</th>\n",
       "      <td>186305138</td>\n",
       "      <td>计算机应用技术(对口)</td>\n",
       "      <td>18计算机应用技术(2)对</td>\n",
       "      <td>男</td>\n",
       "      <td>2018</td>\n",
       "      <td>2.6587</td>\n",
       "      <td>0.05</td>\n",
       "      <td>4.0</td>\n",
       "      <td>2.7087</td>\n",
       "      <td>4.0</td>\n",
       "      <td>3.22522</td>\n",
       "      <td>16</td>\n",
       "      <td>25</td>\n",
       "    </tr>\n",
       "  </tbody>\n",
       "</table>\n",
       "</div>"
      ],
      "text/plain": [
       "            学号           专业             班级 性别    年级      B1    B2   G1  \\\n",
       "19   176302109       动漫制作技术      17动漫制作技术1  女  2017  3.3939  0.05  4.0   \n",
       "369  176305225  计算机应用技术(对口)  17计算机应用技术3(对)  男  2017  1.7844  0.05  4.0   \n",
       "450  176301312         软件技术        17软件技术3  男  2017  3.1615  0.05  4.0   \n",
       "986  186305138  计算机应用技术(对口)  18计算机应用技术(2)对  男  2018  2.6587  0.05  4.0   \n",
       "\n",
       "         G2   G3        G  班级排名  院系排名  \n",
       "19   3.4439  3.3  3.52634    10    12  \n",
       "369  1.8344  2.0  2.30064    38    37  \n",
       "450  3.2115  3.7  3.46690     4     4  \n",
       "986  2.7087  4.0  3.22522    16    25  "
      ]
     },
     "execution_count": 6,
     "metadata": {},
     "output_type": "execute_result"
    }
   ],
   "source": [
    "# 查看重复行\n",
    "df[df.duplicated()]"
   ]
  },
  {
   "cell_type": "code",
   "execution_count": 7,
   "metadata": {},
   "outputs": [
    {
     "data": {
      "text/plain": [
       "1400"
      ]
     },
     "execution_count": 7,
     "metadata": {},
     "output_type": "execute_result"
    }
   ],
   "source": [
    "# 删除重复行\n",
    "df1 = df.drop_duplicates()\n",
    "len(df1)"
   ]
  },
  {
   "cell_type": "code",
   "execution_count": 8,
   "metadata": {},
   "outputs": [
    {
     "name": "stdout",
     "output_type": "stream",
     "text": [
      "<class 'pandas.core.frame.DataFrame'>\n",
      "Int64Index: 1400 entries, 0 to 1403\n",
      "Data columns (total 13 columns):\n",
      " #   Column  Non-Null Count  Dtype  \n",
      "---  ------  --------------  -----  \n",
      " 0   学号      1400 non-null   int64  \n",
      " 1   专业      1400 non-null   object \n",
      " 2   班级      1400 non-null   object \n",
      " 3   性别      1400 non-null   object \n",
      " 4   年级      1400 non-null   int64  \n",
      " 5   B1      1400 non-null   float64\n",
      " 6   B2      1385 non-null   float64\n",
      " 7   G1      1400 non-null   float64\n",
      " 8   G2      1400 non-null   float64\n",
      " 9   G3      1400 non-null   float64\n",
      " 10  G       1400 non-null   float64\n",
      " 11  班级排名    1400 non-null   int64  \n",
      " 12  院系排名    1400 non-null   int64  \n",
      "dtypes: float64(6), int64(4), object(3)\n",
      "memory usage: 153.1+ KB\n"
     ]
    }
   ],
   "source": [
    "df1.info()"
   ]
  },
  {
   "cell_type": "code",
   "execution_count": 9,
   "metadata": {},
   "outputs": [
    {
     "data": {
      "text/plain": [
       "学号       0\n",
       "专业       0\n",
       "班级       0\n",
       "性别       0\n",
       "年级       0\n",
       "B1       0\n",
       "B2      15\n",
       "G1       0\n",
       "G2       0\n",
       "G3       0\n",
       "G        0\n",
       "班级排名     0\n",
       "院系排名     0\n",
       "dtype: int64"
      ]
     },
     "execution_count": 9,
     "metadata": {},
     "output_type": "execute_result"
    }
   ],
   "source": [
    "# 查看各列缺失值情况\n",
    "df1.isnull().sum()"
   ]
  },
  {
   "cell_type": "code",
   "execution_count": 10,
   "metadata": {},
   "outputs": [
    {
     "data": {
      "text/html": [
       "<div>\n",
       "<style scoped>\n",
       "    .dataframe tbody tr th:only-of-type {\n",
       "        vertical-align: middle;\n",
       "    }\n",
       "\n",
       "    .dataframe tbody tr th {\n",
       "        vertical-align: top;\n",
       "    }\n",
       "\n",
       "    .dataframe thead th {\n",
       "        text-align: right;\n",
       "    }\n",
       "</style>\n",
       "<table border=\"1\" class=\"dataframe\">\n",
       "  <thead>\n",
       "    <tr style=\"text-align: right;\">\n",
       "      <th></th>\n",
       "      <th>学号</th>\n",
       "      <th>专业</th>\n",
       "      <th>班级</th>\n",
       "      <th>性别</th>\n",
       "      <th>年级</th>\n",
       "      <th>B1</th>\n",
       "      <th>B2</th>\n",
       "      <th>G1</th>\n",
       "      <th>G2</th>\n",
       "      <th>G3</th>\n",
       "      <th>G</th>\n",
       "      <th>班级排名</th>\n",
       "      <th>院系排名</th>\n",
       "    </tr>\n",
       "  </thead>\n",
       "  <tbody>\n",
       "    <tr>\n",
       "      <th>183</th>\n",
       "      <td>176306235</td>\n",
       "      <td>计算机网络技术</td>\n",
       "      <td>17计算机网络技术2</td>\n",
       "      <td>男</td>\n",
       "      <td>2017</td>\n",
       "      <td>0.2800</td>\n",
       "      <td>NaN</td>\n",
       "      <td>4.0</td>\n",
       "      <td>0.2800</td>\n",
       "      <td>2.3</td>\n",
       "      <td>1.42800</td>\n",
       "      <td>46</td>\n",
       "      <td>46</td>\n",
       "    </tr>\n",
       "    <tr>\n",
       "      <th>365</th>\n",
       "      <td>176301134</td>\n",
       "      <td>软件技术</td>\n",
       "      <td>17软件技术1</td>\n",
       "      <td>男</td>\n",
       "      <td>2017</td>\n",
       "      <td>0.4981</td>\n",
       "      <td>NaN</td>\n",
       "      <td>4.0</td>\n",
       "      <td>0.4981</td>\n",
       "      <td>1.0</td>\n",
       "      <td>1.29886</td>\n",
       "      <td>46</td>\n",
       "      <td>46</td>\n",
       "    </tr>\n",
       "    <tr>\n",
       "      <th>561</th>\n",
       "      <td>156307319</td>\n",
       "      <td>物联网应用技术</td>\n",
       "      <td>17物联网应用技术2</td>\n",
       "      <td>男</td>\n",
       "      <td>2017</td>\n",
       "      <td>2.5020</td>\n",
       "      <td>NaN</td>\n",
       "      <td>4.0</td>\n",
       "      <td>2.5020</td>\n",
       "      <td>3.0</td>\n",
       "      <td>2.90120</td>\n",
       "      <td>16</td>\n",
       "      <td>29</td>\n",
       "    </tr>\n",
       "    <tr>\n",
       "      <th>724</th>\n",
       "      <td>186307103</td>\n",
       "      <td>动漫制作技术</td>\n",
       "      <td>18动漫制作技术1</td>\n",
       "      <td>女</td>\n",
       "      <td>2018</td>\n",
       "      <td>2.0143</td>\n",
       "      <td>NaN</td>\n",
       "      <td>4.0</td>\n",
       "      <td>2.0143</td>\n",
       "      <td>4.0</td>\n",
       "      <td>2.80858</td>\n",
       "      <td>27</td>\n",
       "      <td>39</td>\n",
       "    </tr>\n",
       "    <tr>\n",
       "      <th>729</th>\n",
       "      <td>186307128</td>\n",
       "      <td>动漫制作技术</td>\n",
       "      <td>18动漫制作技术1</td>\n",
       "      <td>男</td>\n",
       "      <td>2018</td>\n",
       "      <td>2.5089</td>\n",
       "      <td>NaN</td>\n",
       "      <td>4.0</td>\n",
       "      <td>2.5089</td>\n",
       "      <td>1.5</td>\n",
       "      <td>2.60534</td>\n",
       "      <td>32</td>\n",
       "      <td>28</td>\n",
       "    </tr>\n",
       "    <tr>\n",
       "      <th>734</th>\n",
       "      <td>186307113</td>\n",
       "      <td>动漫制作技术</td>\n",
       "      <td>18动漫制作技术1</td>\n",
       "      <td>女</td>\n",
       "      <td>2018</td>\n",
       "      <td>1.7893</td>\n",
       "      <td>NaN</td>\n",
       "      <td>4.0</td>\n",
       "      <td>1.7893</td>\n",
       "      <td>3.3</td>\n",
       "      <td>2.53358</td>\n",
       "      <td>37</td>\n",
       "      <td>42</td>\n",
       "    </tr>\n",
       "    <tr>\n",
       "      <th>736</th>\n",
       "      <td>186307102</td>\n",
       "      <td>动漫制作技术</td>\n",
       "      <td>18动漫制作技术1</td>\n",
       "      <td>女</td>\n",
       "      <td>2018</td>\n",
       "      <td>1.5125</td>\n",
       "      <td>NaN</td>\n",
       "      <td>4.0</td>\n",
       "      <td>1.5125</td>\n",
       "      <td>3.7</td>\n",
       "      <td>2.44750</td>\n",
       "      <td>39</td>\n",
       "      <td>43</td>\n",
       "    </tr>\n",
       "    <tr>\n",
       "      <th>738</th>\n",
       "      <td>186307126</td>\n",
       "      <td>动漫制作技术</td>\n",
       "      <td>18动漫制作技术1</td>\n",
       "      <td>男</td>\n",
       "      <td>2018</td>\n",
       "      <td>2.1125</td>\n",
       "      <td>NaN</td>\n",
       "      <td>4.0</td>\n",
       "      <td>2.1125</td>\n",
       "      <td>1.0</td>\n",
       "      <td>2.26750</td>\n",
       "      <td>41</td>\n",
       "      <td>38</td>\n",
       "    </tr>\n",
       "    <tr>\n",
       "      <th>779</th>\n",
       "      <td>186307213</td>\n",
       "      <td>动漫制作技术</td>\n",
       "      <td>18动漫制作技术2</td>\n",
       "      <td>女</td>\n",
       "      <td>2018</td>\n",
       "      <td>2.1357</td>\n",
       "      <td>NaN</td>\n",
       "      <td>4.0</td>\n",
       "      <td>2.1357</td>\n",
       "      <td>3.3</td>\n",
       "      <td>2.74142</td>\n",
       "      <td>39</td>\n",
       "      <td>40</td>\n",
       "    </tr>\n",
       "    <tr>\n",
       "      <th>814</th>\n",
       "      <td>186302112</td>\n",
       "      <td>计算机网络技术</td>\n",
       "      <td>18计算机网络技术1</td>\n",
       "      <td>男</td>\n",
       "      <td>2018</td>\n",
       "      <td>1.9653</td>\n",
       "      <td>NaN</td>\n",
       "      <td>4.0</td>\n",
       "      <td>1.9653</td>\n",
       "      <td>1.0</td>\n",
       "      <td>2.17918</td>\n",
       "      <td>31</td>\n",
       "      <td>21</td>\n",
       "    </tr>\n",
       "    <tr>\n",
       "      <th>938</th>\n",
       "      <td>186305110</td>\n",
       "      <td>计算机应用技术(对口)</td>\n",
       "      <td>18计算机应用技术(2)对</td>\n",
       "      <td>女</td>\n",
       "      <td>2018</td>\n",
       "      <td>2.6667</td>\n",
       "      <td>NaN</td>\n",
       "      <td>4.0</td>\n",
       "      <td>2.6667</td>\n",
       "      <td>3.0</td>\n",
       "      <td>3.00002</td>\n",
       "      <td>31</td>\n",
       "      <td>27</td>\n",
       "    </tr>\n",
       "    <tr>\n",
       "      <th>939</th>\n",
       "      <td>186305133</td>\n",
       "      <td>计算机应用技术(对口)</td>\n",
       "      <td>18计算机应用技术(2)对</td>\n",
       "      <td>男</td>\n",
       "      <td>2018</td>\n",
       "      <td>2.5603</td>\n",
       "      <td>NaN</td>\n",
       "      <td>4.0</td>\n",
       "      <td>2.5603</td>\n",
       "      <td>3.3</td>\n",
       "      <td>2.99618</td>\n",
       "      <td>32</td>\n",
       "      <td>31</td>\n",
       "    </tr>\n",
       "    <tr>\n",
       "      <th>949</th>\n",
       "      <td>186305132</td>\n",
       "      <td>计算机应用技术(对口)</td>\n",
       "      <td>18计算机应用技术(2)对</td>\n",
       "      <td>男</td>\n",
       "      <td>2018</td>\n",
       "      <td>1.9698</td>\n",
       "      <td>NaN</td>\n",
       "      <td>4.0</td>\n",
       "      <td>1.9698</td>\n",
       "      <td>3.3</td>\n",
       "      <td>2.64188</td>\n",
       "      <td>42</td>\n",
       "      <td>42</td>\n",
       "    </tr>\n",
       "    <tr>\n",
       "      <th>1073</th>\n",
       "      <td>186304144</td>\n",
       "      <td>软件技术</td>\n",
       "      <td>18软件技术1</td>\n",
       "      <td>男</td>\n",
       "      <td>2018</td>\n",
       "      <td>1.3056</td>\n",
       "      <td>NaN</td>\n",
       "      <td>4.0</td>\n",
       "      <td>1.3056</td>\n",
       "      <td>1.5</td>\n",
       "      <td>1.88336</td>\n",
       "      <td>41</td>\n",
       "      <td>40</td>\n",
       "    </tr>\n",
       "    <tr>\n",
       "      <th>1264</th>\n",
       "      <td>186306244</td>\n",
       "      <td>物联网应用技术</td>\n",
       "      <td>18物联网应用技术2</td>\n",
       "      <td>男</td>\n",
       "      <td>2018</td>\n",
       "      <td>1.7411</td>\n",
       "      <td>NaN</td>\n",
       "      <td>4.0</td>\n",
       "      <td>1.7411</td>\n",
       "      <td>2.3</td>\n",
       "      <td>2.30466</td>\n",
       "      <td>25</td>\n",
       "      <td>21</td>\n",
       "    </tr>\n",
       "  </tbody>\n",
       "</table>\n",
       "</div>"
      ],
      "text/plain": [
       "             学号           专业             班级 性别    年级      B1  B2   G1      G2  \\\n",
       "183   176306235      计算机网络技术     17计算机网络技术2  男  2017  0.2800 NaN  4.0  0.2800   \n",
       "365   176301134         软件技术        17软件技术1  男  2017  0.4981 NaN  4.0  0.4981   \n",
       "561   156307319      物联网应用技术     17物联网应用技术2  男  2017  2.5020 NaN  4.0  2.5020   \n",
       "724   186307103       动漫制作技术      18动漫制作技术1  女  2018  2.0143 NaN  4.0  2.0143   \n",
       "729   186307128       动漫制作技术      18动漫制作技术1  男  2018  2.5089 NaN  4.0  2.5089   \n",
       "734   186307113       动漫制作技术      18动漫制作技术1  女  2018  1.7893 NaN  4.0  1.7893   \n",
       "736   186307102       动漫制作技术      18动漫制作技术1  女  2018  1.5125 NaN  4.0  1.5125   \n",
       "738   186307126       动漫制作技术      18动漫制作技术1  男  2018  2.1125 NaN  4.0  2.1125   \n",
       "779   186307213       动漫制作技术      18动漫制作技术2  女  2018  2.1357 NaN  4.0  2.1357   \n",
       "814   186302112      计算机网络技术     18计算机网络技术1  男  2018  1.9653 NaN  4.0  1.9653   \n",
       "938   186305110  计算机应用技术(对口)  18计算机应用技术(2)对  女  2018  2.6667 NaN  4.0  2.6667   \n",
       "939   186305133  计算机应用技术(对口)  18计算机应用技术(2)对  男  2018  2.5603 NaN  4.0  2.5603   \n",
       "949   186305132  计算机应用技术(对口)  18计算机应用技术(2)对  男  2018  1.9698 NaN  4.0  1.9698   \n",
       "1073  186304144         软件技术        18软件技术1  男  2018  1.3056 NaN  4.0  1.3056   \n",
       "1264  186306244      物联网应用技术     18物联网应用技术2  男  2018  1.7411 NaN  4.0  1.7411   \n",
       "\n",
       "       G3        G  班级排名  院系排名  \n",
       "183   2.3  1.42800    46    46  \n",
       "365   1.0  1.29886    46    46  \n",
       "561   3.0  2.90120    16    29  \n",
       "724   4.0  2.80858    27    39  \n",
       "729   1.5  2.60534    32    28  \n",
       "734   3.3  2.53358    37    42  \n",
       "736   3.7  2.44750    39    43  \n",
       "738   1.0  2.26750    41    38  \n",
       "779   3.3  2.74142    39    40  \n",
       "814   1.0  2.17918    31    21  \n",
       "938   3.0  3.00002    31    27  \n",
       "939   3.3  2.99618    32    31  \n",
       "949   3.3  2.64188    42    42  \n",
       "1073  1.5  1.88336    41    40  \n",
       "1264  2.3  2.30466    25    21  "
      ]
     },
     "execution_count": 10,
     "metadata": {},
     "output_type": "execute_result"
    }
   ],
   "source": [
    "# 查看哪些行有缺失值\n",
    "df1[df1.isnull().T.any()]"
   ]
  },
  {
   "cell_type": "code",
   "execution_count": 11,
   "metadata": {},
   "outputs": [],
   "source": [
    "# 删除有空值的行\n",
    "# df2 = df1.dropna(how='any',axis=0)\n",
    "# len(df2)"
   ]
  },
  {
   "cell_type": "code",
   "execution_count": 13,
   "metadata": {},
   "outputs": [
    {
     "name": "stderr",
     "output_type": "stream",
     "text": [
      "<ipython-input-13-8ed93d97c42e>:2: SettingWithCopyWarning: \n",
      "A value is trying to be set on a copy of a slice from a DataFrame.\n",
      "Try using .loc[row_indexer,col_indexer] = value instead\n",
      "\n",
      "See the caveats in the documentation: https://pandas.pydata.org/pandas-docs/stable/user_guide/indexing.html#returning-a-view-versus-a-copy\n",
      "  df1['B2'] = df1['B2'].fillna(df1['B2'].mean().round(3))\n"
     ]
    }
   ],
   "source": [
    "# 将空值替换为平均值，并保留三位小数\n",
    "df1['B2'] = df1['B2'].fillna(df1['B2'].mean().round(3))"
   ]
  },
  {
   "cell_type": "code",
   "execution_count": 14,
   "metadata": {},
   "outputs": [
    {
     "data": {
      "text/plain": [
       "学号      0\n",
       "专业      0\n",
       "班级      0\n",
       "性别      0\n",
       "年级      0\n",
       "B1      0\n",
       "B2      0\n",
       "G1      0\n",
       "G2      0\n",
       "G3      0\n",
       "G       0\n",
       "班级排名    0\n",
       "院系排名    0\n",
       "dtype: int64"
      ]
     },
     "execution_count": 14,
     "metadata": {},
     "output_type": "execute_result"
    }
   ],
   "source": [
    "df1.isnull().sum()"
   ]
  },
  {
   "cell_type": "code",
   "execution_count": 15,
   "metadata": {},
   "outputs": [],
   "source": [
    "# df1.to_csv('./a.csv',index=False)"
   ]
  },
  {
   "cell_type": "code",
   "execution_count": 16,
   "metadata": {},
   "outputs": [
    {
     "data": {
      "text/plain": [
       "专业\n",
       "动漫制作技术         179\n",
       "物联网应用技术        221\n",
       "移动应用开发         184\n",
       "计算机应用技术         99\n",
       "计算机应用技术(对口)    161\n",
       "计算机网络技术        176\n",
       "计算机网络技术(对口)     38\n",
       "软件技术           342\n",
       "Name: B2, dtype: int64"
      ]
     },
     "execution_count": 16,
     "metadata": {},
     "output_type": "execute_result"
    }
   ],
   "source": [
    "# 各专业评优人数，count()函数用来实现计数\n",
    "d1 = df1['B2'].groupby(df['专业']).count()\n",
    "d1"
   ]
  },
  {
   "cell_type": "code",
   "execution_count": 17,
   "metadata": {},
   "outputs": [
    {
     "data": {
      "image/png": "[encoded data removed]",
      "text/plain": [
       "<Figure size 1152x576 with 1 Axes>"
      ]
     },
     "metadata": {
      "needs_background": "light"
     },
     "output_type": "display_data"
    }
   ],
   "source": [
    "plt.figure(figsize=(16, 8))\n",
    "plt.title('各专业评优人数', fontsize=15)\n",
    "plt.bar(d1.index, d1.values, label='人数')\n",
    "for x, y in enumerate(d1.values):\n",
    "    plt.text(x, y, y, ha='center', va='bottom', fontsize=12)\n",
    "plt.grid(axis='y', ls=':')\n",
    "plt.legend()\n",
    "plt.show()"
   ]
  },
  {
   "cell_type": "code",
   "execution_count": 18,
   "metadata": {},
   "outputs": [
    {
     "data": {
      "text/plain": [
       "性别\n",
       "女    454\n",
       "男    946\n",
       "Name: B2, dtype: int64"
      ]
     },
     "execution_count": 18,
     "metadata": {},
     "output_type": "execute_result"
    }
   ],
   "source": [
    "#  查看男女占比情况\n",
    "d2 = df1['B2'].groupby(by=df1['性别']).count()\n",
    "d2"
   ]
  },
  {
   "cell_type": "code",
   "execution_count": 19,
   "metadata": {},
   "outputs": [
    {
     "data": {
      "image/png": "[encoded data removed]",
      "text/plain": [
       "<Figure size 432x288 with 1 Axes>"
      ]
     },
     "metadata": {},
     "output_type": "display_data"
    }
   ],
   "source": [
    "plt.figure(facecolor='w')\n",
    "plt.title('查看男女占比情况',fontsize=12)\n",
    "plt.pie(d2.values,autopct='%.2f%%',)\n",
    "plt.legend(d2.index,fontsize=10,bbox_to_anchor=[-0.6,0,0.5,1])\n",
    "plt.show()"
   ]
  },
  {
   "cell_type": "code",
   "execution_count": 24,
   "metadata": {},
   "outputs": [
    {
     "data": {
      "text/plain": [
       "<AxesSubplot:title={'center':'B1'}, xlabel='[专业]'>"
      ]
     },
     "execution_count": 24,
     "metadata": {},
     "output_type": "execute_result"
    },
    {
     "data": {
      "image/png": "[encoded data removed]",
      "text/plain": [
       "<Figure size 432x288 with 1 Axes>"
      ]
     },
     "metadata": {
      "needs_background": "light"
     },
     "output_type": "display_data"
    }
   ],
   "source": [
    "df1.boxplot(column=[\"B1\"],by=['专业'])"
   ]
  },
  {
   "cell_type": "code",
   "execution_count": null,
   "metadata": {},
   "outputs": [],
   "source": []
  }
 ],
 "metadata": {
  "interpreter": {
   "hash": "95ab7303ed2746327945aa376054eddca8c4eca362915ff95db932dbe7e7ee41"
  },
  "kernelspec": {
   "display_name": "Python 3.8.8 64-bit",
   "name": "python3"
  },
  "language_info": {
   "codemirror_mode": {
    "name": "ipython",
    "version": 3
   },
   "file_extension": ".py",
   "mimetype": "text/x-python",
   "name": "python",
   "nbconvert_exporter": "python",
   "pygments_lexer": "ipython3",
   "version": "3.8.8"
  }
 },
 "nbformat": 4,
 "nbformat_minor": 2
}
