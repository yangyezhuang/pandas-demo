{
 "cells": [
  {
   "cell_type": "code",
   "execution_count": 36,
   "metadata": {},
   "outputs": [
    {
     "data": {
      "text/html": [
       "<div>\n",
       "<style scoped>\n",
       "    .dataframe tbody tr th:only-of-type {\n",
       "        vertical-align: middle;\n",
       "    }\n",
       "\n",
       "    .dataframe tbody tr th {\n",
       "        vertical-align: top;\n",
       "    }\n",
       "\n",
       "    .dataframe thead th {\n",
       "        text-align: right;\n",
       "    }\n",
       "</style>\n",
       "<table border=\"1\" class=\"dataframe\">\n",
       "  <thead>\n",
       "    <tr style=\"text-align: right;\">\n",
       "      <th></th>\n",
       "      <th>CATE</th>\n",
       "      <th>bedrooms</th>\n",
       "      <th>halls</th>\n",
       "      <th>AREA</th>\n",
       "      <th>floor</th>\n",
       "      <th>subway</th>\n",
       "      <th>school</th>\n",
       "      <th>price</th>\n",
       "      <th>LONG</th>\n",
       "      <th>LAT</th>\n",
       "      <th>NAME</th>\n",
       "      <th>DISTRICT</th>\n",
       "    </tr>\n",
       "  </thead>\n",
       "  <tbody>\n",
       "    <tr>\n",
       "      <th>0</th>\n",
       "      <td>chaoyang</td>\n",
       "      <td>1</td>\n",
       "      <td>0</td>\n",
       "      <td>46.06</td>\n",
       "      <td>middle</td>\n",
       "      <td>1</td>\n",
       "      <td>0</td>\n",
       "      <td>48850</td>\n",
       "      <td>116.459653</td>\n",
       "      <td>39.928347</td>\n",
       "      <td>10AM新坐标</td>\n",
       "      <td>方庄</td>\n",
       "    </tr>\n",
       "    <tr>\n",
       "      <th>1</th>\n",
       "      <td>chaoyang</td>\n",
       "      <td>1</td>\n",
       "      <td>1</td>\n",
       "      <td>59.09</td>\n",
       "      <td>middle</td>\n",
       "      <td>1</td>\n",
       "      <td>0</td>\n",
       "      <td>46540</td>\n",
       "      <td>116.459653</td>\n",
       "      <td>39.928347</td>\n",
       "      <td>10AM新坐标</td>\n",
       "      <td>方庄</td>\n",
       "    </tr>\n",
       "    <tr>\n",
       "      <th>2</th>\n",
       "      <td>haidian</td>\n",
       "      <td>5</td>\n",
       "      <td>2</td>\n",
       "      <td>278.95</td>\n",
       "      <td>high</td>\n",
       "      <td>1</td>\n",
       "      <td>1</td>\n",
       "      <td>71662</td>\n",
       "      <td>116.303556</td>\n",
       "      <td>39.954807</td>\n",
       "      <td>10号名邸</td>\n",
       "      <td>紫竹桥</td>\n",
       "    </tr>\n",
       "    <tr>\n",
       "      <th>3</th>\n",
       "      <td>haidian</td>\n",
       "      <td>3</td>\n",
       "      <td>2</td>\n",
       "      <td>207.00</td>\n",
       "      <td>high</td>\n",
       "      <td>1</td>\n",
       "      <td>1</td>\n",
       "      <td>57972</td>\n",
       "      <td>116.303556</td>\n",
       "      <td>39.954807</td>\n",
       "      <td>10号名邸</td>\n",
       "      <td>紫竹桥</td>\n",
       "    </tr>\n",
       "    <tr>\n",
       "      <th>4</th>\n",
       "      <td>fengtai</td>\n",
       "      <td>2</td>\n",
       "      <td>1</td>\n",
       "      <td>53.32</td>\n",
       "      <td>low</td>\n",
       "      <td>1</td>\n",
       "      <td>1</td>\n",
       "      <td>71268</td>\n",
       "      <td>116.418826</td>\n",
       "      <td>39.943813</td>\n",
       "      <td>17号旁门</td>\n",
       "      <td>蒲黄榆</td>\n",
       "    </tr>\n",
       "  </tbody>\n",
       "</table>\n",
       "</div>"
      ],
      "text/plain": [
       "       CATE  bedrooms  halls    AREA   floor  subway  school  price  \\\n",
       "0  chaoyang         1      0   46.06  middle       1       0  48850   \n",
       "1  chaoyang         1      1   59.09  middle       1       0  46540   \n",
       "2   haidian         5      2  278.95    high       1       1  71662   \n",
       "3   haidian         3      2  207.00    high       1       1  57972   \n",
       "4   fengtai         2      1   53.32     low       1       1  71268   \n",
       "\n",
       "         LONG        LAT     NAME DISTRICT  \n",
       "0  116.459653  39.928347  10AM新坐标       方庄  \n",
       "1  116.459653  39.928347  10AM新坐标       方庄  \n",
       "2  116.303556  39.954807    10号名邸      紫竹桥  \n",
       "3  116.303556  39.954807    10号名邸      紫竹桥  \n",
       "4  116.418826  39.943813    17号旁门      蒲黄榆  "
      ]
     },
     "execution_count": 36,
     "metadata": {},
     "output_type": "execute_result"
    }
   ],
   "source": [
    "import statsmodels.api as sm\n",
    "from scipy import stats\n",
    "import math\n",
    "import pandas as pd\n",
    "import numpy as np\n",
    "import matplotlib.pyplot as plt\n",
    "\n",
    "\n",
    "plt.rcParams['font.family'] = 'simhei'\n",
    "plt.rcParams['axes.unicode_minus'] = False\n",
    "\n",
    "df = pd.read_csv('..\\data/beijingHouse.csv', encoding='utf-8')\n",
    "\n",
    "df_ana = df\n",
    "df_ana.head()  # 样本取样"
   ]
  },
  {
   "cell_type": "code",
   "execution_count": 37,
   "metadata": {},
   "outputs": [
    {
     "data": {
      "text/plain": [
       "(16210, 12)"
      ]
     },
     "execution_count": 37,
     "metadata": {},
     "output_type": "execute_result"
    }
   ],
   "source": [
    "df_ana.shape"
   ]
  },
  {
   "cell_type": "code",
   "execution_count": 69,
   "metadata": {},
   "outputs": [
    {
     "data": {
      "text/plain": [
       "0"
      ]
     },
     "execution_count": 69,
     "metadata": {},
     "output_type": "execute_result"
    }
   ],
   "source": [
    "# 查看重复值\n",
    "df_ana.duplicated().sum()"
   ]
  },
  {
   "cell_type": "code",
   "execution_count": 70,
   "metadata": {},
   "outputs": [
    {
     "data": {
      "text/plain": [
       "CATE          0\n",
       "bedrooms      0\n",
       "halls         0\n",
       "AREA          0\n",
       "floor         0\n",
       "subway        0\n",
       "school        0\n",
       "price         0\n",
       "LONG          0\n",
       "LAT           0\n",
       "NAME          0\n",
       "DISTRICT      0\n",
       "have_halls    0\n",
       "dtype: int64"
      ]
     },
     "execution_count": 70,
     "metadata": {},
     "output_type": "execute_result"
    }
   ],
   "source": [
    "# 查看缺失值\n",
    "df_ana.isnull().sum()"
   ]
  },
  {
   "cell_type": "code",
   "execution_count": 38,
   "metadata": {},
   "outputs": [
    {
     "data": {
      "text/html": [
       "<div>\n",
       "<style scoped>\n",
       "    .dataframe tbody tr th:only-of-type {\n",
       "        vertical-align: middle;\n",
       "    }\n",
       "\n",
       "    .dataframe tbody tr th {\n",
       "        vertical-align: top;\n",
       "    }\n",
       "\n",
       "    .dataframe thead th {\n",
       "        text-align: right;\n",
       "    }\n",
       "</style>\n",
       "<table border=\"1\" class=\"dataframe\">\n",
       "  <thead>\n",
       "    <tr style=\"text-align: right;\">\n",
       "      <th></th>\n",
       "      <th>CATE</th>\n",
       "      <th>bedrooms</th>\n",
       "      <th>halls</th>\n",
       "      <th>AREA</th>\n",
       "      <th>floor</th>\n",
       "      <th>subway</th>\n",
       "      <th>school</th>\n",
       "      <th>price</th>\n",
       "      <th>LONG</th>\n",
       "      <th>LAT</th>\n",
       "      <th>NAME</th>\n",
       "      <th>DISTRICT</th>\n",
       "    </tr>\n",
       "  </thead>\n",
       "  <tbody>\n",
       "    <tr>\n",
       "      <th>0</th>\n",
       "      <td>chaoyang</td>\n",
       "      <td>1</td>\n",
       "      <td>0</td>\n",
       "      <td>46.06</td>\n",
       "      <td>middle</td>\n",
       "      <td>1</td>\n",
       "      <td>0</td>\n",
       "      <td>4.8850</td>\n",
       "      <td>116.459653</td>\n",
       "      <td>39.928347</td>\n",
       "      <td>10AM新坐标</td>\n",
       "      <td>方庄</td>\n",
       "    </tr>\n",
       "    <tr>\n",
       "      <th>1</th>\n",
       "      <td>chaoyang</td>\n",
       "      <td>1</td>\n",
       "      <td>1</td>\n",
       "      <td>59.09</td>\n",
       "      <td>middle</td>\n",
       "      <td>1</td>\n",
       "      <td>0</td>\n",
       "      <td>4.6540</td>\n",
       "      <td>116.459653</td>\n",
       "      <td>39.928347</td>\n",
       "      <td>10AM新坐标</td>\n",
       "      <td>方庄</td>\n",
       "    </tr>\n",
       "    <tr>\n",
       "      <th>2</th>\n",
       "      <td>haidian</td>\n",
       "      <td>5</td>\n",
       "      <td>2</td>\n",
       "      <td>278.95</td>\n",
       "      <td>high</td>\n",
       "      <td>1</td>\n",
       "      <td>1</td>\n",
       "      <td>7.1662</td>\n",
       "      <td>116.303556</td>\n",
       "      <td>39.954807</td>\n",
       "      <td>10号名邸</td>\n",
       "      <td>紫竹桥</td>\n",
       "    </tr>\n",
       "  </tbody>\n",
       "</table>\n",
       "</div>"
      ],
      "text/plain": [
       "       CATE  bedrooms  halls    AREA   floor  subway  school   price  \\\n",
       "0  chaoyang         1      0   46.06  middle       1       0  4.8850   \n",
       "1  chaoyang         1      1   59.09  middle       1       0  4.6540   \n",
       "2   haidian         5      2  278.95    high       1       1  7.1662   \n",
       "\n",
       "         LONG        LAT     NAME DISTRICT  \n",
       "0  116.459653  39.928347  10AM新坐标       方庄  \n",
       "1  116.459653  39.928347  10AM新坐标       方庄  \n",
       "2  116.303556  39.954807    10号名邸      紫竹桥  "
      ]
     },
     "execution_count": 38,
     "metadata": {},
     "output_type": "execute_result"
    }
   ],
   "source": [
    "# 将价格单位转化为万元\n",
    "df_ana['price'] = df_ana['price']/10000\n",
    "df_ana.head(3)"
   ]
  },
  {
   "cell_type": "code",
   "execution_count": 39,
   "metadata": {},
   "outputs": [
    {
     "name": "stdout",
     "output_type": "stream",
     "text": [
      "['chaoyang', 'dongcheng', 'fengtai', 'haidian', 'shijingshan', 'xicheng']\n",
      "{'chaoyang': '朝阳', 'dongcheng': '东城', 'fengtai': '丰台', 'haidian': '海淀', 'shijingshan': '石景山', 'xicheng': '西城'}\n"
     ]
    },
    {
     "data": {
      "text/html": [
       "<div>\n",
       "<style scoped>\n",
       "    .dataframe tbody tr th:only-of-type {\n",
       "        vertical-align: middle;\n",
       "    }\n",
       "\n",
       "    .dataframe tbody tr th {\n",
       "        vertical-align: top;\n",
       "    }\n",
       "\n",
       "    .dataframe thead th {\n",
       "        text-align: right;\n",
       "    }\n",
       "</style>\n",
       "<table border=\"1\" class=\"dataframe\">\n",
       "  <thead>\n",
       "    <tr style=\"text-align: right;\">\n",
       "      <th></th>\n",
       "      <th>CATE</th>\n",
       "      <th>bedrooms</th>\n",
       "      <th>halls</th>\n",
       "      <th>AREA</th>\n",
       "      <th>floor</th>\n",
       "      <th>subway</th>\n",
       "      <th>school</th>\n",
       "      <th>price</th>\n",
       "      <th>LONG</th>\n",
       "      <th>LAT</th>\n",
       "      <th>NAME</th>\n",
       "      <th>DISTRICT</th>\n",
       "    </tr>\n",
       "  </thead>\n",
       "  <tbody>\n",
       "    <tr>\n",
       "      <th>0</th>\n",
       "      <td>朝阳</td>\n",
       "      <td>1</td>\n",
       "      <td>0</td>\n",
       "      <td>46.06</td>\n",
       "      <td>middle</td>\n",
       "      <td>1</td>\n",
       "      <td>0</td>\n",
       "      <td>4.8850</td>\n",
       "      <td>116.459653</td>\n",
       "      <td>39.928347</td>\n",
       "      <td>10AM新坐标</td>\n",
       "      <td>方庄</td>\n",
       "    </tr>\n",
       "    <tr>\n",
       "      <th>1</th>\n",
       "      <td>朝阳</td>\n",
       "      <td>1</td>\n",
       "      <td>1</td>\n",
       "      <td>59.09</td>\n",
       "      <td>middle</td>\n",
       "      <td>1</td>\n",
       "      <td>0</td>\n",
       "      <td>4.6540</td>\n",
       "      <td>116.459653</td>\n",
       "      <td>39.928347</td>\n",
       "      <td>10AM新坐标</td>\n",
       "      <td>方庄</td>\n",
       "    </tr>\n",
       "    <tr>\n",
       "      <th>2</th>\n",
       "      <td>海淀</td>\n",
       "      <td>5</td>\n",
       "      <td>2</td>\n",
       "      <td>278.95</td>\n",
       "      <td>high</td>\n",
       "      <td>1</td>\n",
       "      <td>1</td>\n",
       "      <td>7.1662</td>\n",
       "      <td>116.303556</td>\n",
       "      <td>39.954807</td>\n",
       "      <td>10号名邸</td>\n",
       "      <td>紫竹桥</td>\n",
       "    </tr>\n",
       "    <tr>\n",
       "      <th>3</th>\n",
       "      <td>海淀</td>\n",
       "      <td>3</td>\n",
       "      <td>2</td>\n",
       "      <td>207.00</td>\n",
       "      <td>high</td>\n",
       "      <td>1</td>\n",
       "      <td>1</td>\n",
       "      <td>5.7972</td>\n",
       "      <td>116.303556</td>\n",
       "      <td>39.954807</td>\n",
       "      <td>10号名邸</td>\n",
       "      <td>紫竹桥</td>\n",
       "    </tr>\n",
       "    <tr>\n",
       "      <th>4</th>\n",
       "      <td>丰台</td>\n",
       "      <td>2</td>\n",
       "      <td>1</td>\n",
       "      <td>53.32</td>\n",
       "      <td>low</td>\n",
       "      <td>1</td>\n",
       "      <td>1</td>\n",
       "      <td>7.1268</td>\n",
       "      <td>116.418826</td>\n",
       "      <td>39.943813</td>\n",
       "      <td>17号旁门</td>\n",
       "      <td>蒲黄榆</td>\n",
       "    </tr>\n",
       "  </tbody>\n",
       "</table>\n",
       "</div>"
      ],
      "text/plain": [
       "  CATE  bedrooms  halls    AREA   floor  subway  school   price        LONG  \\\n",
       "0   朝阳         1      0   46.06  middle       1       0  4.8850  116.459653   \n",
       "1   朝阳         1      1   59.09  middle       1       0  4.6540  116.459653   \n",
       "2   海淀         5      2  278.95    high       1       1  7.1662  116.303556   \n",
       "3   海淀         3      2  207.00    high       1       1  5.7972  116.303556   \n",
       "4   丰台         2      1   53.32     low       1       1  7.1268  116.418826   \n",
       "\n",
       "         LAT     NAME DISTRICT  \n",
       "0  39.928347  10AM新坐标       方庄  \n",
       "1  39.928347  10AM新坐标       方庄  \n",
       "2  39.954807    10号名邸      紫竹桥  \n",
       "3  39.954807    10号名邸      紫竹桥  \n",
       "4  39.943813    17号旁门      蒲黄榆  "
      ]
     },
     "execution_count": 39,
     "metadata": {},
     "output_type": "execute_result"
    }
   ],
   "source": [
    "# 将CATE（城区）列转化为中文\n",
    "city_en = df_ana['CATE'].drop_duplicates().tolist() # 移除重复值，转换为列表\n",
    "city_en.sort() # 对列表排序\n",
    "print(city_en)\n",
    "\n",
    "\n",
    "# 匹配中英文\n",
    "city_zh = ['朝阳', '东城', '丰台', '海淀', '石景山', '西城']\n",
    "dict_map = dict()\n",
    "for i in range(0, len(city_en)):\n",
    "    dict_map[city_en[i]] = city_zh[i]\n",
    "print(dict_map)\n",
    "\n",
    "\n",
    "# 用汉字替换拼音\n",
    "for x in dict_map.keys():\n",
    "    df_ana['CATE'] = df_ana['CATE'].str.replace(x, dict_map[x])\n",
    "df_ana.head()"
   ]
  },
  {
   "cell_type": "code",
   "execution_count": 40,
   "metadata": {},
   "outputs": [
    {
     "data": {
      "text/html": [
       "<div>\n",
       "<style scoped>\n",
       "    .dataframe tbody tr th:only-of-type {\n",
       "        vertical-align: middle;\n",
       "    }\n",
       "\n",
       "    .dataframe tbody tr th {\n",
       "        vertical-align: top;\n",
       "    }\n",
       "\n",
       "    .dataframe thead th {\n",
       "        text-align: right;\n",
       "    }\n",
       "</style>\n",
       "<table border=\"1\" class=\"dataframe\">\n",
       "  <thead>\n",
       "    <tr style=\"text-align: right;\">\n",
       "      <th></th>\n",
       "      <th>CATE</th>\n",
       "      <th>bedrooms</th>\n",
       "      <th>halls</th>\n",
       "      <th>AREA</th>\n",
       "      <th>floor</th>\n",
       "      <th>subway</th>\n",
       "      <th>school</th>\n",
       "      <th>price</th>\n",
       "      <th>LONG</th>\n",
       "      <th>LAT</th>\n",
       "      <th>NAME</th>\n",
       "      <th>DISTRICT</th>\n",
       "    </tr>\n",
       "  </thead>\n",
       "  <tbody>\n",
       "    <tr>\n",
       "      <th>6039</th>\n",
       "      <td>石景山</td>\n",
       "      <td>3</td>\n",
       "      <td>1</td>\n",
       "      <td>117.15</td>\n",
       "      <td>high</td>\n",
       "      <td>1</td>\n",
       "      <td>0</td>\n",
       "      <td>4.5242</td>\n",
       "      <td>116.223960</td>\n",
       "      <td>39.912220</td>\n",
       "      <td>碣石坪</td>\n",
       "      <td>鲁谷</td>\n",
       "    </tr>\n",
       "    <tr>\n",
       "      <th>14188</th>\n",
       "      <td>西城</td>\n",
       "      <td>4</td>\n",
       "      <td>1</td>\n",
       "      <td>126.34</td>\n",
       "      <td>high</td>\n",
       "      <td>0</td>\n",
       "      <td>1</td>\n",
       "      <td>5.9997</td>\n",
       "      <td>116.364987</td>\n",
       "      <td>39.879207</td>\n",
       "      <td>右安门内西街1号院</td>\n",
       "      <td>右安门内</td>\n",
       "    </tr>\n",
       "    <tr>\n",
       "      <th>5990</th>\n",
       "      <td>丰台</td>\n",
       "      <td>5</td>\n",
       "      <td>2</td>\n",
       "      <td>194.62</td>\n",
       "      <td>high</td>\n",
       "      <td>1</td>\n",
       "      <td>0</td>\n",
       "      <td>2.6719</td>\n",
       "      <td>116.382576</td>\n",
       "      <td>39.843989</td>\n",
       "      <td>角门甲8号院</td>\n",
       "      <td>角门</td>\n",
       "    </tr>\n",
       "    <tr>\n",
       "      <th>11349</th>\n",
       "      <td>朝阳</td>\n",
       "      <td>3</td>\n",
       "      <td>1</td>\n",
       "      <td>123.00</td>\n",
       "      <td>high</td>\n",
       "      <td>1</td>\n",
       "      <td>0</td>\n",
       "      <td>3.9675</td>\n",
       "      <td>116.600192</td>\n",
       "      <td>39.932039</td>\n",
       "      <td>万象新天四区</td>\n",
       "      <td>常营</td>\n",
       "    </tr>\n",
       "    <tr>\n",
       "      <th>5986</th>\n",
       "      <td>丰台</td>\n",
       "      <td>2</td>\n",
       "      <td>1</td>\n",
       "      <td>54.44</td>\n",
       "      <td>high</td>\n",
       "      <td>1</td>\n",
       "      <td>0</td>\n",
       "      <td>3.5820</td>\n",
       "      <td>116.382576</td>\n",
       "      <td>39.843989</td>\n",
       "      <td>角门甲120号院</td>\n",
       "      <td>角门</td>\n",
       "    </tr>\n",
       "    <tr>\n",
       "      <th>...</th>\n",
       "      <td>...</td>\n",
       "      <td>...</td>\n",
       "      <td>...</td>\n",
       "      <td>...</td>\n",
       "      <td>...</td>\n",
       "      <td>...</td>\n",
       "      <td>...</td>\n",
       "      <td>...</td>\n",
       "      <td>...</td>\n",
       "      <td>...</td>\n",
       "      <td>...</td>\n",
       "      <td>...</td>\n",
       "    </tr>\n",
       "    <tr>\n",
       "      <th>8197</th>\n",
       "      <td>石景山</td>\n",
       "      <td>2</td>\n",
       "      <td>1</td>\n",
       "      <td>63.03</td>\n",
       "      <td>middle</td>\n",
       "      <td>0</td>\n",
       "      <td>0</td>\n",
       "      <td>2.8717</td>\n",
       "      <td>116.160078</td>\n",
       "      <td>39.938323</td>\n",
       "      <td>模式口西里</td>\n",
       "      <td>苹果园</td>\n",
       "    </tr>\n",
       "    <tr>\n",
       "      <th>8194</th>\n",
       "      <td>石景山</td>\n",
       "      <td>2</td>\n",
       "      <td>1</td>\n",
       "      <td>63.10</td>\n",
       "      <td>middle</td>\n",
       "      <td>0</td>\n",
       "      <td>0</td>\n",
       "      <td>2.9002</td>\n",
       "      <td>116.160078</td>\n",
       "      <td>39.938323</td>\n",
       "      <td>模式口西里</td>\n",
       "      <td>苹果园</td>\n",
       "    </tr>\n",
       "    <tr>\n",
       "      <th>8192</th>\n",
       "      <td>石景山</td>\n",
       "      <td>2</td>\n",
       "      <td>1</td>\n",
       "      <td>55.71</td>\n",
       "      <td>middle</td>\n",
       "      <td>0</td>\n",
       "      <td>0</td>\n",
       "      <td>2.9080</td>\n",
       "      <td>116.160078</td>\n",
       "      <td>39.938323</td>\n",
       "      <td>模式口西里</td>\n",
       "      <td>苹果园</td>\n",
       "    </tr>\n",
       "    <tr>\n",
       "      <th>8297</th>\n",
       "      <td>朝阳</td>\n",
       "      <td>2</td>\n",
       "      <td>1</td>\n",
       "      <td>54.40</td>\n",
       "      <td>middle</td>\n",
       "      <td>1</td>\n",
       "      <td>0</td>\n",
       "      <td>5.0552</td>\n",
       "      <td>116.461937</td>\n",
       "      <td>39.997124</td>\n",
       "      <td>南湖渠西里</td>\n",
       "      <td>望京</td>\n",
       "    </tr>\n",
       "    <tr>\n",
       "      <th>16209</th>\n",
       "      <td>丰台</td>\n",
       "      <td>2</td>\n",
       "      <td>1</td>\n",
       "      <td>89.90</td>\n",
       "      <td>middle</td>\n",
       "      <td>1</td>\n",
       "      <td>0</td>\n",
       "      <td>4.6719</td>\n",
       "      <td>116.459653</td>\n",
       "      <td>39.928347</td>\n",
       "      <td>左右坊</td>\n",
       "      <td>马家堡</td>\n",
       "    </tr>\n",
       "  </tbody>\n",
       "</table>\n",
       "<p>16210 rows × 12 columns</p>\n",
       "</div>"
      ],
      "text/plain": [
       "      CATE  bedrooms  halls    AREA   floor  subway  school   price  \\\n",
       "6039   石景山         3      1  117.15    high       1       0  4.5242   \n",
       "14188   西城         4      1  126.34    high       0       1  5.9997   \n",
       "5990    丰台         5      2  194.62    high       1       0  2.6719   \n",
       "11349   朝阳         3      1  123.00    high       1       0  3.9675   \n",
       "5986    丰台         2      1   54.44    high       1       0  3.5820   \n",
       "...    ...       ...    ...     ...     ...     ...     ...     ...   \n",
       "8197   石景山         2      1   63.03  middle       0       0  2.8717   \n",
       "8194   石景山         2      1   63.10  middle       0       0  2.9002   \n",
       "8192   石景山         2      1   55.71  middle       0       0  2.9080   \n",
       "8297    朝阳         2      1   54.40  middle       1       0  5.0552   \n",
       "16209   丰台         2      1   89.90  middle       1       0  4.6719   \n",
       "\n",
       "             LONG        LAT       NAME DISTRICT  \n",
       "6039   116.223960  39.912220        碣石坪       鲁谷  \n",
       "14188  116.364987  39.879207  右安门内西街1号院     右安门内  \n",
       "5990   116.382576  39.843989     角门甲8号院       角门  \n",
       "11349  116.600192  39.932039     万象新天四区       常营  \n",
       "5986   116.382576  39.843989   角门甲120号院       角门  \n",
       "...           ...        ...        ...      ...  \n",
       "8197   116.160078  39.938323      模式口西里      苹果园  \n",
       "8194   116.160078  39.938323      模式口西里      苹果园  \n",
       "8192   116.160078  39.938323      模式口西里      苹果园  \n",
       "8297   116.461937  39.997124      南湖渠西里       望京  \n",
       "16209  116.459653  39.928347        左右坊      马家堡  \n",
       "\n",
       "[16210 rows x 12 columns]"
      ]
     },
     "execution_count": 40,
     "metadata": {},
     "output_type": "execute_result"
    }
   ],
   "source": [
    "# 根据楼层排序\n",
    "df_ana = df_ana.sort_values(by=['floor'], axis=0, ascending=True)\n",
    "df_ana"
   ]
  },
  {
   "cell_type": "code",
   "execution_count": 41,
   "metadata": {},
   "outputs": [
    {
     "data": {
      "text/plain": [
       "Text(0, 0.5, '频度')"
      ]
     },
     "execution_count": 41,
     "metadata": {},
     "output_type": "execute_result"
    },
    {
     "data": {
      "image/png": "[encoded data removed]",
      "text/plain": [
       "<Figure size 432x288 with 1 Axes>"
      ]
     },
     "metadata": {
      "needs_background": "light"
     },
     "output_type": "display_data"
    }
   ],
   "source": [
    "plt.hist(df_ana['price'], color='lightblue')\n",
    "plt.xlabel('单位面积房价(万元/平方米)')\n",
    "plt.ylabel('频度')"
   ]
  },
  {
   "cell_type": "code",
   "execution_count": 42,
   "metadata": {},
   "outputs": [
    {
     "data": {
      "text/plain": [
       "count    16210.000000\n",
       "mean         6.115181\n",
       "std          2.229336\n",
       "min          1.834800\n",
       "25%          4.281225\n",
       "50%          5.747300\n",
       "75%          7.609975\n",
       "max         14.987100\n",
       "Name: price, dtype: float64"
      ]
     },
     "execution_count": 42,
     "metadata": {},
     "output_type": "execute_result"
    }
   ],
   "source": [
    "df_ana['price'].describe()"
   ]
  },
  {
   "cell_type": "code",
   "execution_count": 43,
   "metadata": {},
   "outputs": [
    {
     "name": "stdout",
     "output_type": "stream",
     "text": [
      "中位数： 5.7473\n"
     ]
    }
   ],
   "source": [
    "df_price_middle = df_ana['price'].median()\n",
    "\n",
    "print('中位数：', df_price_middle)"
   ]
  },
  {
   "cell_type": "code",
   "execution_count": 44,
   "metadata": {},
   "outputs": [
    {
     "data": {
      "text/plain": [
       "Text(0.5, 0, '城区')"
      ]
     },
     "execution_count": 44,
     "metadata": {},
     "output_type": "execute_result"
    },
    {
     "data": {
      "image/png": "[encoded data removed]",
      "text/plain": [
       "<Figure size 432x288 with 1 Axes>"
      ]
     },
     "metadata": {
      "needs_background": "light"
     },
     "output_type": "display_data"
    }
   ],
   "source": [
    "# 绘制房价的分组箱线图\n",
    "\n",
    "df_ana.boxplot(column=[\"price\"], by=['CATE'])\n",
    "plt.ylabel(\"单位面积房价(万元/平方米)\")\n",
    "plt.xlabel(\"城区\")"
   ]
  },
  {
   "cell_type": "code",
   "execution_count": 45,
   "metadata": {},
   "outputs": [
    {
     "data": {
      "text/plain": [
       "<AxesSubplot:title={'center':'price'}, xlabel='[subway]'>"
      ]
     },
     "execution_count": 45,
     "metadata": {},
     "output_type": "execute_result"
    },
    {
     "data": {
      "image/png": "[encoded data removed]",
      "text/plain": [
       "<Figure size 432x288 with 1 Axes>"
      ]
     },
     "metadata": {
      "needs_background": "light"
     },
     "output_type": "display_data"
    }
   ],
   "source": [
    "# 地铁、学区的分组箱线图\n",
    "\n",
    "df_ana.boxplot(column=['price'], by=['subway'], labels=['非地铁房', '地铁房'])"
   ]
  },
  {
   "cell_type": "code",
   "execution_count": 46,
   "metadata": {},
   "outputs": [
    {
     "data": {
      "text/plain": [
       "<AxesSubplot:title={'center':'price'}, xlabel='[school]'>"
      ]
     },
     "execution_count": 46,
     "metadata": {},
     "output_type": "execute_result"
    },
    {
     "data": {
      "image/png": "[encoded data removed]",
      "text/plain": [
       "<Figure size 432x288 with 1 Axes>"
      ]
     },
     "metadata": {
      "needs_background": "light"
     },
     "output_type": "display_data"
    }
   ],
   "source": [
    "df_ana.boxplot(column=['price'], by=['school'], labels=['非学区房', '学区房'])"
   ]
  },
  {
   "cell_type": "code",
   "execution_count": 47,
   "metadata": {},
   "outputs": [
    {
     "data": {
      "text/plain": [
       "<AxesSubplot:title={'center':'price'}, xlabel='[bedrooms]'>"
      ]
     },
     "execution_count": 47,
     "metadata": {},
     "output_type": "execute_result"
    },
    {
     "data": {
      "image/png": "[encoded data removed]",
      "text/plain": [
       "<Figure size 432x288 with 1 Axes>"
      ]
     },
     "metadata": {
      "needs_background": "light"
     },
     "output_type": "display_data"
    }
   ],
   "source": [
    "# 考察房源，客厅、卧室和楼层是否对价格有影响\n",
    "\n",
    "df_ana.boxplot(column=['price'], by=['bedrooms'])"
   ]
  },
  {
   "cell_type": "code",
   "execution_count": 48,
   "metadata": {},
   "outputs": [
    {
     "data": {
      "text/plain": [
       "<AxesSubplot:title={'center':'price'}, xlabel='[halls]'>"
      ]
     },
     "execution_count": 48,
     "metadata": {},
     "output_type": "execute_result"
    },
    {
     "data": {
      "image/png": "[encoded data removed]",
      "text/plain": [
       "<Figure size 432x288 with 1 Axes>"
      ]
     },
     "metadata": {
      "needs_background": "light"
     },
     "output_type": "display_data"
    }
   ],
   "source": [
    "# 考察客厅数量对房价的影响：\n",
    "\n",
    "df_ana.boxplot(column=['price'], by=['halls'])"
   ]
  },
  {
   "cell_type": "code",
   "execution_count": 49,
   "metadata": {},
   "outputs": [
    {
     "data": {
      "text/plain": [
       "<AxesSubplot:title={'center':'price'}, xlabel='[floor]'>"
      ]
     },
     "execution_count": 49,
     "metadata": {},
     "output_type": "execute_result"
    },
    {
     "data": {
      "image/png": "[encoded data removed]",
      "text/plain": [
       "<Figure size 432x288 with 1 Axes>"
      ]
     },
     "metadata": {
      "needs_background": "light"
     },
     "output_type": "display_data"
    }
   ],
   "source": [
    "# 考察楼层高低对房价的影响：\n",
    "\n",
    "df_ana.boxplot(column=['price'], by=['floor'])"
   ]
  },
  {
   "cell_type": "code",
   "execution_count": 50,
   "metadata": {},
   "outputs": [
    {
     "data": {
      "image/png": "[encoded data removed]",
      "text/plain": [
       "<Figure size 432x288 with 1 Axes>"
      ]
     },
     "metadata": {
      "needs_background": "light"
     },
     "output_type": "display_data"
    }
   ],
   "source": [
    "# 考察房屋面积和单位价格的关系\n",
    "\n",
    "plt.plot(df_ana['AREA'], df_ana['price'], 'o', color='lightpink')\n",
    "plt.xlabel('面积(平方米)')\n",
    "plt.ylabel('单位面积房价(万元/平方米)')\n",
    "plt.show()"
   ]
  },
  {
   "cell_type": "code",
   "execution_count": 51,
   "metadata": {},
   "outputs": [],
   "source": [
    "# 建立线性回归模型\n",
    "\n",
    "# 客厅数做因子化处理，变成二分变量，使得建模有更好的解读。\n",
    "\n",
    "def fun(x):\n",
    "    if isinstance(x, int):\n",
    "        if x == 0:\n",
    "            return 0\n",
    "        else:\n",
    "            return 1\n",
    "    else:\n",
    "        return 0\n",
    "\n",
    "\n",
    "style_halls = df_ana\n",
    "df_ana['have_halls'] = df_ana['halls'].apply(lambda x: fun(x))\n",
    "col_n = ['CATE', 'bedrooms', 'AREA', 'floor', 'subway', 'school', 'have_halls']"
   ]
  },
  {
   "cell_type": "code",
   "execution_count": 52,
   "metadata": {},
   "outputs": [],
   "source": [
    "# 将变量参数数据化\n",
    "\n",
    "y = df_ana.price\n",
    "x = pd.DataFrame(df_ana, columns=col_n)  # 设置自变量x\n",
    "x_dum_cate = pd.get_dummies(x['CATE'])  # 对哑变量编码\n",
    "x_dum_floor = pd.get_dummies(x['floor'])  # 对哑变量编码\n",
    "del x['CATE']\n",
    "del x['floor']\n",
    "x = pd.concat([x, x_dum_cate], axis=1)\n",
    "x = pd.concat([x, x_dum_floor], axis=1)\n",
    "X = sm.add_constant(x)  # 增加截距项"
   ]
  },
  {
   "cell_type": "code",
   "execution_count": 53,
   "metadata": {},
   "outputs": [
    {
     "data": {
      "text/html": [
       "<div>\n",
       "<style scoped>\n",
       "    .dataframe tbody tr th:only-of-type {\n",
       "        vertical-align: middle;\n",
       "    }\n",
       "\n",
       "    .dataframe tbody tr th {\n",
       "        vertical-align: top;\n",
       "    }\n",
       "\n",
       "    .dataframe thead th {\n",
       "        text-align: right;\n",
       "    }\n",
       "</style>\n",
       "<table border=\"1\" class=\"dataframe\">\n",
       "  <thead>\n",
       "    <tr style=\"text-align: right;\">\n",
       "      <th></th>\n",
       "      <th>const</th>\n",
       "      <th>bedrooms</th>\n",
       "      <th>AREA</th>\n",
       "      <th>subway</th>\n",
       "      <th>school</th>\n",
       "      <th>have_halls</th>\n",
       "      <th>东城</th>\n",
       "      <th>丰台</th>\n",
       "      <th>朝阳</th>\n",
       "      <th>海淀</th>\n",
       "      <th>石景山</th>\n",
       "      <th>西城</th>\n",
       "      <th>high</th>\n",
       "      <th>low</th>\n",
       "      <th>middle</th>\n",
       "    </tr>\n",
       "  </thead>\n",
       "  <tbody>\n",
       "    <tr>\n",
       "      <th>6039</th>\n",
       "      <td>1.0</td>\n",
       "      <td>3</td>\n",
       "      <td>117.15</td>\n",
       "      <td>1</td>\n",
       "      <td>0</td>\n",
       "      <td>1</td>\n",
       "      <td>0</td>\n",
       "      <td>0</td>\n",
       "      <td>0</td>\n",
       "      <td>0</td>\n",
       "      <td>1</td>\n",
       "      <td>0</td>\n",
       "      <td>1</td>\n",
       "      <td>0</td>\n",
       "      <td>0</td>\n",
       "    </tr>\n",
       "    <tr>\n",
       "      <th>14188</th>\n",
       "      <td>1.0</td>\n",
       "      <td>4</td>\n",
       "      <td>126.34</td>\n",
       "      <td>0</td>\n",
       "      <td>1</td>\n",
       "      <td>1</td>\n",
       "      <td>0</td>\n",
       "      <td>0</td>\n",
       "      <td>0</td>\n",
       "      <td>0</td>\n",
       "      <td>0</td>\n",
       "      <td>1</td>\n",
       "      <td>1</td>\n",
       "      <td>0</td>\n",
       "      <td>0</td>\n",
       "    </tr>\n",
       "    <tr>\n",
       "      <th>5990</th>\n",
       "      <td>1.0</td>\n",
       "      <td>5</td>\n",
       "      <td>194.62</td>\n",
       "      <td>1</td>\n",
       "      <td>0</td>\n",
       "      <td>1</td>\n",
       "      <td>0</td>\n",
       "      <td>1</td>\n",
       "      <td>0</td>\n",
       "      <td>0</td>\n",
       "      <td>0</td>\n",
       "      <td>0</td>\n",
       "      <td>1</td>\n",
       "      <td>0</td>\n",
       "      <td>0</td>\n",
       "    </tr>\n",
       "    <tr>\n",
       "      <th>11349</th>\n",
       "      <td>1.0</td>\n",
       "      <td>3</td>\n",
       "      <td>123.00</td>\n",
       "      <td>1</td>\n",
       "      <td>0</td>\n",
       "      <td>1</td>\n",
       "      <td>0</td>\n",
       "      <td>0</td>\n",
       "      <td>1</td>\n",
       "      <td>0</td>\n",
       "      <td>0</td>\n",
       "      <td>0</td>\n",
       "      <td>1</td>\n",
       "      <td>0</td>\n",
       "      <td>0</td>\n",
       "    </tr>\n",
       "    <tr>\n",
       "      <th>5986</th>\n",
       "      <td>1.0</td>\n",
       "      <td>2</td>\n",
       "      <td>54.44</td>\n",
       "      <td>1</td>\n",
       "      <td>0</td>\n",
       "      <td>1</td>\n",
       "      <td>0</td>\n",
       "      <td>1</td>\n",
       "      <td>0</td>\n",
       "      <td>0</td>\n",
       "      <td>0</td>\n",
       "      <td>0</td>\n",
       "      <td>1</td>\n",
       "      <td>0</td>\n",
       "      <td>0</td>\n",
       "    </tr>\n",
       "  </tbody>\n",
       "</table>\n",
       "</div>"
      ],
      "text/plain": [
       "       const  bedrooms    AREA  subway  school  have_halls  东城  丰台  朝阳  海淀  \\\n",
       "6039     1.0         3  117.15       1       0           1   0   0   0   0   \n",
       "14188    1.0         4  126.34       0       1           1   0   0   0   0   \n",
       "5990     1.0         5  194.62       1       0           1   0   1   0   0   \n",
       "11349    1.0         3  123.00       1       0           1   0   0   1   0   \n",
       "5986     1.0         2   54.44       1       0           1   0   1   0   0   \n",
       "\n",
       "       石景山  西城  high  low  middle  \n",
       "6039     1   0     1    0       0  \n",
       "14188    0   1     1    0       0  \n",
       "5990     0   0     1    0       0  \n",
       "11349    0   0     1    0       0  \n",
       "5986     0   0     1    0       0  "
      ]
     },
     "execution_count": 53,
     "metadata": {},
     "output_type": "execute_result"
    }
   ],
   "source": [
    "# 查看数据：\n",
    "X.head()"
   ]
  },
  {
   "cell_type": "code",
   "execution_count": 54,
   "metadata": {},
   "outputs": [
    {
     "data": {
      "text/plain": [
       "const         3.326761\n",
       "bedrooms      0.111101\n",
       "AREA         -0.002780\n",
       "subway        0.672102\n",
       "school        1.183122\n",
       "have_halls    0.171935\n",
       "东城            1.439778\n",
       "丰台           -0.871941\n",
       "朝阳           -0.128141\n",
       "海淀            1.187993\n",
       "石景山          -1.003265\n",
       "西城            2.702337\n",
       "high          0.992039\n",
       "low           1.190565\n",
       "middle        1.144157\n",
       "dtype: float64"
      ]
     },
     "execution_count": 54,
     "metadata": {},
     "output_type": "execute_result"
    }
   ],
   "source": [
    "# 线性回归模型（因变量：单位面积房价）：\n",
    "\n",
    "model = sm.OLS(y, X)\n",
    "result = model.fit()\n",
    "result.params  # 显示回归系数"
   ]
  },
  {
   "cell_type": "code",
   "execution_count": 55,
   "metadata": {},
   "outputs": [
    {
     "data": {
      "text/html": [
       "<table class=\"simpletable\">\n",
       "<caption>OLS Regression Results</caption>\n",
       "<tr>\n",
       "  <th>Dep. Variable:</th>          <td>price</td>      <th>  R-squared:         </th> <td>   0.590</td> \n",
       "</tr>\n",
       "<tr>\n",
       "  <th>Model:</th>                   <td>OLS</td>       <th>  Adj. R-squared:    </th> <td>   0.590</td> \n",
       "</tr>\n",
       "<tr>\n",
       "  <th>Method:</th>             <td>Least Squares</td>  <th>  F-statistic:       </th> <td>   1945.</td> \n",
       "</tr>\n",
       "<tr>\n",
       "  <th>Date:</th>             <td>Thu, 21 Oct 2021</td> <th>  Prob (F-statistic):</th>  <td>  0.00</td>  \n",
       "</tr>\n",
       "<tr>\n",
       "  <th>Time:</th>                 <td>10:55:27</td>     <th>  Log-Likelihood:    </th> <td> -28762.</td> \n",
       "</tr>\n",
       "<tr>\n",
       "  <th>No. Observations:</th>      <td> 16210</td>      <th>  AIC:               </th> <td>5.755e+04</td>\n",
       "</tr>\n",
       "<tr>\n",
       "  <th>Df Residuals:</th>          <td> 16197</td>      <th>  BIC:               </th> <td>5.765e+04</td>\n",
       "</tr>\n",
       "<tr>\n",
       "  <th>Df Model:</th>              <td>    12</td>      <th>                     </th>     <td> </td>    \n",
       "</tr>\n",
       "<tr>\n",
       "  <th>Covariance Type:</th>      <td>nonrobust</td>    <th>                     </th>     <td> </td>    \n",
       "</tr>\n",
       "</table>\n",
       "<table class=\"simpletable\">\n",
       "<tr>\n",
       "       <td></td>         <th>coef</th>     <th>std err</th>      <th>t</th>      <th>P>|t|</th>  <th>[0.025</th>    <th>0.975]</th>  \n",
       "</tr>\n",
       "<tr>\n",
       "  <th>const</th>      <td>    3.3268</td> <td>    0.041</td> <td>   81.568</td> <td> 0.000</td> <td>    3.247</td> <td>    3.407</td>\n",
       "</tr>\n",
       "<tr>\n",
       "  <th>bedrooms</th>   <td>    0.1111</td> <td>    0.020</td> <td>    5.500</td> <td> 0.000</td> <td>    0.072</td> <td>    0.151</td>\n",
       "</tr>\n",
       "<tr>\n",
       "  <th>AREA</th>       <td>   -0.0028</td> <td>    0.000</td> <td>   -7.393</td> <td> 0.000</td> <td>   -0.004</td> <td>   -0.002</td>\n",
       "</tr>\n",
       "<tr>\n",
       "  <th>subway</th>     <td>    0.6721</td> <td>    0.031</td> <td>   21.741</td> <td> 0.000</td> <td>    0.612</td> <td>    0.733</td>\n",
       "</tr>\n",
       "<tr>\n",
       "  <th>school</th>     <td>    1.1831</td> <td>    0.028</td> <td>   42.607</td> <td> 0.000</td> <td>    1.129</td> <td>    1.238</td>\n",
       "</tr>\n",
       "<tr>\n",
       "  <th>have_halls</th> <td>    0.1719</td> <td>    0.053</td> <td>    3.260</td> <td> 0.001</td> <td>    0.069</td> <td>    0.275</td>\n",
       "</tr>\n",
       "<tr>\n",
       "  <th>东城</th>         <td>    1.4398</td> <td>    0.027</td> <td>   54.157</td> <td> 0.000</td> <td>    1.388</td> <td>    1.492</td>\n",
       "</tr>\n",
       "<tr>\n",
       "  <th>丰台</th>         <td>   -0.8719</td> <td>    0.026</td> <td>  -33.491</td> <td> 0.000</td> <td>   -0.923</td> <td>   -0.821</td>\n",
       "</tr>\n",
       "<tr>\n",
       "  <th>朝阳</th>         <td>   -0.1281</td> <td>    0.027</td> <td>   -4.816</td> <td> 0.000</td> <td>   -0.180</td> <td>   -0.076</td>\n",
       "</tr>\n",
       "<tr>\n",
       "  <th>海淀</th>         <td>    1.1880</td> <td>    0.026</td> <td>   45.562</td> <td> 0.000</td> <td>    1.137</td> <td>    1.239</td>\n",
       "</tr>\n",
       "<tr>\n",
       "  <th>石景山</th>        <td>   -1.0033</td> <td>    0.031</td> <td>  -32.687</td> <td> 0.000</td> <td>   -1.063</td> <td>   -0.943</td>\n",
       "</tr>\n",
       "<tr>\n",
       "  <th>西城</th>         <td>    2.7023</td> <td>    0.027</td> <td>   99.490</td> <td> 0.000</td> <td>    2.649</td> <td>    2.756</td>\n",
       "</tr>\n",
       "<tr>\n",
       "  <th>high</th>       <td>    0.9920</td> <td>    0.021</td> <td>   46.903</td> <td> 0.000</td> <td>    0.951</td> <td>    1.033</td>\n",
       "</tr>\n",
       "<tr>\n",
       "  <th>low</th>        <td>    1.1906</td> <td>    0.021</td> <td>   56.465</td> <td> 0.000</td> <td>    1.149</td> <td>    1.232</td>\n",
       "</tr>\n",
       "<tr>\n",
       "  <th>middle</th>     <td>    1.1442</td> <td>    0.021</td> <td>   55.710</td> <td> 0.000</td> <td>    1.104</td> <td>    1.184</td>\n",
       "</tr>\n",
       "</table>\n",
       "<table class=\"simpletable\">\n",
       "<tr>\n",
       "  <th>Omnibus:</th>       <td>1279.281</td> <th>  Durbin-Watson:     </th> <td>   1.413</td>\n",
       "</tr>\n",
       "<tr>\n",
       "  <th>Prob(Omnibus):</th>  <td> 0.000</td>  <th>  Jarque-Bera (JB):  </th> <td>2206.275</td>\n",
       "</tr>\n",
       "<tr>\n",
       "  <th>Skew:</th>           <td> 0.583</td>  <th>  Prob(JB):          </th> <td>    0.00</td>\n",
       "</tr>\n",
       "<tr>\n",
       "  <th>Kurtosis:</th>       <td> 4.380</td>  <th>  Cond. No.          </th> <td>4.69e+17</td>\n",
       "</tr>\n",
       "</table><br/><br/>Notes:<br/>[1] Standard Errors assume that the covariance matrix of the errors is correctly specified.<br/>[2] The smallest eigenvalue is 7.62e-28. This might indicate that there are<br/>strong multicollinearity problems or that the design matrix is singular."
      ],
      "text/plain": [
       "<class 'statsmodels.iolib.summary.Summary'>\n",
       "\"\"\"\n",
       "                            OLS Regression Results                            \n",
       "==============================================================================\n",
       "Dep. Variable:                  price   R-squared:                       0.590\n",
       "Model:                            OLS   Adj. R-squared:                  0.590\n",
       "Method:                 Least Squares   F-statistic:                     1945.\n",
       "Date:                Thu, 21 Oct 2021   Prob (F-statistic):               0.00\n",
       "Time:                        10:55:27   Log-Likelihood:                -28762.\n",
       "No. Observations:               16210   AIC:                         5.755e+04\n",
       "Df Residuals:                   16197   BIC:                         5.765e+04\n",
       "Df Model:                          12                                         \n",
       "Covariance Type:            nonrobust                                         \n",
       "==============================================================================\n",
       "                 coef    std err          t      P>|t|      [0.025      0.975]\n",
       "------------------------------------------------------------------------------\n",
       "const          3.3268      0.041     81.568      0.000       3.247       3.407\n",
       "bedrooms       0.1111      0.020      5.500      0.000       0.072       0.151\n",
       "AREA          -0.0028      0.000     -7.393      0.000      -0.004      -0.002\n",
       "subway         0.6721      0.031     21.741      0.000       0.612       0.733\n",
       "school         1.1831      0.028     42.607      0.000       1.129       1.238\n",
       "have_halls     0.1719      0.053      3.260      0.001       0.069       0.275\n",
       "东城             1.4398      0.027     54.157      0.000       1.388       1.492\n",
       "丰台            -0.8719      0.026    -33.491      0.000      -0.923      -0.821\n",
       "朝阳            -0.1281      0.027     -4.816      0.000      -0.180      -0.076\n",
       "海淀             1.1880      0.026     45.562      0.000       1.137       1.239\n",
       "石景山           -1.0033      0.031    -32.687      0.000      -1.063      -0.943\n",
       "西城             2.7023      0.027     99.490      0.000       2.649       2.756\n",
       "high           0.9920      0.021     46.903      0.000       0.951       1.033\n",
       "low            1.1906      0.021     56.465      0.000       1.149       1.232\n",
       "middle         1.1442      0.021     55.710      0.000       1.104       1.184\n",
       "==============================================================================\n",
       "Omnibus:                     1279.281   Durbin-Watson:                   1.413\n",
       "Prob(Omnibus):                  0.000   Jarque-Bera (JB):             2206.275\n",
       "Skew:                           0.583   Prob(JB):                         0.00\n",
       "Kurtosis:                       4.380   Cond. No.                     4.69e+17\n",
       "==============================================================================\n",
       "\n",
       "Notes:\n",
       "[1] Standard Errors assume that the covariance matrix of the errors is correctly specified.\n",
       "[2] The smallest eigenvalue is 7.62e-28. This might indicate that there are\n",
       "strong multicollinearity problems or that the design matrix is singular.\n",
       "\"\"\""
      ]
     },
     "execution_count": 55,
     "metadata": {},
     "output_type": "execute_result"
    }
   ],
   "source": [
    "result.summary()"
   ]
  },
  {
   "cell_type": "code",
   "execution_count": 56,
   "metadata": {},
   "outputs": [
    {
     "data": {
      "text/plain": [
       "<Figure size 432x288 with 0 Axes>"
      ]
     },
     "metadata": {},
     "output_type": "display_data"
    }
   ],
   "source": [
    "y_hat = result.predict(X)\n",
    "residuals = y-y_hat\n",
    "fig = plt.figure()"
   ]
  },
  {
   "cell_type": "code",
   "execution_count": 57,
   "metadata": {},
   "outputs": [
    {
     "data": {
      "text/plain": [
       "<matplotlib.collections.PathCollection at 0x22dd5308b20>"
      ]
     },
     "execution_count": 57,
     "metadata": {},
     "output_type": "execute_result"
    },
    {
     "data": {
      "image/png": "[encoded data removed]",
      "text/plain": [
       "<Figure size 432x288 with 1 Axes>"
      ]
     },
     "metadata": {
      "needs_background": "light"
     },
     "output_type": "display_data"
    }
   ],
   "source": [
    "#  验证模型是否符合线性模型\n",
    "\n",
    "plt.title('Residuals VS Fitted')\n",
    "plt.xlabel('Fitted Values')\n",
    "plt.ylabel('Residuals')\n",
    "plt.scatter(y_hat, residuals)"
   ]
  },
  {
   "cell_type": "code",
   "execution_count": 58,
   "metadata": {},
   "outputs": [
    {
     "data": {
      "text/plain": [
       "<matplotlib.collections.PathCollection at 0x22dd3ba7460>"
      ]
     },
     "execution_count": 58,
     "metadata": {},
     "output_type": "execute_result"
    },
    {
     "data": {
      "image/png": "[encoded data removed]",
      "text/plain": [
       "<Figure size 432x288 with 1 Axes>"
      ]
     },
     "metadata": {
      "needs_background": "light"
     },
     "output_type": "display_data"
    }
   ],
   "source": [
    "# 6.4.12 验证房价是否是正太分布\n",
    "\n",
    "residuals_n = (residuals-np.mean(residuals))/np.std(residuals)\n",
    "sorted_ = np.sort(residuals_n)\n",
    "yvals = np.arange(len(sorted_))/float(len(sorted_))\n",
    "x_label = stats.norm.ppf(yvals)\n",
    "\n",
    "plt.title('Normal Q-Q')\n",
    "plt.xlabel('Theoretical Quantiles')\n",
    "plt.ylabel('Standardized residuals')\n",
    "plt.scatter(x_label, sorted_)"
   ]
  },
  {
   "cell_type": "code",
   "execution_count": 59,
   "metadata": {},
   "outputs": [
    {
     "data": {
      "text/plain": [
       "<matplotlib.collections.PathCollection at 0x22dd3c3d4f0>"
      ]
     },
     "execution_count": 59,
     "metadata": {},
     "output_type": "execute_result"
    },
    {
     "data": {
      "image/png": "[encoded data removed]",
      "text/plain": [
       "<Figure size 432x288 with 1 Axes>"
      ]
     },
     "metadata": {
      "needs_background": "light"
     },
     "output_type": "display_data"
    }
   ],
   "source": [
    "# 6.5 复杂绘图分析\n",
    "\n",
    "# 6.5.1 换一种方法重新验证模型是否符合线性模型\n",
    "\n",
    "\n",
    "residuals_sq = np.sqrt(abs(residuals_n))\n",
    "plt.title('Scale-Location')\n",
    "plt.xlabel('Fitted Values')\n",
    "plt.ylabel('sqrt(Standardized residuals)')\n",
    "plt.scatter(y_hat, residuals_sq)"
   ]
  },
  {
   "cell_type": "code",
   "execution_count": 60,
   "metadata": {},
   "outputs": [
    {
     "data": {
      "text/plain": [
       "[<matplotlib.lines.Line2D at 0x22dd3ca3430>]"
      ]
     },
     "execution_count": 60,
     "metadata": {},
     "output_type": "execute_result"
    },
    {
     "data": {
      "image/png": "[encoded data removed]",
      "text/plain": [
       "<Figure size 432x288 with 1 Axes>"
      ]
     },
     "metadata": {
      "needs_background": "light"
     },
     "output_type": "display_data"
    }
   ],
   "source": [
    "# 6.5.2 考察样本异常值\n",
    "\n",
    "n = len(y)\n",
    "y_m = np.mean(y)\n",
    "Lyy = np.sum((y-y_m)**2)\n",
    "Hii = 1/n+(y-y_m)**2/Lyy\n",
    "\n",
    "plt.title(\"Cook's distance\")\n",
    "plt.xlabel('Obs number')\n",
    "plt.ylabel(\"Cook's distance\")\n",
    "plt.plot(Hii.tolist())"
   ]
  },
  {
   "cell_type": "code",
   "execution_count": 61,
   "metadata": {},
   "outputs": [
    {
     "data": {
      "text/plain": [
       "const         1.033541\n",
       "bedrooms      0.014056\n",
       "AREA         -0.000351\n",
       "subway        0.128150\n",
       "school        0.171905\n",
       "have_halls    0.027504\n",
       "东城            0.335556\n",
       "丰台           -0.078024\n",
       "朝阳            0.083502\n",
       "海淀            0.309828\n",
       "石景山          -0.122149\n",
       "西城            0.504827\n",
       "high          0.324561\n",
       "low           0.358446\n",
       "middle        0.350534\n",
       "dtype: float64"
      ]
     },
     "execution_count": 61,
     "metadata": {},
     "output_type": "execute_result"
    }
   ],
   "source": [
    "# 6.5.3 取对数后重新做以上验证\n",
    "\n",
    "# 对房价取对数，得到——y_log\n",
    "y_log = df_ana['price'].apply(lambda x: math.log(x))\n",
    "# 对数房价回归模型\n",
    "model = sm.OLS(y_log, X)\n",
    "result = model.fit()\n",
    "result.params"
   ]
  },
  {
   "cell_type": "code",
   "execution_count": 62,
   "metadata": {},
   "outputs": [
    {
     "data": {
      "text/html": [
       "<table class=\"simpletable\">\n",
       "<caption>OLS Regression Results</caption>\n",
       "<tr>\n",
       "  <th>Dep. Variable:</th>          <td>price</td>      <th>  R-squared:         </th> <td>   0.608</td>\n",
       "</tr>\n",
       "<tr>\n",
       "  <th>Model:</th>                   <td>OLS</td>       <th>  Adj. R-squared:    </th> <td>   0.608</td>\n",
       "</tr>\n",
       "<tr>\n",
       "  <th>Method:</th>             <td>Least Squares</td>  <th>  F-statistic:       </th> <td>   2095.</td>\n",
       "</tr>\n",
       "<tr>\n",
       "  <th>Date:</th>             <td>Thu, 21 Oct 2021</td> <th>  Prob (F-statistic):</th>  <td>  0.00</td> \n",
       "</tr>\n",
       "<tr>\n",
       "  <th>Time:</th>                 <td>10:55:27</td>     <th>  Log-Likelihood:    </th> <td>  977.77</td>\n",
       "</tr>\n",
       "<tr>\n",
       "  <th>No. Observations:</th>      <td> 16210</td>      <th>  AIC:               </th> <td>  -1930.</td>\n",
       "</tr>\n",
       "<tr>\n",
       "  <th>Df Residuals:</th>          <td> 16197</td>      <th>  BIC:               </th> <td>  -1830.</td>\n",
       "</tr>\n",
       "<tr>\n",
       "  <th>Df Model:</th>              <td>    12</td>      <th>                     </th>     <td> </td>   \n",
       "</tr>\n",
       "<tr>\n",
       "  <th>Covariance Type:</th>      <td>nonrobust</td>    <th>                     </th>     <td> </td>   \n",
       "</tr>\n",
       "</table>\n",
       "<table class=\"simpletable\">\n",
       "<tr>\n",
       "       <td></td>         <th>coef</th>     <th>std err</th>      <th>t</th>      <th>P>|t|</th>  <th>[0.025</th>    <th>0.975]</th>  \n",
       "</tr>\n",
       "<tr>\n",
       "  <th>const</th>      <td>    1.0335</td> <td>    0.007</td> <td>  158.712</td> <td> 0.000</td> <td>    1.021</td> <td>    1.046</td>\n",
       "</tr>\n",
       "<tr>\n",
       "  <th>bedrooms</th>   <td>    0.0141</td> <td>    0.003</td> <td>    4.358</td> <td> 0.000</td> <td>    0.008</td> <td>    0.020</td>\n",
       "</tr>\n",
       "<tr>\n",
       "  <th>AREA</th>       <td>   -0.0004</td> <td>    6e-05</td> <td>   -5.842</td> <td> 0.000</td> <td>   -0.000</td> <td>   -0.000</td>\n",
       "</tr>\n",
       "<tr>\n",
       "  <th>subway</th>     <td>    0.1282</td> <td>    0.005</td> <td>   25.963</td> <td> 0.000</td> <td>    0.118</td> <td>    0.138</td>\n",
       "</tr>\n",
       "<tr>\n",
       "  <th>school</th>     <td>    0.1719</td> <td>    0.004</td> <td>   38.772</td> <td> 0.000</td> <td>    0.163</td> <td>    0.181</td>\n",
       "</tr>\n",
       "<tr>\n",
       "  <th>have_halls</th> <td>    0.0275</td> <td>    0.008</td> <td>    3.266</td> <td> 0.001</td> <td>    0.011</td> <td>    0.044</td>\n",
       "</tr>\n",
       "<tr>\n",
       "  <th>东城</th>         <td>    0.3356</td> <td>    0.004</td> <td>   79.050</td> <td> 0.000</td> <td>    0.327</td> <td>    0.344</td>\n",
       "</tr>\n",
       "<tr>\n",
       "  <th>丰台</th>         <td>   -0.0780</td> <td>    0.004</td> <td>  -18.770</td> <td> 0.000</td> <td>   -0.086</td> <td>   -0.070</td>\n",
       "</tr>\n",
       "<tr>\n",
       "  <th>朝阳</th>         <td>    0.0835</td> <td>    0.004</td> <td>   19.654</td> <td> 0.000</td> <td>    0.075</td> <td>    0.092</td>\n",
       "</tr>\n",
       "<tr>\n",
       "  <th>海淀</th>         <td>    0.3098</td> <td>    0.004</td> <td>   74.421</td> <td> 0.000</td> <td>    0.302</td> <td>    0.318</td>\n",
       "</tr>\n",
       "<tr>\n",
       "  <th>石景山</th>        <td>   -0.1221</td> <td>    0.005</td> <td>  -24.925</td> <td> 0.000</td> <td>   -0.132</td> <td>   -0.113</td>\n",
       "</tr>\n",
       "<tr>\n",
       "  <th>西城</th>         <td>    0.5048</td> <td>    0.004</td> <td>  116.403</td> <td> 0.000</td> <td>    0.496</td> <td>    0.513</td>\n",
       "</tr>\n",
       "<tr>\n",
       "  <th>high</th>       <td>    0.3246</td> <td>    0.003</td> <td>   96.105</td> <td> 0.000</td> <td>    0.318</td> <td>    0.331</td>\n",
       "</tr>\n",
       "<tr>\n",
       "  <th>low</th>        <td>    0.3584</td> <td>    0.003</td> <td>  106.472</td> <td> 0.000</td> <td>    0.352</td> <td>    0.365</td>\n",
       "</tr>\n",
       "<tr>\n",
       "  <th>middle</th>     <td>    0.3505</td> <td>    0.003</td> <td>  106.896</td> <td> 0.000</td> <td>    0.344</td> <td>    0.357</td>\n",
       "</tr>\n",
       "</table>\n",
       "<table class=\"simpletable\">\n",
       "<tr>\n",
       "  <th>Omnibus:</th>       <td>143.569</td> <th>  Durbin-Watson:     </th> <td>   1.390</td>\n",
       "</tr>\n",
       "<tr>\n",
       "  <th>Prob(Omnibus):</th> <td> 0.000</td>  <th>  Jarque-Bera (JB):  </th> <td> 225.271</td>\n",
       "</tr>\n",
       "<tr>\n",
       "  <th>Skew:</th>          <td>-0.057</td>  <th>  Prob(JB):          </th> <td>1.21e-49</td>\n",
       "</tr>\n",
       "<tr>\n",
       "  <th>Kurtosis:</th>      <td> 3.566</td>  <th>  Cond. No.          </th> <td>4.69e+17</td>\n",
       "</tr>\n",
       "</table><br/><br/>Notes:<br/>[1] Standard Errors assume that the covariance matrix of the errors is correctly specified.<br/>[2] The smallest eigenvalue is 7.62e-28. This might indicate that there are<br/>strong multicollinearity problems or that the design matrix is singular."
      ],
      "text/plain": [
       "<class 'statsmodels.iolib.summary.Summary'>\n",
       "\"\"\"\n",
       "                            OLS Regression Results                            \n",
       "==============================================================================\n",
       "Dep. Variable:                  price   R-squared:                       0.608\n",
       "Model:                            OLS   Adj. R-squared:                  0.608\n",
       "Method:                 Least Squares   F-statistic:                     2095.\n",
       "Date:                Thu, 21 Oct 2021   Prob (F-statistic):               0.00\n",
       "Time:                        10:55:27   Log-Likelihood:                 977.77\n",
       "No. Observations:               16210   AIC:                            -1930.\n",
       "Df Residuals:                   16197   BIC:                            -1830.\n",
       "Df Model:                          12                                         \n",
       "Covariance Type:            nonrobust                                         \n",
       "==============================================================================\n",
       "                 coef    std err          t      P>|t|      [0.025      0.975]\n",
       "------------------------------------------------------------------------------\n",
       "const          1.0335      0.007    158.712      0.000       1.021       1.046\n",
       "bedrooms       0.0141      0.003      4.358      0.000       0.008       0.020\n",
       "AREA          -0.0004      6e-05     -5.842      0.000      -0.000      -0.000\n",
       "subway         0.1282      0.005     25.963      0.000       0.118       0.138\n",
       "school         0.1719      0.004     38.772      0.000       0.163       0.181\n",
       "have_halls     0.0275      0.008      3.266      0.001       0.011       0.044\n",
       "东城             0.3356      0.004     79.050      0.000       0.327       0.344\n",
       "丰台            -0.0780      0.004    -18.770      0.000      -0.086      -0.070\n",
       "朝阳             0.0835      0.004     19.654      0.000       0.075       0.092\n",
       "海淀             0.3098      0.004     74.421      0.000       0.302       0.318\n",
       "石景山           -0.1221      0.005    -24.925      0.000      -0.132      -0.113\n",
       "西城             0.5048      0.004    116.403      0.000       0.496       0.513\n",
       "high           0.3246      0.003     96.105      0.000       0.318       0.331\n",
       "low            0.3584      0.003    106.472      0.000       0.352       0.365\n",
       "middle         0.3505      0.003    106.896      0.000       0.344       0.357\n",
       "==============================================================================\n",
       "Omnibus:                      143.569   Durbin-Watson:                   1.390\n",
       "Prob(Omnibus):                  0.000   Jarque-Bera (JB):              225.271\n",
       "Skew:                          -0.057   Prob(JB):                     1.21e-49\n",
       "Kurtosis:                       3.566   Cond. No.                     4.69e+17\n",
       "==============================================================================\n",
       "\n",
       "Notes:\n",
       "[1] Standard Errors assume that the covariance matrix of the errors is correctly specified.\n",
       "[2] The smallest eigenvalue is 7.62e-28. This might indicate that there are\n",
       "strong multicollinearity problems or that the design matrix is singular.\n",
       "\"\"\""
      ]
     },
     "execution_count": 62,
     "metadata": {},
     "output_type": "execute_result"
    }
   ],
   "source": [
    "# 考察模型参数：\n",
    "\n",
    "result.summary()"
   ]
  },
  {
   "cell_type": "code",
   "execution_count": 63,
   "metadata": {},
   "outputs": [
    {
     "data": {
      "text/plain": [
       "const         1.033651\n",
       "bedrooms      0.014269\n",
       "AREA         -0.000353\n",
       "subway        0.125698\n",
       "school        0.087801\n",
       "have_halls    0.027093\n",
       "东城            0.329288\n",
       "丰台           -0.074379\n",
       "朝阳            0.101031\n",
       "海淀            0.294769\n",
       "石景山          -0.117369\n",
       "西城            0.500312\n",
       "high          0.324311\n",
       "low           0.358644\n",
       "middle        0.350696\n",
       "丰台_学区         0.026998\n",
       "朝阳_学区         0.010161\n",
       "东城_学区         0.102767\n",
       "海淀_学区         0.119795\n",
       "石景山_学区       -0.267849\n",
       "西城_学区         0.095928\n",
       "dtype: float64"
      ]
     },
     "execution_count": 63,
     "metadata": {},
     "output_type": "execute_result"
    }
   ],
   "source": [
    "# 6.5.4 建立新的交叉对数模型\n",
    "import copy\n",
    "\n",
    "X2 = copy.deepcopy(X)\n",
    "\n",
    "X2['丰台_学区'] = X2['丰台']*X2['school']\n",
    "X2['朝阳_学区'] = X2['朝阳']*X2['school']\n",
    "X2['东城_学区'] = X2['东城']*X2['school']\n",
    "X2['海淀_学区'] = X2['海淀']*X2['school']\n",
    "X2['石景山_学区'] = X2['石景山']*X2['school']\n",
    "X2['西城_学区'] = X2['西城']*X2['school']\n",
    "\n",
    "# 对数房价、城区/学区交叉项回归模型\n",
    "model = sm.OLS(y_log, X2)\n",
    "result = model.fit()\n",
    "residus = result.resid\n",
    "result.params"
   ]
  },
  {
   "cell_type": "code",
   "execution_count": 64,
   "metadata": {},
   "outputs": [
    {
     "data": {
      "text/plain": [
       "<matplotlib.collections.PathCollection at 0x22dd3d1fca0>"
      ]
     },
     "execution_count": 64,
     "metadata": {},
     "output_type": "execute_result"
    },
    {
     "data": {
      "image/png": "[encoded data removed]",
      "text/plain": [
       "<Figure size 432x288 with 1 Axes>"
      ]
     },
     "metadata": {
      "needs_background": "light"
     },
     "output_type": "display_data"
    }
   ],
   "source": [
    "# 6.5.5 验证交叉对数模型是否正确\n",
    "\n",
    "plt.title('Residuals VS Fitted')\n",
    "plt.xlabel('Fitted Values')\n",
    "plt.ylabel('Residuals')\n",
    "plt.scatter(y_hat, residuals)"
   ]
  },
  {
   "cell_type": "code",
   "execution_count": 65,
   "metadata": {},
   "outputs": [
    {
     "data": {
      "text/plain": [
       "<matplotlib.collections.PathCollection at 0x22dd3cdd6a0>"
      ]
     },
     "execution_count": 65,
     "metadata": {},
     "output_type": "execute_result"
    },
    {
     "data": {
      "image/png": "[encoded data removed]",
      "text/plain": [
       "<Figure size 432x288 with 1 Axes>"
      ]
     },
     "metadata": {
      "needs_background": "light"
     },
     "output_type": "display_data"
    }
   ],
   "source": [
    "# 6.5.6 验证房价是否是正太分布\n",
    "\n",
    "\n",
    "residuals_n = (residuals-np.mean(residuals))/np.std(residuals)\n",
    "sorted_ = np.sort(residuals_n)\n",
    "yvals = np.arange(len(sorted_))/float(len(sorted_))\n",
    "x_label = stats.norm.ppf(yvals)\n",
    "\n",
    "plt.title('Normal Q-Q')\n",
    "plt.xlabel('Theoretical Quantiles')\n",
    "plt.ylabel('Standardized residuals')\n",
    "plt.scatter(x_label, sorted_)"
   ]
  },
  {
   "cell_type": "code",
   "execution_count": 66,
   "metadata": {},
   "outputs": [
    {
     "data": {
      "text/plain": [
       "<matplotlib.collections.PathCollection at 0x22dd34d8a00>"
      ]
     },
     "execution_count": 66,
     "metadata": {},
     "output_type": "execute_result"
    },
    {
     "data": {
      "image/png": "[encoded data removed]",
      "text/plain": [
       "<Figure size 432x288 with 1 Axes>"
      ]
     },
     "metadata": {
      "needs_background": "light"
     },
     "output_type": "display_data"
    }
   ],
   "source": [
    "# 6.5.7 取平方根，除去符号影响重新验证模型是否符合线性模型\n",
    "\n",
    "residuals_sq = np.sqrt(abs(residuals_n))\n",
    "\n",
    "plt.title('Scale-Location')\n",
    "plt.xlabel('Fitted Values')\n",
    "plt.ylabel('sqrt(Standardized residuals)')\n",
    "plt.scatter(y_hat, residuals_sq)"
   ]
  },
  {
   "cell_type": "code",
   "execution_count": 67,
   "metadata": {},
   "outputs": [
    {
     "data": {
      "text/plain": [
       "[<matplotlib.lines.Line2D at 0x22dd3d20a30>]"
      ]
     },
     "execution_count": 67,
     "metadata": {},
     "output_type": "execute_result"
    },
    {
     "data": {
      "image/png": "[encoded data removed]",
      "text/plain": [
       "<Figure size 432x288 with 1 Axes>"
      ]
     },
     "metadata": {
      "needs_background": "light"
     },
     "output_type": "display_data"
    }
   ],
   "source": [
    "n = len(y)\n",
    "y_m = np.mean(y)\n",
    "Lyy = np.sum((y-y_m)**2)\n",
    "Hii = 1/n+(y-y_m)**2/Lyy\n",
    "\n",
    "plt.title(\"Cook's distance\")\n",
    "plt.xlabel('Obs number')\n",
    "plt.ylabel(\"Cook's distance\")\n",
    "plt.plot(Hii.tolist())"
   ]
  },
  {
   "cell_type": "code",
   "execution_count": 68,
   "metadata": {},
   "outputs": [
    {
     "name": "stdout",
     "output_type": "stream",
     "text": [
      "房价预测值为：9.28 万元/平方米\n",
      "房价预测值为：788.67 万元\n"
     ]
    }
   ],
   "source": [
    "# 假设需要在西城区买一套临近地铁的学区房，面积85平米。大概需要多少钱。\n",
    "\n",
    "house_new = [1, 2, 85, 1, 1, 1, 0, 0, 0, 0, 0, 1, 0, 1, 0, 0, 0, 0, 0, 0, 1]\n",
    "price_new = np.exp(result.predict(house_new))\n",
    "# 单价\n",
    "price_new\n",
    "print('房价预测值为：%.2f' % price_new, '万元/平方米')\n",
    "print('房价预测值为：%.2f' % (85*price_new), '万元')"
   ]
  },
  {
   "cell_type": "code",
   "execution_count": null,
   "metadata": {},
   "outputs": [],
   "source": []
  }
 ],
 "metadata": {
  "interpreter": {
   "hash": "95ab7303ed2746327945aa376054eddca8c4eca362915ff95db932dbe7e7ee41"
  },
  "kernelspec": {
   "display_name": "Python 3.8.8 64-bit",
   "name": "python3"
  },
  "language_info": {
   "codemirror_mode": {
    "name": "ipython",
    "version": 3
   },
   "file_extension": ".py",
   "mimetype": "text/x-python",
   "name": "python",
   "nbconvert_exporter": "python",
   "pygments_lexer": "ipython3",
   "version": "3.8.8"
  }
 },
 "nbformat": 4,
 "nbformat_minor": 2
}
