{
 "cells": [
  {
   "cell_type": "code",
   "execution_count": 1,
   "metadata": {},
   "outputs": [
    {
     "data": {
      "text/html": [
       "<div>\n",
       "<style scoped>\n",
       "    .dataframe tbody tr th:only-of-type {\n",
       "        vertical-align: middle;\n",
       "    }\n",
       "\n",
       "    .dataframe tbody tr th {\n",
       "        vertical-align: top;\n",
       "    }\n",
       "\n",
       "    .dataframe thead th {\n",
       "        text-align: right;\n",
       "    }\n",
       "</style>\n",
       "<table border=\"1\" class=\"dataframe\">\n",
       "  <thead>\n",
       "    <tr style=\"text-align: right;\">\n",
       "      <th></th>\n",
       "      <th>店铺ID</th>\n",
       "      <th>店铺名</th>\n",
       "      <th>开始时间</th>\n",
       "      <th>地区名</th>\n",
       "      <th>销售额</th>\n",
       "    </tr>\n",
       "  </thead>\n",
       "  <tbody>\n",
       "    <tr>\n",
       "      <th>0</th>\n",
       "      <td>3d8ab846-7725-11ea-98c9-525400c74cae</td>\n",
       "      <td>1+7水饺店(金科世界城店)</td>\n",
       "      <td>2019-01-01</td>\n",
       "      <td>滨湖区</td>\n",
       "      <td>313.5</td>\n",
       "    </tr>\n",
       "    <tr>\n",
       "      <th>1</th>\n",
       "      <td>3d8ab846-7725-11ea-98c9-525400c74cae</td>\n",
       "      <td>1+7水饺店(金科世界城店)</td>\n",
       "      <td>2019-02-01</td>\n",
       "      <td>滨湖区</td>\n",
       "      <td>376.2</td>\n",
       "    </tr>\n",
       "    <tr>\n",
       "      <th>2</th>\n",
       "      <td>3d8ab846-7725-11ea-98c9-525400c74cae</td>\n",
       "      <td>1+7水饺店(金科世界城店)</td>\n",
       "      <td>2019-03-01</td>\n",
       "      <td>滨湖区</td>\n",
       "      <td>501.6</td>\n",
       "    </tr>\n",
       "  </tbody>\n",
       "</table>\n",
       "</div>"
      ],
      "text/plain": [
       "                                   店铺ID             店铺名        开始时间  地区名  \\\n",
       "0  3d8ab846-7725-11ea-98c9-525400c74cae  1+7水饺店(金科世界城店)  2019-01-01  滨湖区   \n",
       "1  3d8ab846-7725-11ea-98c9-525400c74cae  1+7水饺店(金科世界城店)  2019-02-01  滨湖区   \n",
       "2  3d8ab846-7725-11ea-98c9-525400c74cae  1+7水饺店(金科世界城店)  2019-03-01  滨湖区   \n",
       "\n",
       "     销售额  \n",
       "0  313.5  \n",
       "1  376.2  \n",
       "2  501.6  "
      ]
     },
     "execution_count": 1,
     "metadata": {},
     "output_type": "execute_result"
    }
   ],
   "source": [
    "import matplotlib.pyplot as plt\n",
    "import pandas as pd\n",
    "import numpy as np\n",
    "\n",
    "plt.rcParams['font.family'] = 'simhei'\n",
    "plt.rcParams['axes.unicode_minus'] = False\n",
    "\n",
    "data1 = pd.read_csv('../data/food_risk_oo.csv')\n",
    "data1.head(3)"
   ]
  },
  {
   "cell_type": "code",
   "execution_count": 2,
   "metadata": {},
   "outputs": [
    {
     "data": {
      "text/plain": [
       "(70943, 5)"
      ]
     },
     "execution_count": 2,
     "metadata": {},
     "output_type": "execute_result"
    }
   ],
   "source": [
    "data1.shape"
   ]
  },
  {
   "cell_type": "code",
   "execution_count": 3,
   "metadata": {},
   "outputs": [
    {
     "data": {
      "text/html": [
       "<div>\n",
       "<style scoped>\n",
       "    .dataframe tbody tr th:only-of-type {\n",
       "        vertical-align: middle;\n",
       "    }\n",
       "\n",
       "    .dataframe tbody tr th {\n",
       "        vertical-align: top;\n",
       "    }\n",
       "\n",
       "    .dataframe thead th {\n",
       "        text-align: right;\n",
       "    }\n",
       "</style>\n",
       "<table border=\"1\" class=\"dataframe\">\n",
       "  <thead>\n",
       "    <tr style=\"text-align: right;\">\n",
       "      <th></th>\n",
       "      <th>店铺ID</th>\n",
       "      <th>店铺名</th>\n",
       "      <th>开始时间</th>\n",
       "      <th>风险值</th>\n",
       "    </tr>\n",
       "  </thead>\n",
       "  <tbody>\n",
       "    <tr>\n",
       "      <th>0</th>\n",
       "      <td>3d8ab846-7725-11ea-98c9-525400c74cae</td>\n",
       "      <td>1+7水饺店(金科世界城店)</td>\n",
       "      <td>2019-01-01</td>\n",
       "      <td>0.147242</td>\n",
       "    </tr>\n",
       "    <tr>\n",
       "      <th>1</th>\n",
       "      <td>3d8ab846-7725-11ea-98c9-525400c74cae</td>\n",
       "      <td>1+7水饺店(金科世界城店)</td>\n",
       "      <td>2019-02-01</td>\n",
       "      <td>0.187812</td>\n",
       "    </tr>\n",
       "    <tr>\n",
       "      <th>2</th>\n",
       "      <td>3d8ab846-7725-11ea-98c9-525400c74cae</td>\n",
       "      <td>1+7水饺店(金科世界城店)</td>\n",
       "      <td>2019-03-01</td>\n",
       "      <td>0.313739</td>\n",
       "    </tr>\n",
       "  </tbody>\n",
       "</table>\n",
       "</div>"
      ],
      "text/plain": [
       "                                   店铺ID             店铺名        开始时间       风险值\n",
       "0  3d8ab846-7725-11ea-98c9-525400c74cae  1+7水饺店(金科世界城店)  2019-01-01  0.147242\n",
       "1  3d8ab846-7725-11ea-98c9-525400c74cae  1+7水饺店(金科世界城店)  2019-02-01  0.187812\n",
       "2  3d8ab846-7725-11ea-98c9-525400c74cae  1+7水饺店(金科世界城店)  2019-03-01  0.313739"
      ]
     },
     "execution_count": 3,
     "metadata": {},
     "output_type": "execute_result"
    }
   ],
   "source": [
    "data2 = pd.read_csv('../data/food_record.csv')\n",
    "data2.head(3)"
   ]
  },
  {
   "cell_type": "code",
   "execution_count": 4,
   "metadata": {},
   "outputs": [
    {
     "data": {
      "text/plain": [
       "(72502, 4)"
      ]
     },
     "execution_count": 4,
     "metadata": {},
     "output_type": "execute_result"
    }
   ],
   "source": [
    "data2.shape"
   ]
  },
  {
   "cell_type": "code",
   "execution_count": 5,
   "metadata": {},
   "outputs": [
    {
     "data": {
      "text/html": [
       "<div>\n",
       "<style scoped>\n",
       "    .dataframe tbody tr th:only-of-type {\n",
       "        vertical-align: middle;\n",
       "    }\n",
       "\n",
       "    .dataframe tbody tr th {\n",
       "        vertical-align: top;\n",
       "    }\n",
       "\n",
       "    .dataframe thead th {\n",
       "        text-align: right;\n",
       "    }\n",
       "</style>\n",
       "<table border=\"1\" class=\"dataframe\">\n",
       "  <thead>\n",
       "    <tr style=\"text-align: right;\">\n",
       "      <th></th>\n",
       "      <th>店铺ID</th>\n",
       "      <th>开始时间</th>\n",
       "      <th>风险值</th>\n",
       "    </tr>\n",
       "  </thead>\n",
       "  <tbody>\n",
       "    <tr>\n",
       "      <th>0</th>\n",
       "      <td>3d8ab846-7725-11ea-98c9-525400c74cae</td>\n",
       "      <td>2019-01-01</td>\n",
       "      <td>0.147242</td>\n",
       "    </tr>\n",
       "    <tr>\n",
       "      <th>1</th>\n",
       "      <td>3d8ab846-7725-11ea-98c9-525400c74cae</td>\n",
       "      <td>2019-02-01</td>\n",
       "      <td>0.187812</td>\n",
       "    </tr>\n",
       "    <tr>\n",
       "      <th>2</th>\n",
       "      <td>3d8ab846-7725-11ea-98c9-525400c74cae</td>\n",
       "      <td>2019-03-01</td>\n",
       "      <td>0.313739</td>\n",
       "    </tr>\n",
       "  </tbody>\n",
       "</table>\n",
       "</div>"
      ],
      "text/plain": [
       "                                   店铺ID        开始时间       风险值\n",
       "0  3d8ab846-7725-11ea-98c9-525400c74cae  2019-01-01  0.147242\n",
       "1  3d8ab846-7725-11ea-98c9-525400c74cae  2019-02-01  0.187812\n",
       "2  3d8ab846-7725-11ea-98c9-525400c74cae  2019-03-01  0.313739"
      ]
     },
     "execution_count": 5,
     "metadata": {},
     "output_type": "execute_result"
    }
   ],
   "source": [
    "# 降低维度\n",
    "data3 = data2[['店铺ID', '开始时间', '风险值']]\n",
    "data3.head(3)"
   ]
  },
  {
   "cell_type": "code",
   "execution_count": 6,
   "metadata": {},
   "outputs": [
    {
     "data": {
      "text/html": [
       "<div>\n",
       "<style scoped>\n",
       "    .dataframe tbody tr th:only-of-type {\n",
       "        vertical-align: middle;\n",
       "    }\n",
       "\n",
       "    .dataframe tbody tr th {\n",
       "        vertical-align: top;\n",
       "    }\n",
       "\n",
       "    .dataframe thead th {\n",
       "        text-align: right;\n",
       "    }\n",
       "</style>\n",
       "<table border=\"1\" class=\"dataframe\">\n",
       "  <thead>\n",
       "    <tr style=\"text-align: right;\">\n",
       "      <th></th>\n",
       "      <th>店铺ID</th>\n",
       "      <th>店铺名</th>\n",
       "      <th>开始时间</th>\n",
       "      <th>地区名</th>\n",
       "      <th>销售额</th>\n",
       "      <th>风险值</th>\n",
       "    </tr>\n",
       "  </thead>\n",
       "  <tbody>\n",
       "    <tr>\n",
       "      <th>0</th>\n",
       "      <td>3d8ab846-7725-11ea-98c9-525400c74cae</td>\n",
       "      <td>1+7水饺店(金科世界城店)</td>\n",
       "      <td>2019-01-01</td>\n",
       "      <td>滨湖区</td>\n",
       "      <td>313.5</td>\n",
       "      <td>0.147242</td>\n",
       "    </tr>\n",
       "    <tr>\n",
       "      <th>1</th>\n",
       "      <td>3d8ab846-7725-11ea-98c9-525400c74cae</td>\n",
       "      <td>1+7水饺店(金科世界城店)</td>\n",
       "      <td>2019-02-01</td>\n",
       "      <td>滨湖区</td>\n",
       "      <td>376.2</td>\n",
       "      <td>0.187812</td>\n",
       "    </tr>\n",
       "    <tr>\n",
       "      <th>2</th>\n",
       "      <td>3d8ab846-7725-11ea-98c9-525400c74cae</td>\n",
       "      <td>1+7水饺店(金科世界城店)</td>\n",
       "      <td>2019-03-01</td>\n",
       "      <td>滨湖区</td>\n",
       "      <td>501.6</td>\n",
       "      <td>0.313739</td>\n",
       "    </tr>\n",
       "  </tbody>\n",
       "</table>\n",
       "</div>"
      ],
      "text/plain": [
       "                                   店铺ID             店铺名        开始时间  地区名  \\\n",
       "0  3d8ab846-7725-11ea-98c9-525400c74cae  1+7水饺店(金科世界城店)  2019-01-01  滨湖区   \n",
       "1  3d8ab846-7725-11ea-98c9-525400c74cae  1+7水饺店(金科世界城店)  2019-02-01  滨湖区   \n",
       "2  3d8ab846-7725-11ea-98c9-525400c74cae  1+7水饺店(金科世界城店)  2019-03-01  滨湖区   \n",
       "\n",
       "     销售额       风险值  \n",
       "0  313.5  0.147242  \n",
       "1  376.2  0.187812  \n",
       "2  501.6  0.313739  "
      ]
     },
     "execution_count": 6,
     "metadata": {},
     "output_type": "execute_result"
    }
   ],
   "source": [
    "# 对两张数据表进行合并，以'店铺ID','开始时间'为键\n",
    "df = pd.merge(data1, data3, how='right', on=['店铺ID', '开始时间'])\n",
    "df.head(3)"
   ]
  },
  {
   "cell_type": "code",
   "execution_count": 7,
   "metadata": {},
   "outputs": [
    {
     "data": {
      "text/html": [
       "<div>\n",
       "<style scoped>\n",
       "    .dataframe tbody tr th:only-of-type {\n",
       "        vertical-align: middle;\n",
       "    }\n",
       "\n",
       "    .dataframe tbody tr th {\n",
       "        vertical-align: top;\n",
       "    }\n",
       "\n",
       "    .dataframe thead th {\n",
       "        text-align: right;\n",
       "    }\n",
       "</style>\n",
       "<table border=\"1\" class=\"dataframe\">\n",
       "  <thead>\n",
       "    <tr style=\"text-align: right;\">\n",
       "      <th></th>\n",
       "      <th>店铺名</th>\n",
       "      <th>开始时间</th>\n",
       "      <th>地区名</th>\n",
       "      <th>销售额</th>\n",
       "      <th>风险值</th>\n",
       "    </tr>\n",
       "  </thead>\n",
       "  <tbody>\n",
       "    <tr>\n",
       "      <th>0</th>\n",
       "      <td>1+7水饺店(金科世界城店)</td>\n",
       "      <td>2019-01-01</td>\n",
       "      <td>滨湖区</td>\n",
       "      <td>313.5</td>\n",
       "      <td>0.147242</td>\n",
       "    </tr>\n",
       "    <tr>\n",
       "      <th>1</th>\n",
       "      <td>1+7水饺店(金科世界城店)</td>\n",
       "      <td>2019-02-01</td>\n",
       "      <td>滨湖区</td>\n",
       "      <td>376.2</td>\n",
       "      <td>0.187812</td>\n",
       "    </tr>\n",
       "    <tr>\n",
       "      <th>2</th>\n",
       "      <td>1+7水饺店(金科世界城店)</td>\n",
       "      <td>2019-03-01</td>\n",
       "      <td>滨湖区</td>\n",
       "      <td>501.6</td>\n",
       "      <td>0.313739</td>\n",
       "    </tr>\n",
       "  </tbody>\n",
       "</table>\n",
       "</div>"
      ],
      "text/plain": [
       "              店铺名        开始时间  地区名    销售额       风险值\n",
       "0  1+7水饺店(金科世界城店)  2019-01-01  滨湖区  313.5  0.147242\n",
       "1  1+7水饺店(金科世界城店)  2019-02-01  滨湖区  376.2  0.187812\n",
       "2  1+7水饺店(金科世界城店)  2019-03-01  滨湖区  501.6  0.313739"
      ]
     },
     "execution_count": 7,
     "metadata": {},
     "output_type": "execute_result"
    }
   ],
   "source": [
    "# 删除多余列（降维）\n",
    "df = df.drop(['店铺ID'], axis=1)\n",
    "df.head(3)"
   ]
  },
  {
   "cell_type": "code",
   "execution_count": 8,
   "metadata": {},
   "outputs": [
    {
     "data": {
      "text/plain": [
       "(72502, 5)"
      ]
     },
     "execution_count": 8,
     "metadata": {},
     "output_type": "execute_result"
    }
   ],
   "source": [
    "df.shape"
   ]
  },
  {
   "cell_type": "code",
   "execution_count": 9,
   "metadata": {},
   "outputs": [
    {
     "data": {
      "text/plain": [
       "0"
      ]
     },
     "execution_count": 9,
     "metadata": {},
     "output_type": "execute_result"
    }
   ],
   "source": [
    "# 查看重复值情况\n",
    "df.duplicated().sum()"
   ]
  },
  {
   "cell_type": "code",
   "execution_count": 10,
   "metadata": {},
   "outputs": [
    {
     "data": {
      "text/plain": [
       "店铺名     1559\n",
       "开始时间       0\n",
       "地区名     1559\n",
       "销售额     1559\n",
       "风险值        0\n",
       "dtype: int64"
      ]
     },
     "execution_count": 10,
     "metadata": {},
     "output_type": "execute_result"
    }
   ],
   "source": [
    "# 查看缺失值情况\n",
    "df.isnull().sum()"
   ]
  },
  {
   "cell_type": "code",
   "execution_count": 11,
   "metadata": {},
   "outputs": [
    {
     "data": {
      "text/html": [
       "<div>\n",
       "<style scoped>\n",
       "    .dataframe tbody tr th:only-of-type {\n",
       "        vertical-align: middle;\n",
       "    }\n",
       "\n",
       "    .dataframe tbody tr th {\n",
       "        vertical-align: top;\n",
       "    }\n",
       "\n",
       "    .dataframe thead th {\n",
       "        text-align: right;\n",
       "    }\n",
       "</style>\n",
       "<table border=\"1\" class=\"dataframe\">\n",
       "  <thead>\n",
       "    <tr style=\"text-align: right;\">\n",
       "      <th></th>\n",
       "      <th>店铺名</th>\n",
       "      <th>开始时间</th>\n",
       "      <th>地区名</th>\n",
       "      <th>销售额</th>\n",
       "      <th>风险值</th>\n",
       "    </tr>\n",
       "  </thead>\n",
       "  <tbody>\n",
       "    <tr>\n",
       "      <th>0</th>\n",
       "      <td>1+7水饺店(金科世界城店)</td>\n",
       "      <td>2019-01-01</td>\n",
       "      <td>滨湖区</td>\n",
       "      <td>313.5</td>\n",
       "      <td>0.147242</td>\n",
       "    </tr>\n",
       "    <tr>\n",
       "      <th>1</th>\n",
       "      <td>1+7水饺店(金科世界城店)</td>\n",
       "      <td>2019-02-01</td>\n",
       "      <td>滨湖区</td>\n",
       "      <td>376.2</td>\n",
       "      <td>0.187812</td>\n",
       "    </tr>\n",
       "    <tr>\n",
       "      <th>2</th>\n",
       "      <td>1+7水饺店(金科世界城店)</td>\n",
       "      <td>2019-03-01</td>\n",
       "      <td>滨湖区</td>\n",
       "      <td>501.6</td>\n",
       "      <td>0.313739</td>\n",
       "    </tr>\n",
       "  </tbody>\n",
       "</table>\n",
       "</div>"
      ],
      "text/plain": [
       "              店铺名        开始时间  地区名    销售额       风险值\n",
       "0  1+7水饺店(金科世界城店)  2019-01-01  滨湖区  313.5  0.147242\n",
       "1  1+7水饺店(金科世界城店)  2019-02-01  滨湖区  376.2  0.187812\n",
       "2  1+7水饺店(金科世界城店)  2019-03-01  滨湖区  501.6  0.313739"
      ]
     },
     "execution_count": 11,
     "metadata": {},
     "output_type": "execute_result"
    }
   ],
   "source": [
    "# 删除有空值的行\n",
    "df =df.dropna()\n",
    "df.head(3)"
   ]
  },
  {
   "cell_type": "code",
   "execution_count": 12,
   "metadata": {},
   "outputs": [
    {
     "data": {
      "text/plain": [
       "(70943, 5)"
      ]
     },
     "execution_count": 12,
     "metadata": {},
     "output_type": "execute_result"
    }
   ],
   "source": [
    "df.shape"
   ]
  },
  {
   "cell_type": "code",
   "execution_count": 13,
   "metadata": {},
   "outputs": [
    {
     "data": {
      "text/html": [
       "<div>\n",
       "<style scoped>\n",
       "    .dataframe tbody tr th:only-of-type {\n",
       "        vertical-align: middle;\n",
       "    }\n",
       "\n",
       "    .dataframe tbody tr th {\n",
       "        vertical-align: top;\n",
       "    }\n",
       "\n",
       "    .dataframe thead th {\n",
       "        text-align: right;\n",
       "    }\n",
       "</style>\n",
       "<table border=\"1\" class=\"dataframe\">\n",
       "  <thead>\n",
       "    <tr style=\"text-align: right;\">\n",
       "      <th></th>\n",
       "      <th>店铺名</th>\n",
       "      <th>开始时间</th>\n",
       "      <th>地区名</th>\n",
       "      <th>销售额</th>\n",
       "      <th>风险值</th>\n",
       "    </tr>\n",
       "  </thead>\n",
       "  <tbody>\n",
       "    <tr>\n",
       "      <th>0</th>\n",
       "      <td>1+7水饺店(金科世界城店)</td>\n",
       "      <td>2019-01-01</td>\n",
       "      <td>滨湖区</td>\n",
       "      <td>313</td>\n",
       "      <td>0.147242</td>\n",
       "    </tr>\n",
       "    <tr>\n",
       "      <th>1</th>\n",
       "      <td>1+7水饺店(金科世界城店)</td>\n",
       "      <td>2019-02-01</td>\n",
       "      <td>滨湖区</td>\n",
       "      <td>376</td>\n",
       "      <td>0.187812</td>\n",
       "    </tr>\n",
       "    <tr>\n",
       "      <th>2</th>\n",
       "      <td>1+7水饺店(金科世界城店)</td>\n",
       "      <td>2019-03-01</td>\n",
       "      <td>滨湖区</td>\n",
       "      <td>501</td>\n",
       "      <td>0.313739</td>\n",
       "    </tr>\n",
       "  </tbody>\n",
       "</table>\n",
       "</div>"
      ],
      "text/plain": [
       "              店铺名        开始时间  地区名  销售额       风险值\n",
       "0  1+7水饺店(金科世界城店)  2019-01-01  滨湖区  313  0.147242\n",
       "1  1+7水饺店(金科世界城店)  2019-02-01  滨湖区  376  0.187812\n",
       "2  1+7水饺店(金科世界城店)  2019-03-01  滨湖区  501  0.313739"
      ]
     },
     "execution_count": 13,
     "metadata": {},
     "output_type": "execute_result"
    }
   ],
   "source": [
    "# 将销售额数据类型转换为整型\n",
    "df['销售额'] = df['销售额'].astype(np.int32)\n",
    "df.head(3)"
   ]
  },
  {
   "cell_type": "code",
   "execution_count": 14,
   "metadata": {},
   "outputs": [],
   "source": [
    "# 对地区名进行热编码\n",
    "# df = pd.get_dummies(df,columns=['地区名'])\n",
    "# df.head(3)"
   ]
  },
  {
   "cell_type": "code",
   "execution_count": 15,
   "metadata": {},
   "outputs": [],
   "source": [
    "# 对地区进行热编码\n",
    "\n",
    "# 取唯一值\n",
    "# city=df['地区名'].unique()\n",
    "# print(city)\n",
    "\n",
    "# dict_area = {city[i]:i+1 for i in range(len(city))}\n",
    "\n",
    "# df['area'] = df['地区名'].map(dict_area)\n",
    "# df.head()"
   ]
  },
  {
   "cell_type": "code",
   "execution_count": 16,
   "metadata": {},
   "outputs": [
    {
     "data": {
      "text/html": [
       "<div>\n",
       "<style scoped>\n",
       "    .dataframe tbody tr th:only-of-type {\n",
       "        vertical-align: middle;\n",
       "    }\n",
       "\n",
       "    .dataframe tbody tr th {\n",
       "        vertical-align: top;\n",
       "    }\n",
       "\n",
       "    .dataframe thead th {\n",
       "        text-align: right;\n",
       "    }\n",
       "</style>\n",
       "<table border=\"1\" class=\"dataframe\">\n",
       "  <thead>\n",
       "    <tr style=\"text-align: right;\">\n",
       "      <th></th>\n",
       "      <th>店铺名</th>\n",
       "      <th>开始时间</th>\n",
       "      <th>地区名</th>\n",
       "      <th>销售额</th>\n",
       "      <th>风险值</th>\n",
       "    </tr>\n",
       "  </thead>\n",
       "  <tbody>\n",
       "    <tr>\n",
       "      <th>0</th>\n",
       "      <td>1+7水饺店(金科世界城店)</td>\n",
       "      <td>1</td>\n",
       "      <td>滨湖区</td>\n",
       "      <td>313</td>\n",
       "      <td>0.147242</td>\n",
       "    </tr>\n",
       "    <tr>\n",
       "      <th>1</th>\n",
       "      <td>1+7水饺店(金科世界城店)</td>\n",
       "      <td>2</td>\n",
       "      <td>滨湖区</td>\n",
       "      <td>376</td>\n",
       "      <td>0.187812</td>\n",
       "    </tr>\n",
       "    <tr>\n",
       "      <th>2</th>\n",
       "      <td>1+7水饺店(金科世界城店)</td>\n",
       "      <td>3</td>\n",
       "      <td>滨湖区</td>\n",
       "      <td>501</td>\n",
       "      <td>0.313739</td>\n",
       "    </tr>\n",
       "  </tbody>\n",
       "</table>\n",
       "</div>"
      ],
      "text/plain": [
       "              店铺名  开始时间  地区名  销售额       风险值\n",
       "0  1+7水饺店(金科世界城店)     1  滨湖区  313  0.147242\n",
       "1  1+7水饺店(金科世界城店)     2  滨湖区  376  0.187812\n",
       "2  1+7水饺店(金科世界城店)     3  滨湖区  501  0.313739"
      ]
     },
     "execution_count": 16,
     "metadata": {},
     "output_type": "execute_result"
    }
   ],
   "source": [
    "# 利用 map()函数将日期映射为月份\n",
    "\n",
    "df['开始时间'] = df['开始时间'].map(lambda x: int(x.split('-')[1]))\n",
    "df.head(3)"
   ]
  },
  {
   "cell_type": "code",
   "execution_count": 17,
   "metadata": {},
   "outputs": [],
   "source": [
    "# 将销售额划分等级\n",
    "\n",
    "def get_type(num):\n",
    "    if int(num) >= 0 and int(num) <= 500:\n",
    "        return 1\n",
    "    elif int(num) > 500 and int(num) <= 1000:\n",
    "        return 2\n",
    "    elif int(num) > 1000 and int(num) <= 2500:\n",
    "        return 3\n",
    "    else:\n",
    "        return 4\n",
    "\n",
    "\n",
    "df['new_sale'] = df['销售额'].map(lambda x: get_type(x))"
   ]
  },
  {
   "cell_type": "code",
   "execution_count": 18,
   "metadata": {},
   "outputs": [
    {
     "data": {
      "text/html": [
       "<div>\n",
       "<style scoped>\n",
       "    .dataframe tbody tr th:only-of-type {\n",
       "        vertical-align: middle;\n",
       "    }\n",
       "\n",
       "    .dataframe tbody tr th {\n",
       "        vertical-align: top;\n",
       "    }\n",
       "\n",
       "    .dataframe thead th {\n",
       "        text-align: right;\n",
       "    }\n",
       "</style>\n",
       "<table border=\"1\" class=\"dataframe\">\n",
       "  <thead>\n",
       "    <tr style=\"text-align: right;\">\n",
       "      <th></th>\n",
       "      <th>店铺名</th>\n",
       "      <th>开始时间</th>\n",
       "      <th>地区名</th>\n",
       "      <th>销售额</th>\n",
       "      <th>风险值</th>\n",
       "      <th>new_sale</th>\n",
       "    </tr>\n",
       "  </thead>\n",
       "  <tbody>\n",
       "    <tr>\n",
       "      <th>0</th>\n",
       "      <td>1+7水饺店(金科世界城店)</td>\n",
       "      <td>1</td>\n",
       "      <td>滨湖区</td>\n",
       "      <td>313</td>\n",
       "      <td>0.147242</td>\n",
       "      <td>1</td>\n",
       "    </tr>\n",
       "    <tr>\n",
       "      <th>1</th>\n",
       "      <td>1+7水饺店(金科世界城店)</td>\n",
       "      <td>2</td>\n",
       "      <td>滨湖区</td>\n",
       "      <td>376</td>\n",
       "      <td>0.187812</td>\n",
       "      <td>1</td>\n",
       "    </tr>\n",
       "    <tr>\n",
       "      <th>2</th>\n",
       "      <td>1+7水饺店(金科世界城店)</td>\n",
       "      <td>3</td>\n",
       "      <td>滨湖区</td>\n",
       "      <td>501</td>\n",
       "      <td>0.313739</td>\n",
       "      <td>2</td>\n",
       "    </tr>\n",
       "    <tr>\n",
       "      <th>3</th>\n",
       "      <td>1+7水饺店(金科世界城店)</td>\n",
       "      <td>4</td>\n",
       "      <td>滨湖区</td>\n",
       "      <td>627</td>\n",
       "      <td>0.462676</td>\n",
       "      <td>2</td>\n",
       "    </tr>\n",
       "    <tr>\n",
       "      <th>4</th>\n",
       "      <td>1+7水饺店(金科世界城店)</td>\n",
       "      <td>5</td>\n",
       "      <td>滨湖区</td>\n",
       "      <td>752</td>\n",
       "      <td>0.523725</td>\n",
       "      <td>2</td>\n",
       "    </tr>\n",
       "  </tbody>\n",
       "</table>\n",
       "</div>"
      ],
      "text/plain": [
       "              店铺名  开始时间  地区名  销售额       风险值  new_sale\n",
       "0  1+7水饺店(金科世界城店)     1  滨湖区  313  0.147242         1\n",
       "1  1+7水饺店(金科世界城店)     2  滨湖区  376  0.187812         1\n",
       "2  1+7水饺店(金科世界城店)     3  滨湖区  501  0.313739         2\n",
       "3  1+7水饺店(金科世界城店)     4  滨湖区  627  0.462676         2\n",
       "4  1+7水饺店(金科世界城店)     5  滨湖区  752  0.523725         2"
      ]
     },
     "execution_count": 18,
     "metadata": {},
     "output_type": "execute_result"
    }
   ],
   "source": [
    "# 清洗好的数据\n",
    "df.head()"
   ]
  },
  {
   "cell_type": "code",
   "execution_count": 19,
   "metadata": {},
   "outputs": [
    {
     "data": {
      "text/plain": [
       "地区名\n",
       "宜兴市    0.382962\n",
       "新吴区    0.371382\n",
       "梁溪区    0.601527\n",
       "江阴市    0.410754\n",
       "滨湖区    0.481740\n",
       "锡山区    0.323126\n",
       "Name: 风险值, dtype: float64"
      ]
     },
     "execution_count": 19,
     "metadata": {},
     "output_type": "execute_result"
    }
   ],
   "source": [
    "# 每个地区平均风险值\n",
    "risk = df['风险值'].groupby(df['地区名']).mean()\n",
    "risk"
   ]
  },
  {
   "cell_type": "code",
   "execution_count": 20,
   "metadata": {},
   "outputs": [
    {
     "data": {
      "image/png": "[encoded data removed]",
      "text/plain": [
       "<Figure size 720x432 with 1 Axes>"
      ]
     },
     "metadata": {},
     "output_type": "display_data"
    }
   ],
   "source": [
    "city = risk.index\n",
    "value = risk.values\n",
    "\n",
    "plt.figure(figsize=(10, 6), facecolor='w')\n",
    "plt.title('每个地区平均风险值', fontsize=15)\n",
    "explode = [0.05]*len(city)\n",
    "plt.pie(value, explode, autopct='%.2f%%', shadow=True)\n",
    "plt.legend(city, bbox_to_anchor=[-0.7, 0, 0.5, 1])\n",
    "plt.show()"
   ]
  },
  {
   "cell_type": "code",
   "execution_count": 21,
   "metadata": {},
   "outputs": [
    {
     "data": {
      "text/plain": [
       "count    70943.000000\n",
       "mean      1213.428189\n",
       "std        978.963272\n",
       "min          0.000000\n",
       "25%        487.000000\n",
       "50%        901.000000\n",
       "75%       1661.500000\n",
       "max       6013.000000\n",
       "Name: 销售额, dtype: float64"
      ]
     },
     "execution_count": 21,
     "metadata": {},
     "output_type": "execute_result"
    }
   ],
   "source": [
    "df['销售额'].describe()"
   ]
  },
  {
   "cell_type": "code",
   "execution_count": 22,
   "metadata": {},
   "outputs": [
    {
     "data": {
      "text/plain": [
       "0.4919123343364579"
      ]
     },
     "execution_count": 22,
     "metadata": {},
     "output_type": "execute_result"
    }
   ],
   "source": [
    "df['风险值'].mean()"
   ]
  },
  {
   "cell_type": "code",
   "execution_count": 23,
   "metadata": {},
   "outputs": [
    {
     "data": {
      "text/html": [
       "<div>\n",
       "<style scoped>\n",
       "    .dataframe tbody tr th:only-of-type {\n",
       "        vertical-align: middle;\n",
       "    }\n",
       "\n",
       "    .dataframe tbody tr th {\n",
       "        vertical-align: top;\n",
       "    }\n",
       "\n",
       "    .dataframe thead th {\n",
       "        text-align: right;\n",
       "    }\n",
       "</style>\n",
       "<table border=\"1\" class=\"dataframe\">\n",
       "  <thead>\n",
       "    <tr style=\"text-align: right;\">\n",
       "      <th></th>\n",
       "      <th>店铺名</th>\n",
       "      <th>开始时间</th>\n",
       "      <th>销售额</th>\n",
       "      <th>风险值</th>\n",
       "      <th>new_sale</th>\n",
       "    </tr>\n",
       "    <tr>\n",
       "      <th>地区名</th>\n",
       "      <th></th>\n",
       "      <th></th>\n",
       "      <th></th>\n",
       "      <th></th>\n",
       "      <th></th>\n",
       "    </tr>\n",
       "  </thead>\n",
       "  <tbody>\n",
       "    <tr>\n",
       "      <th>宜兴市</th>\n",
       "      <td>6346</td>\n",
       "      <td>6346</td>\n",
       "      <td>6346</td>\n",
       "      <td>6346</td>\n",
       "      <td>6346</td>\n",
       "    </tr>\n",
       "    <tr>\n",
       "      <th>新吴区</th>\n",
       "      <td>9175</td>\n",
       "      <td>9175</td>\n",
       "      <td>9175</td>\n",
       "      <td>9175</td>\n",
       "      <td>9175</td>\n",
       "    </tr>\n",
       "    <tr>\n",
       "      <th>梁溪区</th>\n",
       "      <td>31616</td>\n",
       "      <td>31616</td>\n",
       "      <td>31616</td>\n",
       "      <td>31616</td>\n",
       "      <td>31616</td>\n",
       "    </tr>\n",
       "    <tr>\n",
       "      <th>江阴市</th>\n",
       "      <td>12373</td>\n",
       "      <td>12373</td>\n",
       "      <td>12373</td>\n",
       "      <td>12373</td>\n",
       "      <td>12373</td>\n",
       "    </tr>\n",
       "    <tr>\n",
       "      <th>滨湖区</th>\n",
       "      <td>7979</td>\n",
       "      <td>7979</td>\n",
       "      <td>7979</td>\n",
       "      <td>7979</td>\n",
       "      <td>7979</td>\n",
       "    </tr>\n",
       "    <tr>\n",
       "      <th>锡山区</th>\n",
       "      <td>3454</td>\n",
       "      <td>3454</td>\n",
       "      <td>3454</td>\n",
       "      <td>3454</td>\n",
       "      <td>3454</td>\n",
       "    </tr>\n",
       "  </tbody>\n",
       "</table>\n",
       "</div>"
      ],
      "text/plain": [
       "       店铺名   开始时间    销售额    风险值  new_sale\n",
       "地区名                                      \n",
       "宜兴市   6346   6346   6346   6346      6346\n",
       "新吴区   9175   9175   9175   9175      9175\n",
       "梁溪区  31616  31616  31616  31616     31616\n",
       "江阴市  12373  12373  12373  12373     12373\n",
       "滨湖区   7979   7979   7979   7979      7979\n",
       "锡山区   3454   3454   3454   3454      3454"
      ]
     },
     "execution_count": 23,
     "metadata": {},
     "output_type": "execute_result"
    }
   ],
   "source": [
    "store = df.groupby(df['地区名']).count()\n",
    "store"
   ]
  },
  {
   "cell_type": "code",
   "execution_count": 24,
   "metadata": {},
   "outputs": [
    {
     "data": {
      "text/plain": [
       "地区名\n",
       "宜兴市     1556\n",
       "新吴区     2172\n",
       "梁溪区    18868\n",
       "江阴市     3774\n",
       "滨湖区     3400\n",
       "锡山区      702\n",
       "Name: 店铺名, dtype: int64"
      ]
     },
     "execution_count": 24,
     "metadata": {},
     "output_type": "execute_result"
    }
   ],
   "source": [
    "# 筛选出风险值大于等于平均风险值的店\n",
    "high_risk_avg = df[df['风险值'] >= df['风险值'].mean()].groupby(df['地区名']).count()\n",
    "high_risk_avg['店铺名']"
   ]
  },
  {
   "cell_type": "code",
   "execution_count": 25,
   "metadata": {},
   "outputs": [
    {
     "data": {
      "text/plain": [
       "地区名\n",
       "宜兴市     4790\n",
       "新吴区     7003\n",
       "梁溪区    12748\n",
       "江阴市     8599\n",
       "滨湖区     4579\n",
       "锡山区     2752\n",
       "Name: 店铺名, dtype: int64"
      ]
     },
     "execution_count": 25,
     "metadata": {},
     "output_type": "execute_result"
    }
   ],
   "source": [
    "# 筛选出风险值小于平均风险值的店\n",
    "low_risk_avg = df[df['风险值'] < df['风险值'].mean()].groupby(df['地区名']).count()\n",
    "low_risk_avg['店铺名']"
   ]
  },
  {
   "cell_type": "code",
   "execution_count": 26,
   "metadata": {},
   "outputs": [
    {
     "data": {
      "text/plain": [
       "<function matplotlib.pyplot.show(close=None, block=None)>"
      ]
     },
     "execution_count": 26,
     "metadata": {},
     "output_type": "execute_result"
    },
    {
     "data": {
      "image/png": "[encoded data removed]",
      "text/plain": [
       "<Figure size 1152x576 with 1 Axes>"
      ]
     },
     "metadata": {
      "needs_background": "light"
     },
     "output_type": "display_data"
    }
   ],
   "source": [
    "# 筛选出风险值小于平均风险值的店\n",
    "\n",
    "x1 = high_risk_avg['店铺名'].values\n",
    "x2 = low_risk_avg['店铺名'].values\n",
    "ticks = high_risk_avg['店铺名'].index\n",
    "\n",
    "plt.figure(figsize=(16, 8))\n",
    "plt.title('高于或低于平均风险值的店铺数对比', fontsize=16)\n",
    "plt.bar(np.arange(len(x1)), x1, width=0.4, color='tomato', label='高于平均风险值')\n",
    "for x, y in enumerate(x1):\n",
    "    plt.text(x, y, y, ha='center', va='bottom')\n",
    "\n",
    "plt.bar(np.arange(len(x1))+0.4, x2, width=0.4, label='低于平均风险值')\n",
    "for x, y in enumerate(x2):\n",
    "    plt.text(x+0.4, y, y, ha='center', va='bottom')\n",
    "\n",
    "plt.xticks(np.arange(len(x1))+0.4/2, ticks)\n",
    "\n",
    "plt.grid(axis='y', ls=':', alpha=0.8)\n",
    "plt.legend(fontsize=10)\n",
    "\n",
    "plt.show"
   ]
  },
  {
   "cell_type": "code",
   "execution_count": 27,
   "metadata": {},
   "outputs": [
    {
     "data": {
      "text/html": [
       "<div>\n",
       "<style scoped>\n",
       "    .dataframe tbody tr th:only-of-type {\n",
       "        vertical-align: middle;\n",
       "    }\n",
       "\n",
       "    .dataframe tbody tr th {\n",
       "        vertical-align: top;\n",
       "    }\n",
       "\n",
       "    .dataframe thead th {\n",
       "        text-align: right;\n",
       "    }\n",
       "</style>\n",
       "<table border=\"1\" class=\"dataframe\">\n",
       "  <thead>\n",
       "    <tr style=\"text-align: right;\">\n",
       "      <th></th>\n",
       "      <th>店铺名</th>\n",
       "      <th>开始时间</th>\n",
       "      <th>地区名</th>\n",
       "      <th>销售额</th>\n",
       "      <th>风险值</th>\n",
       "      <th>new_sale</th>\n",
       "    </tr>\n",
       "  </thead>\n",
       "  <tbody>\n",
       "    <tr>\n",
       "      <th>0</th>\n",
       "      <td>1+7水饺店(金科世界城店)</td>\n",
       "      <td>1</td>\n",
       "      <td>滨湖区</td>\n",
       "      <td>313</td>\n",
       "      <td>0.147242</td>\n",
       "      <td>1</td>\n",
       "    </tr>\n",
       "    <tr>\n",
       "      <th>1</th>\n",
       "      <td>1+7水饺店(金科世界城店)</td>\n",
       "      <td>2</td>\n",
       "      <td>滨湖区</td>\n",
       "      <td>376</td>\n",
       "      <td>0.187812</td>\n",
       "      <td>1</td>\n",
       "    </tr>\n",
       "    <tr>\n",
       "      <th>2</th>\n",
       "      <td>1+7水饺店(金科世界城店)</td>\n",
       "      <td>3</td>\n",
       "      <td>滨湖区</td>\n",
       "      <td>501</td>\n",
       "      <td>0.313739</td>\n",
       "      <td>2</td>\n",
       "    </tr>\n",
       "    <tr>\n",
       "      <th>3</th>\n",
       "      <td>1+7水饺店(金科世界城店)</td>\n",
       "      <td>4</td>\n",
       "      <td>滨湖区</td>\n",
       "      <td>627</td>\n",
       "      <td>0.462676</td>\n",
       "      <td>2</td>\n",
       "    </tr>\n",
       "    <tr>\n",
       "      <th>4</th>\n",
       "      <td>1+7水饺店(金科世界城店)</td>\n",
       "      <td>5</td>\n",
       "      <td>滨湖区</td>\n",
       "      <td>752</td>\n",
       "      <td>0.523725</td>\n",
       "      <td>2</td>\n",
       "    </tr>\n",
       "    <tr>\n",
       "      <th>5</th>\n",
       "      <td>1+7水饺店(金科世界城店)</td>\n",
       "      <td>6</td>\n",
       "      <td>滨湖区</td>\n",
       "      <td>940</td>\n",
       "      <td>0.590343</td>\n",
       "      <td>2</td>\n",
       "    </tr>\n",
       "    <tr>\n",
       "      <th>6</th>\n",
       "      <td>1+7水饺店(金科世界城店)</td>\n",
       "      <td>7</td>\n",
       "      <td>滨湖区</td>\n",
       "      <td>877</td>\n",
       "      <td>0.626516</td>\n",
       "      <td>2</td>\n",
       "    </tr>\n",
       "    <tr>\n",
       "      <th>7</th>\n",
       "      <td>1+7水饺店(金科世界城店)</td>\n",
       "      <td>8</td>\n",
       "      <td>滨湖区</td>\n",
       "      <td>815</td>\n",
       "      <td>0.462147</td>\n",
       "      <td>2</td>\n",
       "    </tr>\n",
       "    <tr>\n",
       "      <th>8</th>\n",
       "      <td>1+7水饺店(金科世界城店)</td>\n",
       "      <td>9</td>\n",
       "      <td>滨湖区</td>\n",
       "      <td>689</td>\n",
       "      <td>0.431484</td>\n",
       "      <td>2</td>\n",
       "    </tr>\n",
       "    <tr>\n",
       "      <th>9</th>\n",
       "      <td>1+7水饺店(金科世界城店)</td>\n",
       "      <td>10</td>\n",
       "      <td>滨湖区</td>\n",
       "      <td>627</td>\n",
       "      <td>0.293947</td>\n",
       "      <td>2</td>\n",
       "    </tr>\n",
       "    <tr>\n",
       "      <th>10</th>\n",
       "      <td>1+7水饺店(金科世界城店)</td>\n",
       "      <td>11</td>\n",
       "      <td>滨湖区</td>\n",
       "      <td>564</td>\n",
       "      <td>0.162842</td>\n",
       "      <td>2</td>\n",
       "    </tr>\n",
       "    <tr>\n",
       "      <th>11</th>\n",
       "      <td>1+7水饺店(金科世界城店)</td>\n",
       "      <td>12</td>\n",
       "      <td>滨湖区</td>\n",
       "      <td>438</td>\n",
       "      <td>0.149233</td>\n",
       "      <td>1</td>\n",
       "    </tr>\n",
       "  </tbody>\n",
       "</table>\n",
       "</div>"
      ],
      "text/plain": [
       "               店铺名  开始时间  地区名  销售额       风险值  new_sale\n",
       "0   1+7水饺店(金科世界城店)     1  滨湖区  313  0.147242         1\n",
       "1   1+7水饺店(金科世界城店)     2  滨湖区  376  0.187812         1\n",
       "2   1+7水饺店(金科世界城店)     3  滨湖区  501  0.313739         2\n",
       "3   1+7水饺店(金科世界城店)     4  滨湖区  627  0.462676         2\n",
       "4   1+7水饺店(金科世界城店)     5  滨湖区  752  0.523725         2\n",
       "5   1+7水饺店(金科世界城店)     6  滨湖区  940  0.590343         2\n",
       "6   1+7水饺店(金科世界城店)     7  滨湖区  877  0.626516         2\n",
       "7   1+7水饺店(金科世界城店)     8  滨湖区  815  0.462147         2\n",
       "8   1+7水饺店(金科世界城店)     9  滨湖区  689  0.431484         2\n",
       "9   1+7水饺店(金科世界城店)    10  滨湖区  627  0.293947         2\n",
       "10  1+7水饺店(金科世界城店)    11  滨湖区  564  0.162842         2\n",
       "11  1+7水饺店(金科世界城店)    12  滨湖区  438  0.149233         1"
      ]
     },
     "execution_count": 27,
     "metadata": {},
     "output_type": "execute_result"
    }
   ],
   "source": [
    "r1 = df[df['店铺名'] == '1+7水饺店(金科世界城店)']\n",
    "r1"
   ]
  },
  {
   "cell_type": "code",
   "execution_count": 28,
   "metadata": {},
   "outputs": [
    {
     "data": {
      "text/plain": [
       "array(['滨湖区', '宜兴市', '锡山区', '新吴区', '江阴市', '梁溪区'], dtype=object)"
      ]
     },
     "execution_count": 28,
     "metadata": {},
     "output_type": "execute_result"
    }
   ],
   "source": [
    "# 计算每个地区，每个月的销售总和\n",
    "df['地区名'].unique()"
   ]
  },
  {
   "cell_type": "code",
   "execution_count": 29,
   "metadata": {},
   "outputs": [],
   "source": [
    "# new =df[['地区名','风险值','开始时间']].groupby(['开始时间']).sum()\n",
    "# new"
   ]
  },
  {
   "cell_type": "code",
   "execution_count": 30,
   "metadata": {},
   "outputs": [
    {
     "data": {
      "text/html": [
       "<div>\n",
       "<style scoped>\n",
       "    .dataframe tbody tr th:only-of-type {\n",
       "        vertical-align: middle;\n",
       "    }\n",
       "\n",
       "    .dataframe tbody tr th {\n",
       "        vertical-align: top;\n",
       "    }\n",
       "\n",
       "    .dataframe thead th {\n",
       "        text-align: right;\n",
       "    }\n",
       "</style>\n",
       "<table border=\"1\" class=\"dataframe\">\n",
       "  <thead>\n",
       "    <tr style=\"text-align: right;\">\n",
       "      <th></th>\n",
       "      <th></th>\n",
       "      <th>风险值</th>\n",
       "    </tr>\n",
       "    <tr>\n",
       "      <th>地区名</th>\n",
       "      <th>开始时间</th>\n",
       "      <th></th>\n",
       "    </tr>\n",
       "  </thead>\n",
       "  <tbody>\n",
       "    <tr>\n",
       "      <th rowspan=\"5\" valign=\"top\">宜兴市</th>\n",
       "      <th>1</th>\n",
       "      <td>78.279828</td>\n",
       "    </tr>\n",
       "    <tr>\n",
       "      <th>2</th>\n",
       "      <td>121.330029</td>\n",
       "    </tr>\n",
       "    <tr>\n",
       "      <th>3</th>\n",
       "      <td>150.825268</td>\n",
       "    </tr>\n",
       "    <tr>\n",
       "      <th>4</th>\n",
       "      <td>234.632625</td>\n",
       "    </tr>\n",
       "    <tr>\n",
       "      <th>5</th>\n",
       "      <td>263.471535</td>\n",
       "    </tr>\n",
       "    <tr>\n",
       "      <th>...</th>\n",
       "      <th>...</th>\n",
       "      <td>...</td>\n",
       "    </tr>\n",
       "    <tr>\n",
       "      <th rowspan=\"5\" valign=\"top\">锡山区</th>\n",
       "      <th>8</th>\n",
       "      <td>143.352491</td>\n",
       "    </tr>\n",
       "    <tr>\n",
       "      <th>9</th>\n",
       "      <td>116.948631</td>\n",
       "    </tr>\n",
       "    <tr>\n",
       "      <th>10</th>\n",
       "      <td>90.407512</td>\n",
       "    </tr>\n",
       "    <tr>\n",
       "      <th>11</th>\n",
       "      <td>56.182274</td>\n",
       "    </tr>\n",
       "    <tr>\n",
       "      <th>12</th>\n",
       "      <td>33.384316</td>\n",
       "    </tr>\n",
       "  </tbody>\n",
       "</table>\n",
       "<p>72 rows × 1 columns</p>\n",
       "</div>"
      ],
      "text/plain": [
       "                 风险值\n",
       "地区名 开始时间            \n",
       "宜兴市 1      78.279828\n",
       "    2     121.330029\n",
       "    3     150.825268\n",
       "    4     234.632625\n",
       "    5     263.471535\n",
       "...              ...\n",
       "锡山区 8     143.352491\n",
       "    9     116.948631\n",
       "    10     90.407512\n",
       "    11     56.182274\n",
       "    12     33.384316\n",
       "\n",
       "[72 rows x 1 columns]"
      ]
     },
     "execution_count": 30,
     "metadata": {},
     "output_type": "execute_result"
    }
   ],
   "source": [
    "new = df[['风险值', '地区名', '开始时间']].groupby(['地区名', '开始时间']).sum()\n",
    "new"
   ]
  },
  {
   "cell_type": "code",
   "execution_count": 31,
   "metadata": {},
   "outputs": [
    {
     "data": {
      "text/plain": [
       "地区名\n",
       "宜兴市     5685226\n",
       "新吴区     8354954\n",
       "梁溪区    46642824\n",
       "江阴市    12835625\n",
       "滨湖区     9546672\n",
       "锡山区     3018935\n",
       "Name: 销售额, dtype: int32"
      ]
     },
     "execution_count": 31,
     "metadata": {},
     "output_type": "execute_result"
    }
   ],
   "source": [
    "# 计算销售额最高的地区，每个月的风险值\n",
    "\n",
    "sale = df['销售额'].groupby(df['地区名']).sum()\n",
    "sale"
   ]
  },
  {
   "cell_type": "code",
   "execution_count": 32,
   "metadata": {},
   "outputs": [
    {
     "data": {
      "text/html": [
       "<div>\n",
       "<style scoped>\n",
       "    .dataframe tbody tr th:only-of-type {\n",
       "        vertical-align: middle;\n",
       "    }\n",
       "\n",
       "    .dataframe tbody tr th {\n",
       "        vertical-align: top;\n",
       "    }\n",
       "\n",
       "    .dataframe thead th {\n",
       "        text-align: right;\n",
       "    }\n",
       "</style>\n",
       "<table border=\"1\" class=\"dataframe\">\n",
       "  <thead>\n",
       "    <tr style=\"text-align: right;\">\n",
       "      <th></th>\n",
       "      <th>店铺名</th>\n",
       "      <th>开始时间</th>\n",
       "      <th>地区名</th>\n",
       "      <th>销售额</th>\n",
       "      <th>风险值</th>\n",
       "      <th>new_sale</th>\n",
       "    </tr>\n",
       "  </thead>\n",
       "  <tbody>\n",
       "    <tr>\n",
       "      <th>40298</th>\n",
       "      <td>N多寿司（南禅寺店）</td>\n",
       "      <td>1</td>\n",
       "      <td>梁溪区</td>\n",
       "      <td>284</td>\n",
       "      <td>0.152760</td>\n",
       "      <td>1</td>\n",
       "    </tr>\n",
       "    <tr>\n",
       "      <th>40299</th>\n",
       "      <td>N多寿司（南禅寺店）</td>\n",
       "      <td>2</td>\n",
       "      <td>梁溪区</td>\n",
       "      <td>341</td>\n",
       "      <td>0.236170</td>\n",
       "      <td>1</td>\n",
       "    </tr>\n",
       "    <tr>\n",
       "      <th>40300</th>\n",
       "      <td>N多寿司（南禅寺店）</td>\n",
       "      <td>3</td>\n",
       "      <td>梁溪区</td>\n",
       "      <td>455</td>\n",
       "      <td>0.308476</td>\n",
       "      <td>1</td>\n",
       "    </tr>\n",
       "    <tr>\n",
       "      <th>40301</th>\n",
       "      <td>N多寿司（南禅寺店）</td>\n",
       "      <td>4</td>\n",
       "      <td>梁溪区</td>\n",
       "      <td>569</td>\n",
       "      <td>0.391279</td>\n",
       "      <td>2</td>\n",
       "    </tr>\n",
       "    <tr>\n",
       "      <th>40302</th>\n",
       "      <td>N多寿司（南禅寺店）</td>\n",
       "      <td>5</td>\n",
       "      <td>梁溪区</td>\n",
       "      <td>682</td>\n",
       "      <td>0.442153</td>\n",
       "      <td>2</td>\n",
       "    </tr>\n",
       "    <tr>\n",
       "      <th>...</th>\n",
       "      <td>...</td>\n",
       "      <td>...</td>\n",
       "      <td>...</td>\n",
       "      <td>...</td>\n",
       "      <td>...</td>\n",
       "      <td>...</td>\n",
       "    </tr>\n",
       "    <tr>\n",
       "      <th>72497</th>\n",
       "      <td>龙门铁板炒饭（崇安寺步行街店）</td>\n",
       "      <td>8</td>\n",
       "      <td>梁溪区</td>\n",
       "      <td>1349</td>\n",
       "      <td>0.635473</td>\n",
       "      <td>3</td>\n",
       "    </tr>\n",
       "    <tr>\n",
       "      <th>72498</th>\n",
       "      <td>龙门铁板炒饭（崇安寺步行街店）</td>\n",
       "      <td>9</td>\n",
       "      <td>梁溪区</td>\n",
       "      <td>1141</td>\n",
       "      <td>0.549814</td>\n",
       "      <td>3</td>\n",
       "    </tr>\n",
       "    <tr>\n",
       "      <th>72499</th>\n",
       "      <td>龙门铁板炒饭（崇安寺步行街店）</td>\n",
       "      <td>10</td>\n",
       "      <td>梁溪区</td>\n",
       "      <td>1038</td>\n",
       "      <td>0.372998</td>\n",
       "      <td>3</td>\n",
       "    </tr>\n",
       "    <tr>\n",
       "      <th>72500</th>\n",
       "      <td>龙门铁板炒饭（崇安寺步行街店）</td>\n",
       "      <td>11</td>\n",
       "      <td>梁溪区</td>\n",
       "      <td>934</td>\n",
       "      <td>0.268777</td>\n",
       "      <td>2</td>\n",
       "    </tr>\n",
       "    <tr>\n",
       "      <th>72501</th>\n",
       "      <td>龙门铁板炒饭（崇安寺步行街店）</td>\n",
       "      <td>12</td>\n",
       "      <td>梁溪区</td>\n",
       "      <td>726</td>\n",
       "      <td>0.247738</td>\n",
       "      <td>2</td>\n",
       "    </tr>\n",
       "  </tbody>\n",
       "</table>\n",
       "<p>31616 rows × 6 columns</p>\n",
       "</div>"
      ],
      "text/plain": [
       "                   店铺名  开始时间  地区名   销售额       风险值  new_sale\n",
       "40298       N多寿司（南禅寺店）     1  梁溪区   284  0.152760         1\n",
       "40299       N多寿司（南禅寺店）     2  梁溪区   341  0.236170         1\n",
       "40300       N多寿司（南禅寺店）     3  梁溪区   455  0.308476         1\n",
       "40301       N多寿司（南禅寺店）     4  梁溪区   569  0.391279         2\n",
       "40302       N多寿司（南禅寺店）     5  梁溪区   682  0.442153         2\n",
       "...                ...   ...  ...   ...       ...       ...\n",
       "72497  龙门铁板炒饭（崇安寺步行街店）     8  梁溪区  1349  0.635473         3\n",
       "72498  龙门铁板炒饭（崇安寺步行街店）     9  梁溪区  1141  0.549814         3\n",
       "72499  龙门铁板炒饭（崇安寺步行街店）    10  梁溪区  1038  0.372998         3\n",
       "72500  龙门铁板炒饭（崇安寺步行街店）    11  梁溪区   934  0.268777         2\n",
       "72501  龙门铁板炒饭（崇安寺步行街店）    12  梁溪区   726  0.247738         2\n",
       "\n",
       "[31616 rows x 6 columns]"
      ]
     },
     "execution_count": 32,
     "metadata": {},
     "output_type": "execute_result"
    }
   ],
   "source": [
    "city = df[df['地区名'] == '梁溪区']\n",
    "city"
   ]
  },
  {
   "cell_type": "code",
   "execution_count": 33,
   "metadata": {},
   "outputs": [
    {
     "data": {
      "text/plain": [
       "开始时间\n",
       "1      783.921268\n",
       "2     1239.815940\n",
       "3     1504.995857\n",
       "4     1839.872309\n",
       "5     1941.557348\n",
       "6     2178.590689\n",
       "7     2125.177215\n",
       "8     2006.722730\n",
       "9     1840.365026\n",
       "10    1376.729516\n",
       "11    1234.985751\n",
       "12     945.144084\n",
       "Name: 风险值, dtype: float64"
      ]
     },
     "execution_count": 33,
     "metadata": {},
     "output_type": "execute_result"
    }
   ],
   "source": [
    "risk = city['风险值'].groupby(city['开始时间']).sum()\n",
    "risk"
   ]
  },
  {
   "cell_type": "code",
   "execution_count": 38,
   "metadata": {},
   "outputs": [
    {
     "ename": "ValueError",
     "evalue": "The number of FixedLocator locations (13), usually from a call to set_ticks, does not match the number of ticklabels (12).",
     "output_type": "error",
     "traceback": [
      "\u001b[1;31m---------------------------------------------------------------------------\u001b[0m",
      "\u001b[1;31mValueError\u001b[0m                                Traceback (most recent call last)",
      "\u001b[1;32m<ipython-input-38-91e5f57a4749>\u001b[0m in \u001b[0;36m<module>\u001b[1;34m\u001b[0m\n\u001b[0;32m      6\u001b[0m \u001b[0mplt\u001b[0m\u001b[1;33m.\u001b[0m\u001b[0mgrid\u001b[0m\u001b[1;33m(\u001b[0m\u001b[0maxis\u001b[0m\u001b[1;33m=\u001b[0m\u001b[1;34m'both'\u001b[0m\u001b[1;33m,\u001b[0m \u001b[0mls\u001b[0m\u001b[1;33m=\u001b[0m\u001b[1;34m':'\u001b[0m\u001b[1;33m)\u001b[0m\u001b[1;33m\u001b[0m\u001b[1;33m\u001b[0m\u001b[0m\n\u001b[0;32m      7\u001b[0m \u001b[1;31m# plt.xlim([0,13])\u001b[0m\u001b[1;33m\u001b[0m\u001b[1;33m\u001b[0m\u001b[1;33m\u001b[0m\u001b[0m\n\u001b[1;32m----> 8\u001b[1;33m \u001b[0mplt\u001b[0m\u001b[1;33m.\u001b[0m\u001b[0mxticks\u001b[0m\u001b[1;33m(\u001b[0m\u001b[0mnp\u001b[0m\u001b[1;33m.\u001b[0m\u001b[0marange\u001b[0m\u001b[1;33m(\u001b[0m\u001b[1;36m13\u001b[0m\u001b[1;33m)\u001b[0m\u001b[1;33m,\u001b[0m\u001b[0mrisk\u001b[0m\u001b[1;33m.\u001b[0m\u001b[0mindex\u001b[0m\u001b[1;33m)\u001b[0m\u001b[1;33m\u001b[0m\u001b[1;33m\u001b[0m\u001b[0m\n\u001b[0m\u001b[0;32m      9\u001b[0m \u001b[0mplt\u001b[0m\u001b[1;33m.\u001b[0m\u001b[0mlegend\u001b[0m\u001b[1;33m(\u001b[0m\u001b[1;33m)\u001b[0m\u001b[1;33m\u001b[0m\u001b[1;33m\u001b[0m\u001b[0m\n\u001b[0;32m     10\u001b[0m \u001b[0mplt\u001b[0m\u001b[1;33m.\u001b[0m\u001b[0mshow\u001b[0m\u001b[1;33m(\u001b[0m\u001b[1;33m)\u001b[0m\u001b[1;33m\u001b[0m\u001b[1;33m\u001b[0m\u001b[0m\n",
      "\u001b[1;32mD:\\Python38\\lib\\site-packages\\matplotlib\\pyplot.py\u001b[0m in \u001b[0;36mxticks\u001b[1;34m(ticks, labels, **kwargs)\u001b[0m\n\u001b[0;32m   1781\u001b[0m         \u001b[0mlabels\u001b[0m \u001b[1;33m=\u001b[0m \u001b[0max\u001b[0m\u001b[1;33m.\u001b[0m\u001b[0mget_xticklabels\u001b[0m\u001b[1;33m(\u001b[0m\u001b[1;33m)\u001b[0m\u001b[1;33m\u001b[0m\u001b[1;33m\u001b[0m\u001b[0m\n\u001b[0;32m   1782\u001b[0m     \u001b[1;32melse\u001b[0m\u001b[1;33m:\u001b[0m\u001b[1;33m\u001b[0m\u001b[1;33m\u001b[0m\u001b[0m\n\u001b[1;32m-> 1783\u001b[1;33m         \u001b[0mlabels\u001b[0m \u001b[1;33m=\u001b[0m \u001b[0max\u001b[0m\u001b[1;33m.\u001b[0m\u001b[0mset_xticklabels\u001b[0m\u001b[1;33m(\u001b[0m\u001b[0mlabels\u001b[0m\u001b[1;33m,\u001b[0m \u001b[1;33m**\u001b[0m\u001b[0mkwargs\u001b[0m\u001b[1;33m)\u001b[0m\u001b[1;33m\u001b[0m\u001b[1;33m\u001b[0m\u001b[0m\n\u001b[0m\u001b[0;32m   1784\u001b[0m     \u001b[1;32mfor\u001b[0m \u001b[0ml\u001b[0m \u001b[1;32min\u001b[0m \u001b[0mlabels\u001b[0m\u001b[1;33m:\u001b[0m\u001b[1;33m\u001b[0m\u001b[1;33m\u001b[0m\u001b[0m\n\u001b[0;32m   1785\u001b[0m         \u001b[0ml\u001b[0m\u001b[1;33m.\u001b[0m\u001b[0mupdate\u001b[0m\u001b[1;33m(\u001b[0m\u001b[0mkwargs\u001b[0m\u001b[1;33m)\u001b[0m\u001b[1;33m\u001b[0m\u001b[1;33m\u001b[0m\u001b[0m\n",
      "\u001b[1;32mD:\\Python38\\lib\\site-packages\\matplotlib\\axes\\_base.py\u001b[0m in \u001b[0;36mwrapper\u001b[1;34m(self, *args, **kwargs)\u001b[0m\n\u001b[0;32m     71\u001b[0m \u001b[1;33m\u001b[0m\u001b[0m\n\u001b[0;32m     72\u001b[0m         \u001b[1;32mdef\u001b[0m \u001b[0mwrapper\u001b[0m\u001b[1;33m(\u001b[0m\u001b[0mself\u001b[0m\u001b[1;33m,\u001b[0m \u001b[1;33m*\u001b[0m\u001b[0margs\u001b[0m\u001b[1;33m,\u001b[0m \u001b[1;33m**\u001b[0m\u001b[0mkwargs\u001b[0m\u001b[1;33m)\u001b[0m\u001b[1;33m:\u001b[0m\u001b[1;33m\u001b[0m\u001b[1;33m\u001b[0m\u001b[0m\n\u001b[1;32m---> 73\u001b[1;33m             \u001b[1;32mreturn\u001b[0m \u001b[0mget_method\u001b[0m\u001b[1;33m(\u001b[0m\u001b[0mself\u001b[0m\u001b[1;33m)\u001b[0m\u001b[1;33m(\u001b[0m\u001b[1;33m*\u001b[0m\u001b[0margs\u001b[0m\u001b[1;33m,\u001b[0m \u001b[1;33m**\u001b[0m\u001b[0mkwargs\u001b[0m\u001b[1;33m)\u001b[0m\u001b[1;33m\u001b[0m\u001b[1;33m\u001b[0m\u001b[0m\n\u001b[0m\u001b[0;32m     74\u001b[0m \u001b[1;33m\u001b[0m\u001b[0m\n\u001b[0;32m     75\u001b[0m         \u001b[0mwrapper\u001b[0m\u001b[1;33m.\u001b[0m\u001b[0m__module__\u001b[0m \u001b[1;33m=\u001b[0m \u001b[0mowner\u001b[0m\u001b[1;33m.\u001b[0m\u001b[0m__module__\u001b[0m\u001b[1;33m\u001b[0m\u001b[1;33m\u001b[0m\u001b[0m\n",
      "\u001b[1;32mD:\\Python38\\lib\\site-packages\\matplotlib\\_api\\deprecation.py\u001b[0m in \u001b[0;36mwrapper\u001b[1;34m(*args, **kwargs)\u001b[0m\n\u001b[0;32m    469\u001b[0m                 \u001b[1;34m\"parameter will become keyword-only %(removal)s.\"\u001b[0m\u001b[1;33m,\u001b[0m\u001b[1;33m\u001b[0m\u001b[1;33m\u001b[0m\u001b[0m\n\u001b[0;32m    470\u001b[0m                 name=name, obj_type=f\"parameter of {func.__name__}()\")\n\u001b[1;32m--> 471\u001b[1;33m         \u001b[1;32mreturn\u001b[0m \u001b[0mfunc\u001b[0m\u001b[1;33m(\u001b[0m\u001b[1;33m*\u001b[0m\u001b[0margs\u001b[0m\u001b[1;33m,\u001b[0m \u001b[1;33m**\u001b[0m\u001b[0mkwargs\u001b[0m\u001b[1;33m)\u001b[0m\u001b[1;33m\u001b[0m\u001b[1;33m\u001b[0m\u001b[0m\n\u001b[0m\u001b[0;32m    472\u001b[0m \u001b[1;33m\u001b[0m\u001b[0m\n\u001b[0;32m    473\u001b[0m     \u001b[1;32mreturn\u001b[0m \u001b[0mwrapper\u001b[0m\u001b[1;33m\u001b[0m\u001b[1;33m\u001b[0m\u001b[0m\n",
      "\u001b[1;32mD:\\Python38\\lib\\site-packages\\matplotlib\\axis.py\u001b[0m in \u001b[0;36m_set_ticklabels\u001b[1;34m(self, labels, fontdict, minor, **kwargs)\u001b[0m\n\u001b[0;32m   1777\u001b[0m         \u001b[1;32mif\u001b[0m \u001b[0mfontdict\u001b[0m \u001b[1;32mis\u001b[0m \u001b[1;32mnot\u001b[0m \u001b[1;32mNone\u001b[0m\u001b[1;33m:\u001b[0m\u001b[1;33m\u001b[0m\u001b[1;33m\u001b[0m\u001b[0m\n\u001b[0;32m   1778\u001b[0m             \u001b[0mkwargs\u001b[0m\u001b[1;33m.\u001b[0m\u001b[0mupdate\u001b[0m\u001b[1;33m(\u001b[0m\u001b[0mfontdict\u001b[0m\u001b[1;33m)\u001b[0m\u001b[1;33m\u001b[0m\u001b[1;33m\u001b[0m\u001b[0m\n\u001b[1;32m-> 1779\u001b[1;33m         \u001b[1;32mreturn\u001b[0m \u001b[0mself\u001b[0m\u001b[1;33m.\u001b[0m\u001b[0mset_ticklabels\u001b[0m\u001b[1;33m(\u001b[0m\u001b[0mlabels\u001b[0m\u001b[1;33m,\u001b[0m \u001b[0mminor\u001b[0m\u001b[1;33m=\u001b[0m\u001b[0mminor\u001b[0m\u001b[1;33m,\u001b[0m \u001b[1;33m**\u001b[0m\u001b[0mkwargs\u001b[0m\u001b[1;33m)\u001b[0m\u001b[1;33m\u001b[0m\u001b[1;33m\u001b[0m\u001b[0m\n\u001b[0m\u001b[0;32m   1780\u001b[0m \u001b[1;33m\u001b[0m\u001b[0m\n\u001b[0;32m   1781\u001b[0m     \u001b[1;32mdef\u001b[0m \u001b[0mset_ticks\u001b[0m\u001b[1;33m(\u001b[0m\u001b[0mself\u001b[0m\u001b[1;33m,\u001b[0m \u001b[0mticks\u001b[0m\u001b[1;33m,\u001b[0m \u001b[1;33m*\u001b[0m\u001b[1;33m,\u001b[0m \u001b[0mminor\u001b[0m\u001b[1;33m=\u001b[0m\u001b[1;32mFalse\u001b[0m\u001b[1;33m)\u001b[0m\u001b[1;33m:\u001b[0m\u001b[1;33m\u001b[0m\u001b[1;33m\u001b[0m\u001b[0m\n",
      "\u001b[1;32mD:\\Python38\\lib\\site-packages\\matplotlib\\axis.py\u001b[0m in \u001b[0;36mset_ticklabels\u001b[1;34m(self, ticklabels, minor, **kwargs)\u001b[0m\n\u001b[0;32m   1698\u001b[0m             \u001b[1;31m# remove all tick labels, so only error for > 0 ticklabels\u001b[0m\u001b[1;33m\u001b[0m\u001b[1;33m\u001b[0m\u001b[1;33m\u001b[0m\u001b[0m\n\u001b[0;32m   1699\u001b[0m             \u001b[1;32mif\u001b[0m \u001b[0mlen\u001b[0m\u001b[1;33m(\u001b[0m\u001b[0mlocator\u001b[0m\u001b[1;33m.\u001b[0m\u001b[0mlocs\u001b[0m\u001b[1;33m)\u001b[0m \u001b[1;33m!=\u001b[0m \u001b[0mlen\u001b[0m\u001b[1;33m(\u001b[0m\u001b[0mticklabels\u001b[0m\u001b[1;33m)\u001b[0m \u001b[1;32mand\u001b[0m \u001b[0mlen\u001b[0m\u001b[1;33m(\u001b[0m\u001b[0mticklabels\u001b[0m\u001b[1;33m)\u001b[0m \u001b[1;33m!=\u001b[0m \u001b[1;36m0\u001b[0m\u001b[1;33m:\u001b[0m\u001b[1;33m\u001b[0m\u001b[1;33m\u001b[0m\u001b[0m\n\u001b[1;32m-> 1700\u001b[1;33m                 raise ValueError(\n\u001b[0m\u001b[0;32m   1701\u001b[0m                     \u001b[1;34m\"The number of FixedLocator locations\"\u001b[0m\u001b[1;33m\u001b[0m\u001b[1;33m\u001b[0m\u001b[0m\n\u001b[0;32m   1702\u001b[0m                     \u001b[1;34mf\" ({len(locator.locs)}), usually from a call to\"\u001b[0m\u001b[1;33m\u001b[0m\u001b[1;33m\u001b[0m\u001b[0m\n",
      "\u001b[1;31mValueError\u001b[0m: The number of FixedLocator locations (13), usually from a call to set_ticks, does not match the number of ticklabels (12)."
     ]
    },
    {
     "data": {
      "image/png": "[encoded data removed]",
      "text/plain": [
       "<Figure size 864x432 with 1 Axes>"
      ]
     },
     "metadata": {
      "needs_background": "light"
     },
     "output_type": "display_data"
    }
   ],
   "source": [
    "plt.figure(figsize=(12, 6))\n",
    "plt.title('梁溪区月风险值变换', fontsize=13)\n",
    "plt.plot(risk.index, risk.values, 'o-', label='梁溪区')\n",
    "for x, y in enumerate(risk.values):\n",
    "    plt.text(x+0.3, y, y.round(1))\n",
    "plt.grid(axis='both', ls=':')\n",
    "plt.xticks(np.arange(13),risk.index)\n",
    "plt.legend()\n",
    "plt.show()"
   ]
  },
  {
   "cell_type": "code",
   "execution_count": 35,
   "metadata": {},
   "outputs": [
    {
     "data": {
      "text/plain": [
       "地区名\n",
       "宜兴市     47\n",
       "新吴区     69\n",
       "梁溪区    388\n",
       "江阴市    106\n",
       "滨湖区     79\n",
       "锡山区     25\n",
       "Name: 销售额, dtype: int32"
      ]
     },
     "execution_count": 35,
     "metadata": {},
     "output_type": "execute_result"
    }
   ],
   "source": [
    "# 计算每个地区的平均月销售额\n",
    "new_df = df[['地区名', '销售额']]\n",
    "df1 = new_df.groupby(df['地区名']).sum()\n",
    "df2 = df1['销售额']/12/10000\n",
    "df2.astype(np.int32)"
   ]
  },
  {
   "cell_type": "code",
   "execution_count": 36,
   "metadata": {},
   "outputs": [
    {
     "data": {
      "image/png": "[encoded data removed]",
      "text/plain": [
       "<Figure size 864x432 with 1 Axes>"
      ]
     },
     "metadata": {
      "needs_background": "light"
     },
     "output_type": "display_data"
    }
   ],
   "source": [
    "plt.figure(figsize=(12, 6))\n",
    "plt.title('计算每个地区的平均月销售额', fontsize=15)\n",
    "plt.barh(df2.index, df2.values, color='c', label='万元')\n",
    "for x, y in enumerate(df2.values):\n",
    "    plt.text(y, x, y.round(2))\n",
    "plt.legend()\n",
    "plt.show()"
   ]
  },
  {
   "cell_type": "code",
   "execution_count": null,
   "metadata": {},
   "outputs": [],
   "source": []
  }
 ],
 "metadata": {
  "interpreter": {
   "hash": "95ab7303ed2746327945aa376054eddca8c4eca362915ff95db932dbe7e7ee41"
  },
  "kernelspec": {
   "display_name": "Python 3.8.8 64-bit",
   "name": "python3"
  },
  "language_info": {
   "codemirror_mode": {
    "name": "ipython",
    "version": 3
   },
   "file_extension": ".py",
   "mimetype": "text/x-python",
   "name": "python",
   "nbconvert_exporter": "python",
   "pygments_lexer": "ipython3",
   "version": "3.8.8"
  }
 },
 "nbformat": 4,
 "nbformat_minor": 2
}
